{
 "cells": [
  {
   "cell_type": "code",
   "execution_count": null,
   "id": "initial_id",
   "metadata": {
    "collapsed": true
   },
   "outputs": [],
   "source": [
    "import matplotlib.pyplot as plt\n",
    "import numpy as np\n",
    "import pandas as pd\n",
    "import seaborn as sns\n",
    "import missingno as msno\n",
    "\n",
    "from core.src.constants import CORE_FORMATTED_CSV, ROCAR_CSV"
   ]
  },
  {
   "cell_type": "code",
   "outputs": [],
   "source": [
    "sns.set(rc={\"figure.figsize\": (10, 10)})\n",
    "plt.figure(figsize=(10, 8))\n",
    "df = pd.read_csv(CORE_FORMATTED_CSV)"
   ],
   "metadata": {
    "collapsed": false
   },
   "id": "4c35989c4154afc3",
   "execution_count": null
  },
  {
   "cell_type": "code",
   "outputs": [],
   "source": [
    "msno.matrix(df)"
   ],
   "metadata": {
    "collapsed": false
   },
   "id": "b3528099b97882cb",
   "execution_count": null
  },
  {
   "cell_type": "code",
   "outputs": [],
   "source": [
    "msno.bar(df)"
   ],
   "metadata": {
    "collapsed": false
   },
   "id": "8a66481249bba47f",
   "execution_count": null
  },
  {
   "cell_type": "code",
   "outputs": [],
   "source": [
    "def plot_distribution_on_categorised_columns(df):\n",
    "    columns = [\n",
    "        \"marca\",\n",
    "        \"cutie de viteze\",\n",
    "        \"tip caroserie\",\n",
    "        \"stare\",\n",
    "        \"combustibil\",\n",
    "    ]\n",
    "\n",
    "    for column in columns:\n",
    "        print(f\"{column}: {df[column].value_counts(dropna=False)}\")\n",
    "        plt.figure(figsize=(10, 8))\n",
    "        sns.countplot(x=column, data=df, order=df[column].value_counts().index)\n",
    "        plt.xticks(rotation=90)\n",
    "        plt.show()\n",
    "\n",
    "\n",
    "plot_distribution_on_categorised_columns(df)"
   ],
   "metadata": {
    "collapsed": false
   },
   "id": "a0ec49de523d0c83",
   "execution_count": null
  },
  {
   "cell_type": "code",
   "outputs": [],
   "source": [
    "df[\"price_bin\"] = pd.cut(df[\"price\"], bins=np.arange(0, df[\"price\"].max() + 20000, 20000),\n",
    "                         labels=np.arange(0, df[\"price\"].max(), 20000))\n",
    "\n",
    "plt.figure(figsize=(10, 8))\n",
    "sns.countplot(x=\"price_bin\", data=df, order=df[\"price_bin\"].value_counts().index)\n",
    "plt.xticks(rotation=90)\n",
    "plt.show()"
   ],
   "metadata": {
    "collapsed": false
   },
   "id": "63fcfdf8ab2e299a",
   "execution_count": null
  },
  {
   "cell_type": "code",
   "outputs": [],
   "source": [
    "# remove outliers that are above 100k\n",
    "df = df[df[\"price\"] <= 100000]\n",
    "\n",
    "# plot the distribution again but with 5k bins\n",
    "df[\"price_bin\"] = pd.cut(df[\"price\"], bins=np.arange(0, df[\"price\"].max() + 5000, 5000),\n",
    "                         labels=np.arange(0, df[\"price\"].max(), 5000))\n",
    "\n",
    "plt.figure(figsize=(10, 8))\n",
    "sns.countplot(x=\"price_bin\", data=df, order=df[\"price_bin\"].value_counts().index)\n",
    "plt.xticks(rotation=90)\n",
    "plt.show()"
   ],
   "metadata": {
    "collapsed": false
   },
   "id": "905cfbceff3e13e4",
   "execution_count": null
  },
  {
   "cell_type": "code",
   "outputs": [],
   "source": [
    "def save_df_to_csv(df, path):\n",
    "    df.to_csv(path, index=False)\n",
    "\n",
    "\n",
    "save_df_to_csv(df, ROCAR_CSV)"
   ],
   "metadata": {
    "collapsed": false
   },
   "id": "ef32994f9922131d",
   "execution_count": null
  },
  {
   "cell_type": "code",
   "outputs": [],
   "source": [
    "print(len(df))"
   ],
   "metadata": {
    "collapsed": false
   },
   "id": "c29e8b5a2f9d622f",
   "execution_count": null
  },
  {
   "cell_type": "code",
   "outputs": [],
   "source": [],
   "metadata": {
    "collapsed": false
   },
   "id": "9274f995888eb669",
   "execution_count": null
  }
 ],
 "metadata": {
  "kernelspec": {
   "display_name": "Python 3",
   "language": "python",
   "name": "python3"
  },
  "language_info": {
   "codemirror_mode": {
    "name": "ipython",
    "version": 2
   },
   "file_extension": ".py",
   "mimetype": "text/x-python",
   "name": "python",
   "nbconvert_exporter": "python",
   "pygments_lexer": "ipython2",
   "version": "2.7.6"
  }
 },
 "nbformat": 4,
 "nbformat_minor": 5
}
