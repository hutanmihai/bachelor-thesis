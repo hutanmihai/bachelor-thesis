{
 "cells": [
  {
   "cell_type": "code",
   "execution_count": null,
   "id": "initial_id",
   "metadata": {
    "collapsed": true
   },
   "outputs": [],
   "source": [
    "import matplotlib.pyplot as plt\n",
    "import numpy as np\n",
    "import pandas as pd\n",
    "import seaborn as sns\n",
    "import missingno as msno\n",
    "\n",
    "from core.src.constants import CORE_FORMATTED_CSV, ROCAR_CSV"
   ]
  },
  {
   "cell_type": "code",
   "outputs": [],
   "source": [
    "sns.set(rc={\"figure.figsize\": (10, 10)})\n",
    "plt.figure(figsize=(10, 8))\n",
    "df = pd.read_csv(\n",
    "    CORE_FORMATTED_CSV,\n",
    "    dtype={\n",
    "        \"unique_id\": str,\n",
    "        \"price\": int,\n",
    "        \"marca\": str,\n",
    "        \"model\": str,\n",
    "        \"anul producției\": int,\n",
    "        \"km\": int,\n",
    "        \"putere\": int,\n",
    "        \"capacitate cilindrica\": int,\n",
    "        \"combustibil\": str,\n",
    "        \"tip caroserie\": str,\n",
    "        \"is_automatic\": bool,\n",
    "        \"firma\": bool,\n",
    "        \"transmisie\": str,\n",
    "        \"input\": str,\n",
    "    },\n",
    ")"
   ],
   "metadata": {
    "collapsed": false
   },
   "id": "4c35989c4154afc3",
   "execution_count": null
  },
  {
   "cell_type": "code",
   "outputs": [],
   "source": [
    "df.dtypes"
   ],
   "metadata": {
    "collapsed": false
   },
   "id": "15f07941f5453ad9",
   "execution_count": null
  },
  {
   "cell_type": "code",
   "outputs": [],
   "source": [
    "msno.bar(df)"
   ],
   "metadata": {
    "collapsed": false
   },
   "id": "8a66481249bba47f",
   "execution_count": null
  },
  {
   "cell_type": "code",
   "outputs": [],
   "source": [
    "CATEGORICAL_COLUMNS = [\n",
    "    \"marca\",\n",
    "    \"combustibil\",\n",
    "    \"tip caroserie\",\n",
    "    \"is_automatic\",\n",
    "    \"firma\",\n",
    "    \"transmisie\",\n",
    "    \"anul producției\",\n",
    "]"
   ],
   "metadata": {
    "collapsed": false
   },
   "id": "a2eb5c6a9f22e300",
   "execution_count": null
  },
  {
   "cell_type": "code",
   "outputs": [],
   "source": [
    "def plot_distribution_on_categorised_columns(df):\n",
    "    for column in CATEGORICAL_COLUMNS:\n",
    "        print(f\"{column}: {df[column].value_counts(dropna=False)}\")\n",
    "        plt.figure(figsize=(10, 8))\n",
    "        sns.countplot(x=column, data=df, order=df[column].value_counts().index)\n",
    "        plt.xticks(rotation=90)\n",
    "        plt.show()\n",
    "\n",
    "\n",
    "plot_distribution_on_categorised_columns(df)"
   ],
   "metadata": {
    "collapsed": false
   },
   "id": "a0ec49de523d0c83",
   "execution_count": null
  },
  {
   "cell_type": "code",
   "outputs": [],
   "source": [
    "df[\"price_bin\"] = pd.cut(\n",
    "    df[\"price\"],\n",
    "    bins=np.arange(0, df[\"price\"].max() + 20000, 20000),\n",
    "    labels=np.arange(0, df[\"price\"].max(), 20000),\n",
    ")\n",
    "\n",
    "plt.figure(figsize=(10, 8))\n",
    "sns.countplot(x=\"price_bin\", data=df, order=df[\"price_bin\"].value_counts().index)\n",
    "plt.xticks(rotation=90)\n",
    "plt.show()"
   ],
   "metadata": {
    "collapsed": false
   },
   "id": "63fcfdf8ab2e299a",
   "execution_count": null
  },
  {
   "cell_type": "code",
   "outputs": [],
   "source": [
    "# remove outliers that are above 100k\n",
    "df = df[df[\"price\"] <= 100000]\n",
    "\n",
    "# plot the distribution again but with 5k bins\n",
    "df[\"price_bin\"] = pd.cut(\n",
    "    df[\"price\"],\n",
    "    bins=np.arange(0, df[\"price\"].max() + 5000, 5000),\n",
    "    labels=np.arange(0, df[\"price\"].max(), 5000),\n",
    ")\n",
    "\n",
    "plt.figure(figsize=(10, 8))\n",
    "sns.countplot(x=\"price_bin\", data=df, order=df[\"price_bin\"].value_counts().index)\n",
    "plt.xticks(rotation=90)\n",
    "plt.show()"
   ],
   "metadata": {
    "collapsed": false
   },
   "id": "905cfbceff3e13e4",
   "execution_count": null
  },
  {
   "cell_type": "code",
   "outputs": [],
   "source": [
    "df.to_csv(ROCAR_CSV, index=False)"
   ],
   "metadata": {
    "collapsed": false
   },
   "id": "ef32994f9922131d",
   "execution_count": null
  },
  {
   "cell_type": "markdown",
   "source": [
    "## Plot the distribution of the price related to the categorical columns"
   ],
   "metadata": {
    "collapsed": false
   },
   "id": "1db54d630e232e48"
  },
  {
   "cell_type": "code",
   "outputs": [],
   "source": [
    "for column in CATEGORICAL_COLUMNS:\n",
    "    plt.figure(figsize=(10, 8))\n",
    "    sns.boxplot(x=column, y=\"price\", data=df)\n",
    "    plt.xticks(rotation=90)\n",
    "    plt.show()"
   ],
   "metadata": {
    "collapsed": false
   },
   "id": "4b8ab7d62cd90d7e",
   "execution_count": null
  },
  {
   "cell_type": "code",
   "outputs": [],
   "source": [
    "# show the distribution of km related to price, binned in 40k intervals\n",
    "df[\"km_bin\"] = pd.cut(\n",
    "    df[\"km\"],\n",
    "    bins=np.arange(0, df[\"km\"].max() + 40000, 40000),\n",
    "    labels=np.arange(0, df[\"km\"].max(), 40000),\n",
    ")\n",
    "\n",
    "sns.boxplot(x=\"km_bin\", y=\"price\", data=df)\n",
    "plt.xticks(rotation=90)\n",
    "\n",
    "df = df.drop(columns=[\"km_bin\"])"
   ],
   "metadata": {
    "collapsed": false
   },
   "id": "6c3270a9b861d0d2",
   "execution_count": null
  },
  {
   "cell_type": "code",
   "outputs": [],
   "source": [
    "df[\"putere_bin\"] = pd.cut(\n",
    "    df[\"putere\"],\n",
    "    bins=np.arange(0, df[\"putere\"].max() + 50, 50),\n",
    "    labels=np.arange(0, df[\"putere\"].max(), 50),\n",
    ")\n",
    "\n",
    "sns.boxplot(x=\"putere_bin\", y=\"price\", data=df)\n",
    "plt.xticks(rotation=90)\n",
    "\n",
    "df = df.drop(columns=[\"putere_bin\"])"
   ],
   "metadata": {
    "collapsed": false
   },
   "id": "df3da051492860d6",
   "execution_count": null
  },
  {
   "cell_type": "code",
   "outputs": [],
   "source": [
    "df[\"capacitate cilindrica_bin\"] = pd.cut(\n",
    "    df[\"capacitate cilindrica\"],\n",
    "    bins=np.arange(0, df[\"capacitate cilindrica\"].max() + 500, 500),\n",
    "    labels=np.arange(0, df[\"capacitate cilindrica\"].max(), 500),\n",
    ")\n",
    "\n",
    "sns.boxplot(x=\"capacitate cilindrica_bin\", y=\"price\", data=df)\n",
    "plt.xticks(rotation=90)\n",
    "\n",
    "df = df.drop(columns=[\"capacitate cilindrica_bin\"])"
   ],
   "metadata": {
    "collapsed": false
   },
   "id": "3281f57d30c1c12",
   "execution_count": null
  },
  {
   "cell_type": "code",
   "outputs": [],
   "source": [
    "msno.bar(df)"
   ],
   "metadata": {
    "collapsed": false
   },
   "id": "f83b2cb8abe2c7bf",
   "execution_count": null
  },
  {
   "cell_type": "code",
   "outputs": [],
   "source": [
    "df.to_csv(ROCAR_CSV, index=False)"
   ],
   "metadata": {
    "collapsed": false
   },
   "id": "35d429b6527340ba",
   "execution_count": null
  }
 ],
 "metadata": {
  "kernelspec": {
   "display_name": "Python 3",
   "language": "python",
   "name": "python3"
  },
  "language_info": {
   "codemirror_mode": {
    "name": "ipython",
    "version": 2
   },
   "file_extension": ".py",
   "mimetype": "text/x-python",
   "name": "python",
   "nbconvert_exporter": "python",
   "pygments_lexer": "ipython2",
   "version": "2.7.6"
  }
 },
 "nbformat": 4,
 "nbformat_minor": 5
}
