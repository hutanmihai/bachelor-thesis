{
 "cells": [
  {
   "cell_type": "code",
   "execution_count": null,
   "id": "initial_id",
   "metadata": {
    "collapsed": true
   },
   "outputs": [],
   "source": [
    "import numpy as np\n",
    "import pandas as pd\n",
    "import torch\n",
    "from sklearn.metrics import mean_absolute_error, mean_squared_error, r2_score\n",
    "from torch import nn\n",
    "from torch.optim import AdamW\n",
    "from torch.utils.data import Dataset\n",
    "from transformers import AutoTokenizer, AutoModelForSequenceClassification, TrainingArguments, Trainer\n",
    "from constants import FINE_TUNED_BERT_MODEL_PATH, TRAIN_DATA_CSV, TEST_DATA_CSV"
   ]
  },
  {
   "cell_type": "markdown",
   "source": [
    "## Load the data and add special tokens"
   ],
   "metadata": {
    "collapsed": false
   },
   "id": "32a22f13b1bc1256"
  },
  {
   "cell_type": "code",
   "outputs": [],
   "source": [
    "BATCH_SIZE = 2\n",
    "DEVICE = torch.device(\"cuda\") if torch.cuda.is_available() else torch.device(\"cpu\")\n",
    "\n",
    "SLICE: int | None = 1000\n",
    "\n",
    "df_train = pd.read_csv(TRAIN_DATA_CSV, dtype={\"unique_id\": str})[:SLICE]\n",
    "df_test = pd.read_csv(TEST_DATA_CSV, dtype={\"unique_id\": str})[:SLICE]\n",
    "\n",
    "DEVICE"
   ],
   "metadata": {
    "collapsed": false
   },
   "id": "e1ab5aecccd56610",
   "execution_count": null
  },
  {
   "cell_type": "code",
   "outputs": [],
   "source": [
    "# Stefan Dumitrescu, Andrei-Marius Avram, and Sampo Pyysalo. 2020. The birth of Romanian BERT. In Findings of the Association for Computational Linguistics: EMNLP 2020, pages 4324–4328, Online. Association for Computational Linguistics.\n",
    "# https://huggingface.co/dumitrescustefan/bert-base-romanian-cased-v1\n",
    "tokenizer = AutoTokenizer.from_pretrained(\"dumitrescustefan/bert-base-romanian-uncased-v1\", do_lower_case=True)\n",
    "bert_model = AutoModelForSequenceClassification.from_pretrained(\"dumitrescustefan/bert-base-romanian-uncased-v1\", num_labels=1)\n",
    "bert_model.to(DEVICE)\n",
    "\n",
    "torch.cuda.empty_cache()\n",
    "\n",
    "bert_model"
   ],
   "metadata": {
    "collapsed": false
   },
   "id": "cb7c827dd11b7e12",
   "execution_count": null
  },
  {
   "cell_type": "code",
   "outputs": [],
   "source": [
    "def compute_metrics(predictions, ground_truths):\n",
    "    mae = mean_absolute_error(ground_truths, predictions)\n",
    "    mse = mean_squared_error(ground_truths, predictions)\n",
    "    rmse = np.sqrt(mse)\n",
    "    r2 = r2_score(ground_truths, predictions)\n",
    "\n",
    "    return {\"MAE\": mae, \"MSE\": mse, \"RMSE\": rmse, \"R2\": r2}"
   ],
   "metadata": {
    "collapsed": false
   },
   "id": "602e2be772ac7ba3",
   "execution_count": null
  },
  {
   "cell_type": "markdown",
   "source": [
    "## Tokenize inputs and create datasets"
   ],
   "metadata": {
    "collapsed": false
   },
   "id": "4ceee66e16ce20c2"
  },
  {
   "cell_type": "code",
   "outputs": [],
   "source": [
    "class CustomDataset(Dataset):\n",
    "    def __init__(self, encodings, labels):\n",
    "        self.encodings = encodings\n",
    "        self.labels = labels\n",
    "\n",
    "    def __getitem__(self, idx):\n",
    "        item = {key: torch.tensor(val[idx]) for key, val in self.encodings.items()}\n",
    "        item[\"labels\"] = torch.tensor(self.labels[idx], dtype=torch.float32)\n",
    "        return item\n",
    "\n",
    "    def __len__(self):\n",
    "        return len(self.encodings[\"input_ids\"])\n",
    "\n",
    "\n",
    "train_texts = list(df_train[\"input\"])\n",
    "train_prices = list(df_train[\"price\"])\n",
    "eval_texts = list(df_test[\"input\"])\n",
    "eval_prices = list(df_test[\"price\"])\n",
    "\n",
    "# Tokenizing texts\n",
    "train_encodings = tokenizer(train_texts, max_length=512, truncation=True, padding=True)\n",
    "eval_encodings = tokenizer(eval_texts, max_length=512, truncation=True, padding=True)\n",
    "\n",
    "train_dataset = CustomDataset(train_encodings, train_prices)\n",
    "eval_dataset = CustomDataset(eval_encodings, eval_prices)"
   ],
   "metadata": {
    "collapsed": false
   },
   "id": "555b6fed2770e6cb",
   "execution_count": null
  },
  {
   "cell_type": "code",
   "outputs": [],
   "source": [
    "from torch.utils.data import DataLoader\n",
    "\n",
    "train_loader = DataLoader(train_dataset, batch_size=BATCH_SIZE, shuffle=True)\n",
    "eval_loader = DataLoader(eval_dataset, batch_size=BATCH_SIZE, shuffle=False)"
   ],
   "metadata": {
    "collapsed": false
   },
   "id": "e32aefd38911256d",
   "execution_count": null
  },
  {
   "cell_type": "code",
   "outputs": [],
   "source": [
    "def compute_metrics_trainer_call(eval_pred):\n",
    "    logits, labels = eval_pred\n",
    "    metrics = compute_metrics(logits, labels)\n",
    "    return metrics"
   ],
   "metadata": {
    "collapsed": false
   },
   "id": "dbd36e6b682eb043",
   "execution_count": null
  },
  {
   "cell_type": "code",
   "outputs": [],
   "source": [
    "training_args = TrainingArguments(\n",
    "    output_dir=\"results\",\n",
    "    save_strategy=\"epoch\",\n",
    "    num_train_epochs=10,\n",
    "    per_device_train_batch_size=BATCH_SIZE,\n",
    "    per_device_eval_batch_size=BATCH_SIZE,\n",
    "    logging_steps=1,\n",
    "    learning_rate=0.001,\n",
    "    optim=\"adamw_torch\",\n",
    "    evaluation_strategy=\"epoch\",\n",
    ")"
   ],
   "metadata": {
    "collapsed": false
   },
   "id": "e100616074d48639",
   "execution_count": null
  },
  {
   "cell_type": "code",
   "outputs": [],
   "source": [
    "trainer = Trainer(\n",
    "    model=bert_model,\n",
    "    args=training_args,\n",
    "    train_dataset=train_dataset,\n",
    "    eval_dataset=eval_dataset,\n",
    "    compute_metrics=compute_metrics_trainer_call,\n",
    ")"
   ],
   "metadata": {
    "collapsed": false
   },
   "id": "2469829df42c4528",
   "execution_count": null
  },
  {
   "cell_type": "code",
   "outputs": [],
   "source": [
    "trainer.train()"
   ],
   "metadata": {
    "collapsed": false
   },
   "id": "aee1675d8abe0133",
   "execution_count": null
  }
 ],
 "metadata": {
  "kernelspec": {
   "display_name": "Python 3",
   "language": "python",
   "name": "python3"
  },
  "language_info": {
   "codemirror_mode": {
    "name": "ipython",
    "version": 2
   },
   "file_extension": ".py",
   "mimetype": "text/x-python",
   "name": "python",
   "nbconvert_exporter": "python",
   "pygments_lexer": "ipython2",
   "version": "2.7.6"
  }
 },
 "nbformat": 4,
 "nbformat_minor": 5
}
