{
 "cells": [
  {
   "cell_type": "code",
   "execution_count": null,
   "id": "initial_id",
   "metadata": {
    "collapsed": true
   },
   "outputs": [],
   "source": [
    "import pandas as pd\n",
    "import timm\n",
    "import torch\n",
    "from torch import nn\n",
    "from torch.optim.lr_scheduler import ReduceLROnPlateau\n",
    "from transformers import AutoTokenizer, AutoModelForMaskedLM\n",
    "\n",
    "from core.src.constants import IMAGES_PATH, TRAIN_DATA_CSV, TEST_DATA_CSV, FINE_TUNED_BERT_MODEL_PATH"
   ]
  },
  {
   "cell_type": "code",
   "outputs": [],
   "source": [
    "df_train = pd.read_csv(TRAIN_DATA_CSV, dtype={\"unique_id\": str})\n",
    "df_test = pd.read_csv(TEST_DATA_CSV, dtype={\"unique_id\": str})\n",
    "device = torch.device(\"cuda\" if torch.cuda.is_available() else \"cpu\")"
   ],
   "metadata": {
    "collapsed": false
   },
   "id": "b7407219149a1af1",
   "execution_count": null
  },
  {
   "cell_type": "code",
   "outputs": [],
   "source": [
    "df_train.head()"
   ],
   "metadata": {
    "collapsed": false
   },
   "id": "8e548c690917e714",
   "execution_count": null
  },
  {
   "cell_type": "code",
   "outputs": [],
   "source": [
    "df_train.info()"
   ],
   "metadata": {
    "collapsed": false
   },
   "id": "88d0d9f7632f97",
   "execution_count": null
  },
  {
   "cell_type": "code",
   "outputs": [],
   "source": [
    "fastvit_model = timm.create_model(\"fastvit_t8.apple_in1k\", pretrained=True, num_classes=0)\n",
    "fastvit_model.to(device)\n",
    "fastvit_model = fastvit_model.eval()\n",
    "\n",
    "# get model specific transforms (normalization, resize)\n",
    "data_config = timm.data.resolve_model_data_config(fastvit_model)\n",
    "transforms = timm.data.create_transform(**data_config, is_training=False)\n",
    "\n",
    "tokenizer = AutoTokenizer.from_pretrained(\"dumitrescustefan/bert-base-romanian-uncased-v1\")\n",
    "bert_model = AutoModelForMaskedLM.from_pretrained(FINE_TUNED_BERT_MODEL_PATH)\n",
    "bert_model.config.output_hidden_states = True\n",
    "bert_model.to(device)\n",
    "\n",
    "torch.cuda.empty_cache()"
   ],
   "metadata": {
    "collapsed": false
   },
   "id": "a7926bbcf95234cb",
   "execution_count": null
  },
  {
   "cell_type": "code",
   "outputs": [],
   "source": [
    "train_encodings = tokenizer(df_train[\"input\"].tolist(), padding=True, truncation=True, max_length=512)\n",
    "test_encodings = tokenizer(df_train[\"input\"].tolist(), padding=True, truncation=True, max_length=512)"
   ],
   "metadata": {
    "collapsed": false
   },
   "id": "114396220fc498a8",
   "execution_count": null
  },
  {
   "cell_type": "code",
   "outputs": [],
   "source": [
    "from torch.utils.data import Dataset, DataLoader\n",
    "import pandas as pd\n",
    "from PIL import Image\n",
    "\n",
    "\n",
    "class MultimodalDataset(Dataset):\n",
    "    def __init__(self, df: pd.DataFrame, encodings):\n",
    "        self.df = df\n",
    "        self.encodings = encodings\n",
    "\n",
    "    def __len__(self):\n",
    "        return len(self.df)\n",
    "\n",
    "    def __getitem__(self, idx):\n",
    "        img_name = self.df.loc[idx, \"unique_id\"] + \"/00.png\"\n",
    "        image = Image.open(IMAGES_PATH / img_name).convert(\"RGB\")\n",
    "        image = transforms(image)\n",
    "\n",
    "        text = {key: torch.tensor(val[idx]) for key, val in self.encodings.items()}\n",
    "\n",
    "        STRUCTURED_COLUMNS = [\n",
    "            \"km\",\n",
    "            \"putere\",\n",
    "            \"capacitate cilindrica\",\n",
    "            \"anul producției\",\n",
    "            \"marca\",\n",
    "            \"model\",\n",
    "            \"combustibil\",\n",
    "            \"tip caroserie\",\n",
    "            \"firma\",\n",
    "            \"is_automatic\",\n",
    "        ]\n",
    "        structured_data = self.df.loc[idx, STRUCTURED_COLUMNS]\n",
    "        # structured_data = torch.tensor(structured_data.values, dtype=torch.float32)\n",
    "        for col in STRUCTURED_COLUMNS:\n",
    "            if structured_data[col].dtype == \"object\":\n",
    "                print(structured_data[col].unique())\n",
    "                structured_data[col] = structured_data[col].astype(\"category\").cat.codes\n",
    "\n",
    "        structured_data = torch.tensor(structured_data.values.astype(\"float32\"))\n",
    "\n",
    "        target = torch.tensor(self.df.loc[idx, \"price\"], dtype=torch.float32)\n",
    "\n",
    "        return image, text[\"input_ids\"], text[\"attention_mask\"], structured_data, target\n",
    "\n",
    "\n",
    "train_dataset = MultimodalDataset(df_train, train_encodings)\n",
    "test_dataset = MultimodalDataset(df_test, test_encodings)\n",
    "\n",
    "train_loader = DataLoader(train_dataset, batch_size=8, shuffle=True)\n",
    "test_loader = DataLoader(test_dataset, batch_size=8, shuffle=False)"
   ],
   "metadata": {
    "collapsed": false
   },
   "id": "e73f8f02549fd5f",
   "execution_count": null
  },
  {
   "cell_type": "code",
   "outputs": [],
   "source": [
    "class Net(nn.Module):\n",
    "    def __init__(self):\n",
    "        super(Net, self).__init__()\n",
    "        self.fc1 = nn.Linear(1546, 512)\n",
    "        self.fc2 = nn.Linear(512, 256)\n",
    "        self.fc3 = nn.Linear(256, 1)\n",
    "\n",
    "    def forward(self, x):\n",
    "        x = torch.relu(self.fc1(x))\n",
    "        x = torch.relu(self.fc2(x))\n",
    "        x = self.fc3(x)\n",
    "        return x\n",
    "\n",
    "\n",
    "model = Net().to(device)\n",
    "criterion = nn.L1Loss()\n",
    "optimizer = torch.optim.Adam(model.parameters(), lr=0.001)\n",
    "scheduler = ReduceLROnPlateau(optimizer, mode=\"min\", factor=0.5, min_lr=1e-9, patience=5)\n",
    "\n",
    "trainSteps = len(train_loader.dataset) // 8\n",
    "testSteps = len(test_loader.dataset) // 8\n",
    "history = {\"train_loss\": [], \"test_loss\": []}"
   ],
   "metadata": {
    "collapsed": false
   },
   "id": "9f08b56c03a79780",
   "execution_count": null
  },
  {
   "cell_type": "code",
   "outputs": [],
   "source": [
    "for epoch in range(10):\n",
    "    model.train()\n",
    "    running_loss = 0.0\n",
    "\n",
    "    for images, input_ids, attention_masks, structured_data, target in train_loader:\n",
    "        images = images.to(device)\n",
    "        input_ids = input_ids.to(device)\n",
    "        attention_masks = attention_masks.to(device)\n",
    "        structured_data = structured_data.to(device)\n",
    "        target = target.to(device)\n",
    "\n",
    "        with torch.no_grad():\n",
    "            image_embeddings = fastvit_model(images)\n",
    "            outputs = bert_model(input_ids=input_ids, attention_mask=attention_masks)\n",
    "            text_embeddings = outputs.hidden_states[-1]\n",
    "            mean_text_embeddings = text_embeddings.mean(dim=1)\n",
    "\n",
    "        combined_features = torch.cat([image_embeddings, mean_text_embeddings, structured_data], dim=1)\n",
    "\n",
    "        optimizer.zero_grad()  # Zero the parameter gradients\n",
    "\n",
    "        outputs = model(combined_features)  # Forward pass\n",
    "        loss = criterion(outputs, target.view(-1, 1))  # Define 'target' appropriately based on your data\n",
    "        loss.backward()  # Backward pass\n",
    "        optimizer.step()  # Optimize the model\n",
    "\n",
    "        running_loss += loss.item() * images.size(0)\n",
    "\n",
    "    epoch_loss = running_loss / len(train_loader.dataset)\n",
    "    history[\"train_loss\"].append(epoch_loss)\n",
    "    print(f\"Epoch {epoch + 1} Train Loss: {epoch_loss:.4f}\")\n",
    "\n",
    "    # Adjust learning rate based on the epoch loss\n",
    "    scheduler.step(epoch_loss)\n",
    "\n",
    "    # Validation loop (optional, but recommended)\n",
    "    model.eval()  # Set the model to evaluation mode\n",
    "    with torch.no_grad():\n",
    "        valid_loss = 0.0\n",
    "        for images, input_ids, attention_masks, structured_data, target in test_loader:\n",
    "            images = images.to(device)\n",
    "            input_ids = input_ids.to(device)\n",
    "            attention_masks = attention_masks.to(device)\n",
    "            structured_data = structured_data.to(device)\n",
    "            target = target.to(device)\n",
    "\n",
    "            # Repeat forward pass as in the training loop\n",
    "            image_embeddings = fastvit_model(images)\n",
    "            outputs = bert_model(input_ids=input_ids, attention_mask=attention_masks)\n",
    "            text_embeddings = outputs.hidden_states[-1]\n",
    "            mean_text_embeddings = text_embeddings.mean(dim=1)\n",
    "\n",
    "            combined_features = torch.cat([image_embeddings, mean_text_embeddings, structured_data], dim=1)\n",
    "\n",
    "            outputs = model(combined_features)\n",
    "            loss = criterion(outputs, target.view(-1, 1))  # Ensure 'target' is defined for test data\n",
    "\n",
    "            valid_loss += loss.item() * images.size(0)\n",
    "\n",
    "        valid_loss /= len(test_loader.dataset)\n",
    "        history[\"test_loss\"].append(valid_loss)\n",
    "        print(f\"Epoch {epoch + 1} Validation Loss: {valid_loss:.4f}\")\n",
    "\n",
    "# Output the final training and validation losses\n",
    "print(\"Training completed.\")"
   ],
   "metadata": {
    "collapsed": false
   },
   "id": "d124ab7466498635",
   "execution_count": null
  },
  {
   "cell_type": "code",
   "outputs": [],
   "source": [
    "import matplotlib.pyplot as plt\n",
    "\n",
    "plt.plot(history[\"train_loss\"], label=\"train loss\")\n",
    "plt.plot(history[\"test_loss\"], label=\"test loss\")\n",
    "plt.xlabel(\"Epoch\")\n",
    "plt.ylabel(\"Loss\")\n",
    "plt.legend()\n",
    "plt.show()"
   ],
   "metadata": {
    "collapsed": false
   },
   "id": "cd22f6c7f43518ce"
  }
 ],
 "metadata": {
  "kernelspec": {
   "display_name": "Python 3",
   "language": "python",
   "name": "python3"
  },
  "language_info": {
   "codemirror_mode": {
    "name": "ipython",
    "version": 2
   },
   "file_extension": ".py",
   "mimetype": "text/x-python",
   "name": "python",
   "nbconvert_exporter": "python",
   "pygments_lexer": "ipython2",
   "version": "2.7.6"
  }
 },
 "nbformat": 4,
 "nbformat_minor": 5
}
