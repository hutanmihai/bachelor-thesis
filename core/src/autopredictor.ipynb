{
 "cells": [
  {
   "cell_type": "code",
   "execution_count": null,
   "id": "initial_id",
   "metadata": {
    "collapsed": true
   },
   "outputs": [],
   "source": [
    "from autopredictor import show_all, fit\n",
    "import pandas as pd\n",
    "from constants import TRAIN_DATA_CSV, TEST_DATA_CSV\n",
    "\n",
    "df_train = pd.read_csv(TRAIN_DATA_CSV)\n",
    "df_test = pd.read_csv(TEST_DATA_CSV)\n",
    "\n",
    "X_train = df_train.drop(columns=[\"id\", \"price\", \"price_std\", \"description\"])\n",
    "y_train = df_train[\"price\"]\n",
    "X_test = df_test.drop(columns=[\"id\", \"price\", \"price_std\", \"description\"])\n",
    "y_test = df_test[\"price\"]\n",
    "\n",
    "results_test, results_train = fit.fit(X_train, X_test, y_train, y_test, return_train=True)\n",
    "\n",
    "scores_train = show_all.show_all(results_train)\n",
    "scores_test = show_all.show_all(results_test)"
   ]
  }
 ],
 "metadata": {
  "kernelspec": {
   "display_name": "Python 3",
   "language": "python",
   "name": "python3"
  },
  "language_info": {
   "codemirror_mode": {
    "name": "ipython",
    "version": 2
   },
   "file_extension": ".py",
   "mimetype": "text/x-python",
   "name": "python",
   "nbconvert_exporter": "python",
   "pygments_lexer": "ipython2",
   "version": "2.7.6"
  }
 },
 "nbformat": 4,
 "nbformat_minor": 5
}
