{
 "cells": [
  {
   "cell_type": "code",
   "execution_count": 2,
   "id": "initial_id",
   "metadata": {
    "collapsed": true,
    "ExecuteTime": {
     "end_time": "2024-04-17T13:37:49.195Z",
     "start_time": "2024-04-17T13:36:16.319425Z"
    }
   },
   "outputs": [
    {
     "name": "stdout",
     "output_type": "stream",
     "text": [
      "Linear Regression trained.\n",
      "Linear Regression (L1) trained.\n",
      "Linear Regression (L2) trained.\n",
      "Linear Support Vector Machine trained.\n"
     ]
    },
    {
     "name": "stderr",
     "output_type": "stream",
     "text": [
      "/opt/homebrew/Caskroom/miniconda/base/envs/core/lib/python3.11/site-packages/sklearn/svm/_classes.py:31: FutureWarning: The default value of `dual` will change from `True` to `'auto'` in 1.5. Set the value of `dual` explicitly to suppress the warning.\n",
      "  warnings.warn(\n"
     ]
    },
    {
     "name": "stdout",
     "output_type": "stream",
     "text": [
      "Support Vector Machine trained.\n",
      "Decision Tree trained.\n",
      "Random Forest trained.\n",
      "Gradient Boosting trained.\n",
      "AdaBoost trained.\n",
      "|                               |     MAE |     MAPE |       R2 |         MSE |    RMSE |\n",
      "|-------------------------------|---------|----------|----------|-------------|---------|\n",
      "| AdaBoost                      | 3884.76 | 0.360193 | 0.751501 | 2.15336e+07 | 4640.43 |\n",
      "| Decision Tree                 | 2206.47 | 0.154025 | 0.873292 | 1.09799e+07 | 3313.59 |\n",
      "| Gradient Boosting             | 2001.19 | 0.14301  | 0.909382 | 7.85248e+06 | 2802.23 |\n",
      "| Linear Regression             | 2857.62 | 0.24163  | 0.839435 | 1.39137e+07 | 3730.11 |\n",
      "| Linear Regression (L1)        | 2857.57 | 0.241588 | 0.839434 | 1.39138e+07 | 3730.13 |\n",
      "| Linear Regression (L2)        | 2857.6  | 0.241623 | 0.839434 | 1.39138e+07 | 3730.12 |\n",
      "| Linear Support Vector Machine | 3914.16 | 0.233367 | 0.617104 | 3.31798e+07 | 5760.19 |\n",
      "| Random Forest                 | 1633.68 | 0.113736 | 0.930659 | 6.00871e+06 | 2451.27 |\n",
      "| Support Vector Machine        | 6347.73 | 0.525335 | 0.168078 | 7.20899e+07 | 8490.58 |\n",
      "|                               |      MAE |        MAPE |       R2 |              MSE |     RMSE |\n",
      "|-------------------------------|----------|-------------|----------|------------------|----------|\n",
      "| AdaBoost                      | 3848.76  | 0.380003    | 0.759595 |      2.11735e+07 | 4601.47  |\n",
      "| Decision Tree                 |   15.147 | 0.000691455 | 0.999603 |  34984.8         |  187.042 |\n",
      "| Gradient Boosting             | 1905.25  | 0.143394    | 0.919273 |      7.10995e+06 | 2666.45  |\n",
      "| Linear Regression             | 2838.88  | 0.258701    | 0.843703 |      1.37657e+07 | 3710.22  |\n",
      "| Linear Regression (L1)        | 2838.84  | 0.258655    | 0.843703 |      1.37657e+07 | 3710.22  |\n",
      "| Linear Regression (L2)        | 2838.87  | 0.258693    | 0.843703 |      1.37657e+07 | 3710.22  |\n",
      "| Linear Support Vector Machine | 3894.37  | 0.242879    | 0.629981 |      3.25891e+07 | 5708.69  |\n",
      "| Random Forest                 |  605.314 | 0.0442933   | 0.990515 | 835342           |  913.971 |\n",
      "| Support Vector Machine        | 6409.33  | 0.565876    | 0.177906 |      7.24052e+07 | 8509.13  |\n"
     ]
    }
   ],
   "source": [
    "from autopredictor import show_all, fit\n",
    "import pandas as pd\n",
    "\n",
    "df_train = pd.read_csv(\"rocar_train.csv\")\n",
    "df_test = pd.read_csv(\"rocar_test.csv\")\n",
    "\n",
    "X_train = df_train.drop(columns=[\"price\"])\n",
    "y_train = df_train[\"price\"]\n",
    "X_test = df_test.drop(columns=[\"price\"])\n",
    "y_test = df_test[\"price\"]\n",
    "\n",
    "results_test, results_train = fit.fit(X_train, X_test, y_train, y_test, return_train=True)\n",
    "\n",
    "scores_test = show_all.show_all(results_test)\n",
    "scores_train = show_all.show_all(results_train)"
   ]
  },
  {
   "cell_type": "code",
   "outputs": [],
   "source": [],
   "metadata": {
    "collapsed": false
   },
   "id": "c7a815465bca2e3"
  }
 ],
 "metadata": {
  "kernelspec": {
   "display_name": "Python 3",
   "language": "python",
   "name": "python3"
  },
  "language_info": {
   "codemirror_mode": {
    "name": "ipython",
    "version": 2
   },
   "file_extension": ".py",
   "mimetype": "text/x-python",
   "name": "python",
   "nbconvert_exporter": "python",
   "pygments_lexer": "ipython2",
   "version": "2.7.6"
  }
 },
 "nbformat": 4,
 "nbformat_minor": 5
}
