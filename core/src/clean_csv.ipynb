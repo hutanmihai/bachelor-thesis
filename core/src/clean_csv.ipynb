{
 "cells": [
  {
   "cell_type": "code",
   "execution_count": null,
   "id": "initial_id",
   "metadata": {
    "collapsed": true
   },
   "outputs": [],
   "source": [
    "import matplotlib.pyplot as plt\n",
    "import pandas as pd\n",
    "import seaborn as sns\n",
    "import missingno as msno\n",
    "\n",
    "from core.src.constants import FINAL_CSV, CLEANED_CSV\n",
    "from utils.format import drop_na"
   ]
  },
  {
   "cell_type": "code",
   "outputs": [],
   "source": [
    "sns.set(rc={\"figure.figsize\": (10, 10)})\n",
    "plt.figure(figsize=(10, 8))\n",
    "df = pd.read_csv(FINAL_CSV)"
   ],
   "metadata": {
    "collapsed": false
   },
   "id": "d56857da1fa919c6",
   "execution_count": null
  },
  {
   "cell_type": "code",
   "outputs": [],
   "source": [
    "msno.matrix(df)"
   ],
   "metadata": {
    "collapsed": false
   },
   "id": "dca4a070032eedb6",
   "execution_count": null
  },
  {
   "cell_type": "code",
   "outputs": [],
   "source": [
    "msno.bar(df)"
   ],
   "metadata": {
    "collapsed": false
   },
   "id": "b2824d65c1262683",
   "execution_count": null
  },
  {
   "cell_type": "markdown",
   "source": [
    "# Removing url and path columns"
   ],
   "metadata": {
    "collapsed": false
   },
   "id": "d8a7936d5280406"
  },
  {
   "cell_type": "code",
   "outputs": [],
   "source": [
    "df = df.drop([\"url\", \"path\"], axis=1)"
   ],
   "metadata": {
    "collapsed": false
   },
   "id": "46e6195c71c04f24",
   "execution_count": null
  },
  {
   "cell_type": "markdown",
   "source": [
    "# Show columns and the percentage at which their values are not null"
   ],
   "metadata": {
    "collapsed": false
   },
   "id": "7cc320142101274f"
  },
  {
   "cell_type": "code",
   "outputs": [],
   "source": [
    "def show_columns(df):\n",
    "    for column in df.columns:\n",
    "        print(f\"{column}: {df[column].count() / len(df) * 100:.2f}%\")\n",
    "\n",
    "\n",
    "show_columns(df)"
   ],
   "metadata": {
    "collapsed": false
   },
   "id": "217f6b4a7b6e26",
   "execution_count": null
  },
  {
   "cell_type": "markdown",
   "source": [
    "# Remove electric vehicles and their specific columns as they are outliers"
   ],
   "metadata": {
    "collapsed": false
   },
   "id": "d4496f18e534b108"
  },
  {
   "cell_type": "code",
   "outputs": [],
   "source": [
    "initial_len = len(df)\n",
    "\n",
    "\n",
    "def remove_electric_vehicles(df):\n",
    "    return df[df[\"combustibil\"] != \"electric\"]\n",
    "\n",
    "\n",
    "def remove_electric_columns(df):\n",
    "    return df.drop([\"vehicule electrice\", \"autonomie\", \"capacitate baterie\", \"contract baterie\", \"timp de incarcare\"], axis=1)\n",
    "\n",
    "\n",
    "df = remove_electric_vehicles(df)\n",
    "df = remove_electric_columns(df)\n",
    "\n",
    "print(f\"Removed {initial_len - len(df)} electric vehicles\")"
   ],
   "metadata": {
    "collapsed": false
   },
   "id": "66edf6effca1b764",
   "execution_count": null
  },
  {
   "cell_type": "markdown",
   "source": [
    "# Remove vehicles that are in leasin, as their price is not accurate to our needs"
   ],
   "metadata": {
    "collapsed": false
   },
   "id": "849640d70d1a3fb0"
  },
  {
   "cell_type": "code",
   "outputs": [],
   "source": [
    "initial_len = len(df)\n",
    "\n",
    "\n",
    "def remove_leasing(df):\n",
    "    return df[df[\"predare leasing\"] != \"da\"]\n",
    "\n",
    "\n",
    "def remove_leasing_columns(df):\n",
    "    return df.drop(\n",
    "        [\"predare leasing\", \"plata initiala (la predare)\", \"valoare rata lunara\", \"numar de rate lunare ramase\", \"valoare reziduala\"], axis=1\n",
    "    )\n",
    "\n",
    "\n",
    "df = remove_leasing(df)\n",
    "df = remove_leasing_columns(df)\n",
    "\n",
    "print(f\"Removed {initial_len - len(df)} leasing vehicles\")"
   ],
   "metadata": {
    "collapsed": false
   },
   "id": "7cd882e1c0801450",
   "execution_count": null
  },
  {
   "cell_type": "markdown",
   "source": [
    "# Remove irrelevant columns"
   ],
   "metadata": {
    "collapsed": false
   },
   "id": "66295a42219e7e0f"
  },
  {
   "cell_type": "code",
   "outputs": [],
   "source": [
    "# Removing \"tuning\" column as it is scrapped as bool \"True\" or \"False\", ant the actual tunning in real life can really depend on how much money it cost, so a bool doesn't help us in the car price prediction\n",
    "\n",
    "df = df.drop([\"tuning\"], axis=1)"
   ],
   "metadata": {
    "collapsed": false
   },
   "id": "669364664f916ac",
   "execution_count": null
  },
  {
   "cell_type": "markdown",
   "source": [
    "# Drop all rows that have NaN values in the CORE columns"
   ],
   "metadata": {
    "collapsed": false
   },
   "id": "3dc94e4ec20a0559"
  },
  {
   "cell_type": "code",
   "outputs": [],
   "source": [
    "for column in [\n",
    "    \"id\",\n",
    "    \"oferit de\",\n",
    "    \"marca\",\n",
    "    \"model\",\n",
    "    \"anul producției\",\n",
    "    \"km\",\n",
    "    \"combustibil\",\n",
    "    \"putere\",\n",
    "    \"capacitate cilindrica\",\n",
    "    \"cutie de viteze\",\n",
    "    \"tip caroserie\",\n",
    "    \"stare\",\n",
    "    \"price\",\n",
    "]:\n",
    "    df = drop_na(df, column)"
   ],
   "metadata": {
    "collapsed": false
   },
   "id": "baf8c4914daa8686",
   "execution_count": null
  },
  {
   "cell_type": "markdown",
   "source": [
    "# Drop all rows that don't have the currency == 'eur', (we could transofmr ron to euro but there are really a few of them)"
   ],
   "metadata": {
    "collapsed": false
   },
   "id": "3c38544b5a952008"
  },
  {
   "cell_type": "code",
   "outputs": [],
   "source": [
    "initial_len = len(df)\n",
    "\n",
    "df = df[df[\"currency\"] == \"eur\"]\n",
    "\n",
    "print(f\"Removed {initial_len - len(df)} non eur currency vehicles\")\n",
    "\n",
    "# Also remove the column\n",
    "df = df.drop([\"currency\"], axis=1)"
   ],
   "metadata": {
    "collapsed": false
   },
   "id": "866dcf12a5cd55b8",
   "execution_count": null
  },
  {
   "cell_type": "markdown",
   "source": [
    "# Drop the column \"masina de epoca\" as there is a few data points for it, outliers"
   ],
   "metadata": {
    "collapsed": false
   },
   "id": "c6ae3e303f7eee7"
  },
  {
   "cell_type": "code",
   "outputs": [],
   "source": [
    "df = df.drop([\"masina de epoca\"], axis=1)"
   ],
   "metadata": {
    "collapsed": false
   },
   "id": "b63c33d91864e35f",
   "execution_count": null
  },
  {
   "cell_type": "markdown",
   "source": [
    "# Drop the column \"volan pe dreapta\" as there is a few data points for it, outliers"
   ],
   "metadata": {
    "collapsed": false
   },
   "id": "10191b423b3295f9"
  },
  {
   "cell_type": "code",
   "outputs": [],
   "source": [
    "df = df.drop([\"volan pe dreapta\"], axis=1)"
   ],
   "metadata": {
    "collapsed": false
   },
   "id": "907378f3cbceec5a",
   "execution_count": null
  },
  {
   "cell_type": "code",
   "outputs": [],
   "source": [
    "df.to_csv(CLEANED_CSV, index=False)"
   ],
   "metadata": {
    "collapsed": false
   },
   "id": "9fd3c5852f63142b",
   "execution_count": null
  }
 ],
 "metadata": {
  "kernelspec": {
   "display_name": "Python 3",
   "language": "python",
   "name": "python3"
  },
  "language_info": {
   "codemirror_mode": {
    "name": "ipython",
    "version": 2
   },
   "file_extension": ".py",
   "mimetype": "text/x-python",
   "name": "python",
   "nbconvert_exporter": "python",
   "pygments_lexer": "ipython2",
   "version": "2.7.6"
  }
 },
 "nbformat": 4,
 "nbformat_minor": 5
}
