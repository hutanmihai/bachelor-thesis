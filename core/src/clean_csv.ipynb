{
 "cells": [
  {
   "cell_type": "code",
   "execution_count": 1,
   "id": "initial_id",
   "metadata": {
    "collapsed": true,
    "ExecuteTime": {
     "end_time": "2024-03-17T20:55:07.592910Z",
     "start_time": "2024-03-17T20:55:07.585142Z"
    }
   },
   "outputs": [],
   "source": [
    "import matplotlib.pyplot as plt\n",
    "import pandas as pd\n",
    "import seaborn as sns\n",
    "import missingno as msno\n",
    "\n",
    "from core.src.constants import FINAL_CSV, CLEANED_CSV\n",
    "from utils.format import drop_na"
   ]
  },
  {
   "cell_type": "code",
   "outputs": [
    {
     "data": {
      "text/plain": "<Figure size 1000x800 with 0 Axes>"
     },
     "metadata": {},
     "output_type": "display_data"
    }
   ],
   "source": [
    "sns.set(rc={\"figure.figsize\": (10, 10)})\n",
    "plt.figure(figsize=(10, 8))\n",
    "df = pd.read_csv(FINAL_CSV)"
   ],
   "metadata": {
    "collapsed": false,
    "ExecuteTime": {
     "end_time": "2024-03-17T20:55:08.279615Z",
     "start_time": "2024-03-17T20:55:07.860332Z"
    }
   },
   "id": "d56857da1fa919c6",
   "execution_count": 2
  },
  {
   "cell_type": "code",
   "outputs": [
    {
     "ename": "ValueError",
     "evalue": "keyword grid_b is not recognized; valid keywords are ['size', 'width', 'color', 'tickdir', 'pad', 'labelsize', 'labelcolor', 'labelfontfamily', 'zorder', 'gridOn', 'tick1On', 'tick2On', 'label1On', 'label2On', 'length', 'direction', 'left', 'bottom', 'right', 'top', 'labelleft', 'labelbottom', 'labelright', 'labeltop', 'labelrotation', 'grid_agg_filter', 'grid_alpha', 'grid_animated', 'grid_antialiased', 'grid_clip_box', 'grid_clip_on', 'grid_clip_path', 'grid_color', 'grid_dash_capstyle', 'grid_dash_joinstyle', 'grid_dashes', 'grid_data', 'grid_drawstyle', 'grid_figure', 'grid_fillstyle', 'grid_gapcolor', 'grid_gid', 'grid_in_layout', 'grid_label', 'grid_linestyle', 'grid_linewidth', 'grid_marker', 'grid_markeredgecolor', 'grid_markeredgewidth', 'grid_markerfacecolor', 'grid_markerfacecoloralt', 'grid_markersize', 'grid_markevery', 'grid_mouseover', 'grid_path_effects', 'grid_picker', 'grid_pickradius', 'grid_rasterized', 'grid_sketch_params', 'grid_snap', 'grid_solid_capstyle', 'grid_solid_joinstyle', 'grid_transform', 'grid_url', 'grid_visible', 'grid_xdata', 'grid_ydata', 'grid_zorder', 'grid_aa', 'grid_c', 'grid_ds', 'grid_ls', 'grid_lw', 'grid_mec', 'grid_mew', 'grid_mfc', 'grid_mfcalt', 'grid_ms']",
     "output_type": "error",
     "traceback": [
      "\u001b[0;31m---------------------------------------------------------------------------\u001b[0m",
      "\u001b[0;31mValueError\u001b[0m                                Traceback (most recent call last)",
      "Cell \u001b[0;32mIn[3], line 1\u001b[0m\n\u001b[0;32m----> 1\u001b[0m \u001b[43mmsno\u001b[49m\u001b[38;5;241;43m.\u001b[39;49m\u001b[43mmatrix\u001b[49m\u001b[43m(\u001b[49m\u001b[43mdf\u001b[49m\u001b[43m)\u001b[49m\n",
      "File \u001b[0;32m/opt/homebrew/Caskroom/miniconda/base/envs/core/lib/python3.11/site-packages/missingno/missingno.py:72\u001b[0m, in \u001b[0;36mmatrix\u001b[0;34m(df, filter, n, p, sort, figsize, width_ratios, color, fontsize, labels, sparkline, inline, freq, ax)\u001b[0m\n\u001b[1;32m     70\u001b[0m \u001b[38;5;66;03m# Remove extraneous default visual elements.\u001b[39;00m\n\u001b[1;32m     71\u001b[0m ax0\u001b[38;5;241m.\u001b[39mset_aspect(\u001b[38;5;124m'\u001b[39m\u001b[38;5;124mauto\u001b[39m\u001b[38;5;124m'\u001b[39m)\n\u001b[0;32m---> 72\u001b[0m \u001b[43max0\u001b[49m\u001b[38;5;241;43m.\u001b[39;49m\u001b[43mgrid\u001b[49m\u001b[43m(\u001b[49m\u001b[43mb\u001b[49m\u001b[38;5;241;43m=\u001b[39;49m\u001b[38;5;28;43;01mFalse\u001b[39;49;00m\u001b[43m)\u001b[49m\n\u001b[1;32m     73\u001b[0m ax0\u001b[38;5;241m.\u001b[39mxaxis\u001b[38;5;241m.\u001b[39mtick_top()\n\u001b[1;32m     74\u001b[0m ax0\u001b[38;5;241m.\u001b[39mxaxis\u001b[38;5;241m.\u001b[39mset_ticks_position(\u001b[38;5;124m'\u001b[39m\u001b[38;5;124mnone\u001b[39m\u001b[38;5;124m'\u001b[39m)\n",
      "File \u001b[0;32m/opt/homebrew/Caskroom/miniconda/base/envs/core/lib/python3.11/site-packages/matplotlib/axes/_base.py:3196\u001b[0m, in \u001b[0;36m_AxesBase.grid\u001b[0;34m(self, visible, which, axis, **kwargs)\u001b[0m\n\u001b[1;32m   3194\u001b[0m _api\u001b[38;5;241m.\u001b[39mcheck_in_list([\u001b[38;5;124m'\u001b[39m\u001b[38;5;124mx\u001b[39m\u001b[38;5;124m'\u001b[39m, \u001b[38;5;124m'\u001b[39m\u001b[38;5;124my\u001b[39m\u001b[38;5;124m'\u001b[39m, \u001b[38;5;124m'\u001b[39m\u001b[38;5;124mboth\u001b[39m\u001b[38;5;124m'\u001b[39m], axis\u001b[38;5;241m=\u001b[39maxis)\n\u001b[1;32m   3195\u001b[0m \u001b[38;5;28;01mif\u001b[39;00m axis \u001b[38;5;129;01min\u001b[39;00m [\u001b[38;5;124m'\u001b[39m\u001b[38;5;124mx\u001b[39m\u001b[38;5;124m'\u001b[39m, \u001b[38;5;124m'\u001b[39m\u001b[38;5;124mboth\u001b[39m\u001b[38;5;124m'\u001b[39m]:\n\u001b[0;32m-> 3196\u001b[0m     \u001b[38;5;28;43mself\u001b[39;49m\u001b[38;5;241;43m.\u001b[39;49m\u001b[43mxaxis\u001b[49m\u001b[38;5;241;43m.\u001b[39;49m\u001b[43mgrid\u001b[49m\u001b[43m(\u001b[49m\u001b[43mvisible\u001b[49m\u001b[43m,\u001b[49m\u001b[43m \u001b[49m\u001b[43mwhich\u001b[49m\u001b[38;5;241;43m=\u001b[39;49m\u001b[43mwhich\u001b[49m\u001b[43m,\u001b[49m\u001b[43m \u001b[49m\u001b[38;5;241;43m*\u001b[39;49m\u001b[38;5;241;43m*\u001b[39;49m\u001b[43mkwargs\u001b[49m\u001b[43m)\u001b[49m\n\u001b[1;32m   3197\u001b[0m \u001b[38;5;28;01mif\u001b[39;00m axis \u001b[38;5;129;01min\u001b[39;00m [\u001b[38;5;124m'\u001b[39m\u001b[38;5;124my\u001b[39m\u001b[38;5;124m'\u001b[39m, \u001b[38;5;124m'\u001b[39m\u001b[38;5;124mboth\u001b[39m\u001b[38;5;124m'\u001b[39m]:\n\u001b[1;32m   3198\u001b[0m     \u001b[38;5;28mself\u001b[39m\u001b[38;5;241m.\u001b[39myaxis\u001b[38;5;241m.\u001b[39mgrid(visible, which\u001b[38;5;241m=\u001b[39mwhich, \u001b[38;5;241m*\u001b[39m\u001b[38;5;241m*\u001b[39mkwargs)\n",
      "File \u001b[0;32m/opt/homebrew/Caskroom/miniconda/base/envs/core/lib/python3.11/site-packages/matplotlib/axis.py:1697\u001b[0m, in \u001b[0;36mAxis.grid\u001b[0;34m(self, visible, which, **kwargs)\u001b[0m\n\u001b[1;32m   1694\u001b[0m \u001b[38;5;28;01mif\u001b[39;00m which \u001b[38;5;129;01min\u001b[39;00m [\u001b[38;5;124m'\u001b[39m\u001b[38;5;124mmajor\u001b[39m\u001b[38;5;124m'\u001b[39m, \u001b[38;5;124m'\u001b[39m\u001b[38;5;124mboth\u001b[39m\u001b[38;5;124m'\u001b[39m]:\n\u001b[1;32m   1695\u001b[0m     gridkw[\u001b[38;5;124m'\u001b[39m\u001b[38;5;124mgridOn\u001b[39m\u001b[38;5;124m'\u001b[39m] \u001b[38;5;241m=\u001b[39m (\u001b[38;5;129;01mnot\u001b[39;00m \u001b[38;5;28mself\u001b[39m\u001b[38;5;241m.\u001b[39m_major_tick_kw[\u001b[38;5;124m'\u001b[39m\u001b[38;5;124mgridOn\u001b[39m\u001b[38;5;124m'\u001b[39m]\n\u001b[1;32m   1696\u001b[0m                         \u001b[38;5;28;01mif\u001b[39;00m visible \u001b[38;5;129;01mis\u001b[39;00m \u001b[38;5;28;01mNone\u001b[39;00m \u001b[38;5;28;01melse\u001b[39;00m visible)\n\u001b[0;32m-> 1697\u001b[0m     \u001b[38;5;28;43mself\u001b[39;49m\u001b[38;5;241;43m.\u001b[39;49m\u001b[43mset_tick_params\u001b[49m\u001b[43m(\u001b[49m\u001b[43mwhich\u001b[49m\u001b[38;5;241;43m=\u001b[39;49m\u001b[38;5;124;43m'\u001b[39;49m\u001b[38;5;124;43mmajor\u001b[39;49m\u001b[38;5;124;43m'\u001b[39;49m\u001b[43m,\u001b[49m\u001b[43m \u001b[49m\u001b[38;5;241;43m*\u001b[39;49m\u001b[38;5;241;43m*\u001b[39;49m\u001b[43mgridkw\u001b[49m\u001b[43m)\u001b[49m\n\u001b[1;32m   1698\u001b[0m \u001b[38;5;28mself\u001b[39m\u001b[38;5;241m.\u001b[39mstale \u001b[38;5;241m=\u001b[39m \u001b[38;5;28;01mTrue\u001b[39;00m\n",
      "File \u001b[0;32m/opt/homebrew/Caskroom/miniconda/base/envs/core/lib/python3.11/site-packages/matplotlib/axis.py:958\u001b[0m, in \u001b[0;36mAxis.set_tick_params\u001b[0;34m(self, which, reset, **kwargs)\u001b[0m\n\u001b[1;32m    945\u001b[0m \u001b[38;5;250m\u001b[39m\u001b[38;5;124;03m\"\"\"\u001b[39;00m\n\u001b[1;32m    946\u001b[0m \u001b[38;5;124;03mSet appearance parameters for ticks, ticklabels, and gridlines.\u001b[39;00m\n\u001b[1;32m    947\u001b[0m \n\u001b[0;32m   (...)\u001b[0m\n\u001b[1;32m    955\u001b[0m \u001b[38;5;124;03m    gridlines.\u001b[39;00m\n\u001b[1;32m    956\u001b[0m \u001b[38;5;124;03m\"\"\"\u001b[39;00m\n\u001b[1;32m    957\u001b[0m _api\u001b[38;5;241m.\u001b[39mcheck_in_list([\u001b[38;5;124m'\u001b[39m\u001b[38;5;124mmajor\u001b[39m\u001b[38;5;124m'\u001b[39m, \u001b[38;5;124m'\u001b[39m\u001b[38;5;124mminor\u001b[39m\u001b[38;5;124m'\u001b[39m, \u001b[38;5;124m'\u001b[39m\u001b[38;5;124mboth\u001b[39m\u001b[38;5;124m'\u001b[39m], which\u001b[38;5;241m=\u001b[39mwhich)\n\u001b[0;32m--> 958\u001b[0m kwtrans \u001b[38;5;241m=\u001b[39m \u001b[38;5;28;43mself\u001b[39;49m\u001b[38;5;241;43m.\u001b[39;49m\u001b[43m_translate_tick_params\u001b[49m\u001b[43m(\u001b[49m\u001b[43mkwargs\u001b[49m\u001b[43m)\u001b[49m\n\u001b[1;32m    960\u001b[0m \u001b[38;5;66;03m# the kwargs are stored in self._major/minor_tick_kw so that any\u001b[39;00m\n\u001b[1;32m    961\u001b[0m \u001b[38;5;66;03m# future new ticks will automatically get them\u001b[39;00m\n\u001b[1;32m    962\u001b[0m \u001b[38;5;28;01mif\u001b[39;00m reset:\n",
      "File \u001b[0;32m/opt/homebrew/Caskroom/miniconda/base/envs/core/lib/python3.11/site-packages/matplotlib/axis.py:1102\u001b[0m, in \u001b[0;36mAxis._translate_tick_params\u001b[0;34m(kw, reverse)\u001b[0m\n\u001b[1;32m   1100\u001b[0m \u001b[38;5;28;01mfor\u001b[39;00m key \u001b[38;5;129;01min\u001b[39;00m kw_:\n\u001b[1;32m   1101\u001b[0m     \u001b[38;5;28;01mif\u001b[39;00m key \u001b[38;5;129;01mnot\u001b[39;00m \u001b[38;5;129;01min\u001b[39;00m allowed_keys:\n\u001b[0;32m-> 1102\u001b[0m         \u001b[38;5;28;01mraise\u001b[39;00m \u001b[38;5;167;01mValueError\u001b[39;00m(\n\u001b[1;32m   1103\u001b[0m             \u001b[38;5;124m\"\u001b[39m\u001b[38;5;124mkeyword \u001b[39m\u001b[38;5;132;01m%s\u001b[39;00m\u001b[38;5;124m is not recognized; valid keywords are \u001b[39m\u001b[38;5;132;01m%s\u001b[39;00m\u001b[38;5;124m\"\u001b[39m\n\u001b[1;32m   1104\u001b[0m             \u001b[38;5;241m%\u001b[39m (key, allowed_keys))\n\u001b[1;32m   1105\u001b[0m kwtrans\u001b[38;5;241m.\u001b[39mupdate(kw_)\n\u001b[1;32m   1106\u001b[0m \u001b[38;5;28;01mreturn\u001b[39;00m kwtrans\n",
      "\u001b[0;31mValueError\u001b[0m: keyword grid_b is not recognized; valid keywords are ['size', 'width', 'color', 'tickdir', 'pad', 'labelsize', 'labelcolor', 'labelfontfamily', 'zorder', 'gridOn', 'tick1On', 'tick2On', 'label1On', 'label2On', 'length', 'direction', 'left', 'bottom', 'right', 'top', 'labelleft', 'labelbottom', 'labelright', 'labeltop', 'labelrotation', 'grid_agg_filter', 'grid_alpha', 'grid_animated', 'grid_antialiased', 'grid_clip_box', 'grid_clip_on', 'grid_clip_path', 'grid_color', 'grid_dash_capstyle', 'grid_dash_joinstyle', 'grid_dashes', 'grid_data', 'grid_drawstyle', 'grid_figure', 'grid_fillstyle', 'grid_gapcolor', 'grid_gid', 'grid_in_layout', 'grid_label', 'grid_linestyle', 'grid_linewidth', 'grid_marker', 'grid_markeredgecolor', 'grid_markeredgewidth', 'grid_markerfacecolor', 'grid_markerfacecoloralt', 'grid_markersize', 'grid_markevery', 'grid_mouseover', 'grid_path_effects', 'grid_picker', 'grid_pickradius', 'grid_rasterized', 'grid_sketch_params', 'grid_snap', 'grid_solid_capstyle', 'grid_solid_joinstyle', 'grid_transform', 'grid_url', 'grid_visible', 'grid_xdata', 'grid_ydata', 'grid_zorder', 'grid_aa', 'grid_c', 'grid_ds', 'grid_ls', 'grid_lw', 'grid_mec', 'grid_mew', 'grid_mfc', 'grid_mfcalt', 'grid_ms']"
     ]
    },
    {
     "data": {
      "text/plain": "<Figure size 2500x1000 with 2 Axes>",
      "image/png": "[encoded data removed]"
     },
     "metadata": {},
     "output_type": "display_data"
    }
   ],
   "source": [
    "msno.matrix(df)"
   ],
   "metadata": {
    "collapsed": false,
    "ExecuteTime": {
     "end_time": "2024-03-17T20:55:09.053495Z",
     "start_time": "2024-03-17T20:55:08.280581Z"
    }
   },
   "id": "dca4a070032eedb6",
   "execution_count": 3
  },
  {
   "cell_type": "code",
   "outputs": [],
   "source": [
    "msno.bar(df)"
   ],
   "metadata": {
    "collapsed": false,
    "ExecuteTime": {
     "end_time": "2024-03-17T20:55:09.054340Z",
     "start_time": "2024-03-17T20:55:09.054227Z"
    }
   },
   "id": "b2824d65c1262683",
   "execution_count": null
  },
  {
   "cell_type": "markdown",
   "source": [
    "# Removing url and path columns"
   ],
   "metadata": {
    "collapsed": false
   },
   "id": "d8a7936d5280406"
  },
  {
   "cell_type": "code",
   "outputs": [],
   "source": [
    "df = df.drop([\"url\", \"path\"], axis=1)"
   ],
   "metadata": {
    "collapsed": false,
    "ExecuteTime": {
     "end_time": "2024-03-17T20:55:10.892882Z",
     "start_time": "2024-03-17T20:55:10.884216Z"
    }
   },
   "id": "46e6195c71c04f24",
   "execution_count": 4
  },
  {
   "cell_type": "markdown",
   "source": [
    "# Show columns and the percentage at which their values are not null"
   ],
   "metadata": {
    "collapsed": false
   },
   "id": "7cc320142101274f"
  },
  {
   "cell_type": "code",
   "outputs": [
    {
     "name": "stdout",
     "output_type": "stream",
     "text": [
      "id: 100.00%\n",
      "audio si tehnologie: 87.79%\n",
      "confort si echipamente optionale: 89.97%\n",
      "electronice si sisteme de asistenta: 89.00%\n",
      "performanta: 66.12%\n",
      "siguranta: 87.96%\n",
      "vehicule electrice: 12.42%\n",
      "oferit de: 100.00%\n",
      "are vin (serie sasiu): 55.72%\n",
      "marca: 100.00%\n",
      "model: 100.00%\n",
      "versiune: 74.82%\n",
      "anul producției: 100.00%\n",
      "km: 99.57%\n",
      "combustibil: 100.00%\n",
      "putere: 99.95%\n",
      "capacitate cilindrica: 96.93%\n",
      "transmisie: 83.51%\n",
      "norma de poluare: 65.62%\n",
      "consum extraurban: 39.20%\n",
      "cutie de viteze: 100.00%\n",
      "consum urban: 65.83%\n",
      "tip caroserie: 100.00%\n",
      "emisii co2: 46.40%\n",
      "numar de portiere: 97.25%\n",
      "culoare: 100.00%\n",
      "optiuni culoare: 61.23%\n",
      "numar locuri: 75.26%\n",
      "tara de origine: 57.48%\n",
      "data primei inmatriculari: 63.38%\n",
      "inmatriculat: 41.23%\n",
      "primul proprietar (de nou): 40.03%\n",
      "fara accident in istoric: 59.38%\n",
      "carte de service: 59.97%\n",
      "stare: 100.00%\n",
      "description: 96.57%\n",
      "price: 100.00%\n",
      "currency: 100.00%\n",
      "generatie: 51.59%\n",
      "masina de epoca: 0.16%\n",
      "se emite factura: 43.58%\n",
      "eligibil pentru finantare: 42.35%\n",
      "sau in limita a: 12.58%\n",
      "garantie dealer (inclusa in pret): 23.52%\n",
      "autonomie: 1.83%\n",
      "capacitate baterie: 1.68%\n",
      "garantie de la producator pana la: 5.47%\n",
      "predare leasing: 0.88%\n",
      "plata initiala (la predare): 0.38%\n",
      "valoare rata lunara: 0.36%\n",
      "numar de rate lunare ramase: 0.33%\n",
      "valoare reziduala: 0.29%\n",
      "consum mixt: 0.97%\n",
      "consum mediu: 1.26%\n",
      "contract baterie: 1.21%\n",
      "tuning: 1.01%\n",
      "volan pe dreapta: 0.43%\n",
      "timp de incarcare: 0.03%\n"
     ]
    }
   ],
   "source": [
    "def show_columns(df):\n",
    "    for column in df.columns:\n",
    "        print(f\"{column}: {df[column].count() / len(df) * 100:.2f}%\")\n",
    "\n",
    "\n",
    "show_columns(df)"
   ],
   "metadata": {
    "collapsed": false,
    "ExecuteTime": {
     "end_time": "2024-03-17T20:55:11.227275Z",
     "start_time": "2024-03-17T20:55:11.207973Z"
    }
   },
   "id": "217f6b4a7b6e26",
   "execution_count": 5
  },
  {
   "cell_type": "markdown",
   "source": [
    "# Remove electric vehicles and their specific columns as they are outliers"
   ],
   "metadata": {
    "collapsed": false
   },
   "id": "d4496f18e534b108"
  },
  {
   "cell_type": "code",
   "outputs": [
    {
     "name": "stdout",
     "output_type": "stream",
     "text": [
      "Removed 453 electric vehicles\n"
     ]
    }
   ],
   "source": [
    "initial_len = len(df)\n",
    "\n",
    "\n",
    "def remove_electric_vehicles(df):\n",
    "    return df[df[\"combustibil\"] != \"electric\"]\n",
    "\n",
    "\n",
    "def remove_electric_columns(df):\n",
    "    return df.drop([\"vehicule electrice\", \"autonomie\", \"capacitate baterie\", \"contract baterie\", \"timp de incarcare\"], axis=1)\n",
    "\n",
    "\n",
    "df = remove_electric_vehicles(df)\n",
    "df = remove_electric_columns(df)\n",
    "\n",
    "print(f\"Removed {initial_len - len(df)} electric vehicles\")"
   ],
   "metadata": {
    "collapsed": false,
    "ExecuteTime": {
     "end_time": "2024-03-17T20:55:11.528500Z",
     "start_time": "2024-03-17T20:55:11.509718Z"
    }
   },
   "id": "66edf6effca1b764",
   "execution_count": 6
  },
  {
   "cell_type": "markdown",
   "source": [
    "# Remove vehicles that are in leasin, as their price is not accurate to our needs"
   ],
   "metadata": {
    "collapsed": false
   },
   "id": "849640d70d1a3fb0"
  },
  {
   "cell_type": "code",
   "outputs": [
    {
     "name": "stdout",
     "output_type": "stream",
     "text": [
      "Removed 121 leasing vehicles\n"
     ]
    }
   ],
   "source": [
    "initial_len = len(df)\n",
    "\n",
    "\n",
    "def remove_leasing(df):\n",
    "    return df[df[\"predare leasing\"] != \"da\"]\n",
    "\n",
    "\n",
    "def remove_leasing_columns(df):\n",
    "    return df.drop(\n",
    "        [\"predare leasing\", \"plata initiala (la predare)\", \"valoare rata lunara\", \"numar de rate lunare ramase\", \"valoare reziduala\"], axis=1\n",
    "    )\n",
    "\n",
    "\n",
    "df = remove_leasing(df)\n",
    "df = remove_leasing_columns(df)\n",
    "\n",
    "print(f\"Removed {initial_len - len(df)} leasing vehicles\")"
   ],
   "metadata": {
    "collapsed": false,
    "ExecuteTime": {
     "end_time": "2024-03-17T20:55:11.827602Z",
     "start_time": "2024-03-17T20:55:11.810881Z"
    }
   },
   "id": "7cd882e1c0801450",
   "execution_count": 7
  },
  {
   "cell_type": "markdown",
   "source": [
    "# Remove irrelevant columns"
   ],
   "metadata": {
    "collapsed": false
   },
   "id": "66295a42219e7e0f"
  },
  {
   "cell_type": "code",
   "outputs": [],
   "source": [
    "# Removing \"tuning\" column as it is scrapped as bool \"True\" or \"False\", ant the actual tunning in real life can really depend on how much money it cost, so a bool doesn't help us in the car price prediction\n",
    "\n",
    "df = df.drop([\"tuning\"], axis=1)"
   ],
   "metadata": {
    "collapsed": false,
    "ExecuteTime": {
     "end_time": "2024-03-17T20:55:12.113891Z",
     "start_time": "2024-03-17T20:55:12.105517Z"
    }
   },
   "id": "669364664f916ac",
   "execution_count": 8
  },
  {
   "cell_type": "markdown",
   "source": [
    "# Drop all rows that have NaN values in the CORE columns"
   ],
   "metadata": {
    "collapsed": false
   },
   "id": "3dc94e4ec20a0559"
  },
  {
   "cell_type": "code",
   "outputs": [
    {
     "name": "stdout",
     "output_type": "stream",
     "text": [
      "Dropped 0 rows for missing id values.\n",
      "Dropped 0 rows for missing oferit de values.\n",
      "Dropped 0 rows for missing marca values.\n",
      "Dropped 0 rows for missing model values.\n",
      "Dropped 0 rows for missing anul producției values.\n",
      "Dropped 47 rows for missing km values.\n",
      "Dropped 0 rows for missing combustibil values.\n",
      "Dropped 4 rows for missing putere values.\n",
      "Dropped 2 rows for missing capacitate cilindrica values.\n",
      "Dropped 0 rows for missing cutie de viteze values.\n",
      "Dropped 0 rows for missing tip caroserie values.\n",
      "Dropped 0 rows for missing stare values.\n",
      "Dropped 0 rows for missing price values.\n"
     ]
    }
   ],
   "source": [
    "for column in [\n",
    "    \"id\",\n",
    "    \"oferit de\",\n",
    "    \"marca\",\n",
    "    \"model\",\n",
    "    \"anul producției\",\n",
    "    \"km\",\n",
    "    \"combustibil\",\n",
    "    \"putere\",\n",
    "    \"capacitate cilindrica\",\n",
    "    \"cutie de viteze\",\n",
    "    \"tip caroserie\",\n",
    "    \"stare\",\n",
    "    \"price\",\n",
    "]:\n",
    "    df = drop_na(df, column)"
   ],
   "metadata": {
    "collapsed": false,
    "ExecuteTime": {
     "end_time": "2024-03-17T20:55:12.480118Z",
     "start_time": "2024-03-17T20:55:12.401052Z"
    }
   },
   "id": "baf8c4914daa8686",
   "execution_count": 9
  },
  {
   "cell_type": "markdown",
   "source": [
    "# Drop all rows that don't have the currency == 'eur', (we could transofmr ron to euro but there are really a few of them)"
   ],
   "metadata": {
    "collapsed": false
   },
   "id": "3c38544b5a952008"
  },
  {
   "cell_type": "code",
   "outputs": [
    {
     "name": "stdout",
     "output_type": "stream",
     "text": [
      "Removed 19 non eur currency vehicles\n"
     ]
    }
   ],
   "source": [
    "initial_len = len(df)\n",
    "\n",
    "df = df[df[\"currency\"] == \"eur\"]\n",
    "\n",
    "print(f\"Removed {initial_len - len(df)} non eur currency vehicles\")\n",
    "\n",
    "# Also remove the column\n",
    "df = df.drop([\"currency\"], axis=1)"
   ],
   "metadata": {
    "collapsed": false,
    "ExecuteTime": {
     "end_time": "2024-03-17T20:55:12.700128Z",
     "start_time": "2024-03-17T20:55:12.684714Z"
    }
   },
   "id": "866dcf12a5cd55b8",
   "execution_count": 10
  },
  {
   "cell_type": "code",
   "outputs": [],
   "source": [
    "# Remove outliers vehicles that have a price"
   ],
   "metadata": {
    "collapsed": false
   },
   "id": "144ef6a115b21176"
  },
  {
   "cell_type": "code",
   "outputs": [],
   "source": [
    "df.to_csv(CLEANED_CSV, index=False)"
   ],
   "metadata": {
    "collapsed": false,
    "ExecuteTime": {
     "end_time": "2024-03-17T20:55:13.319613Z",
     "start_time": "2024-03-17T20:55:12.853745Z"
    }
   },
   "id": "9fd3c5852f63142b",
   "execution_count": 11
  }
 ],
 "metadata": {
  "kernelspec": {
   "display_name": "Python 3",
   "language": "python",
   "name": "python3"
  },
  "language_info": {
   "codemirror_mode": {
    "name": "ipython",
    "version": 2
   },
   "file_extension": ".py",
   "mimetype": "text/x-python",
   "name": "python",
   "nbconvert_exporter": "python",
   "pygments_lexer": "ipython2",
   "version": "2.7.6"
  }
 },
 "nbformat": 4,
 "nbformat_minor": 5
}
