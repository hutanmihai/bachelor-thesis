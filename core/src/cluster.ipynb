{
 "cells": [
  {
   "cell_type": "code",
   "execution_count": null,
   "id": "initial_id",
   "metadata": {
    "collapsed": true
   },
   "outputs": [],
   "source": [
    "from sklearn.cluster import KMeans\n",
    "from sklearn.model_selection import train_test_split\n",
    "from sklearn.preprocessing import StandardScaler, OneHotEncoder\n",
    "import pandas as pd\n",
    "from constants import ROCAR_CSV"
   ]
  },
  {
   "cell_type": "code",
   "outputs": [],
   "source": [
    "import category_encoders as ce\n",
    "\n",
    "scaler = StandardScaler()\n",
    "\n",
    "df = pd.read_csv(ROCAR_CSV)\n",
    "\n",
    "print(len(df))\n",
    "# # drop the rows that have anul productiei less than 2000\n",
    "df = df[df[\"anul producției\"] >= 2000]\n",
    "# drop the rows that have a marca that appears less than 5 times\n",
    "temp_df = df[\"marca\"].value_counts()\n",
    "temp_df2 = df[df[\"price\"] <= 60000]\n",
    "df = df[df[\"marca\"].isin(temp_df[temp_df >= 5].index)]\n",
    "\n",
    "print(len(df))\n",
    "df.head(5)"
   ],
   "metadata": {
    "collapsed": false
   },
   "id": "940c63b33c58b6af",
   "execution_count": null
  },
  {
   "cell_type": "code",
   "outputs": [],
   "source": [
    "# Columns to encode\n",
    "categorical_columns = [\"oferit de\", \"marca\", \"model\", \"anul producției\", \"combustibil\", \"cutie de viteze\", \"tip caroserie\", \"stare\"]\n",
    "\n",
    "# Setting up the encoder\n",
    "target_encoder = ce.TargetEncoder(cols=categorical_columns)\n",
    "\n",
    "# Fit the encoder using the training data\n",
    "train_df_encoded = target_encoder.fit_transform(df[categorical_columns], df[\"price\"])\n",
    "\n",
    "numeric_columns = [\"km\", \"putere\", \"capacitate cilindrica\"]\n",
    "numeric_columns_df = scaler.fit_transform(df[numeric_columns])\n",
    "numeric_columns_df = pd.DataFrame(numeric_columns_df, columns=numeric_columns)\n",
    "\n",
    "normalized_train_df_encoded = scaler.fit_transform(train_df_encoded)\n",
    "normalized_train_df_encoded = pd.DataFrame(normalized_train_df_encoded, columns=categorical_columns)\n",
    "\n",
    "features = pd.concat([normalized_train_df_encoded, numeric_columns_df], axis=1)\n",
    "\n",
    "# Display the first 5 rows of the encoded data\n",
    "features.head(5)"
   ],
   "metadata": {
    "collapsed": false
   },
   "id": "44d64c4565075d93",
   "execution_count": null
  },
  {
   "cell_type": "code",
   "outputs": [],
   "source": [
    "kmeans = KMeans(n_clusters=200, random_state=42)  # Choose an appropriate number of clusters\n",
    "features[\"cluster\"] = kmeans.fit_predict(features)\n",
    "\n",
    "print(features[\"cluster\"].value_counts())"
   ],
   "metadata": {
    "collapsed": false
   },
   "id": "5cfea3b3a75309fe",
   "execution_count": null
  },
  {
   "cell_type": "code",
   "outputs": [],
   "source": [
    "from torch.optim.lr_scheduler import ReduceLROnPlateau\n",
    "import torch\n",
    "from torch.utils.data import Dataset, DataLoader\n",
    "from sklearn.model_selection import train_test_split, StratifiedShuffleSplit\n",
    "\n",
    "\n",
    "# Convert DataFrame to PyTorch tensors\n",
    "class CarDataset(Dataset):\n",
    "    def __init__(self, features, labels):\n",
    "        self.features = torch.tensor(features.values, dtype=torch.float32)\n",
    "        self.labels = torch.tensor(labels.values, dtype=torch.float32)\n",
    "\n",
    "    def __len__(self):\n",
    "        return len(self.features)\n",
    "\n",
    "    def __getitem__(self, idx):\n",
    "        return self.features[idx], self.labels[idx]\n",
    "\n",
    "\n",
    "labels = df[\"price\"]\n",
    "features_train, features_val, labels_train, labels_val = train_test_split(\n",
    "    features, labels, stratify=features[\"cluster\"], test_size=0.2, random_state=42\n",
    ")\n",
    "# train_indexes, val_indexes = StratifiedShuffleSplit(n_splits=1, test_size=0.2, random_state=42).split(features, features['cluster'])\n",
    "# features_train, labels_train = features.iloc[train_indexes[0]], labels.iloc[train_indexes[0]]\n",
    "# features_val, labels_val = features.iloc[val_indexes[0]], labels.iloc[val_indexes[0]]\n",
    "train_dataset = CarDataset(features_train, labels_train)\n",
    "val_dataset = CarDataset(features_val, labels_val)\n",
    "\n",
    "train_loader = DataLoader(train_dataset, batch_size=128, shuffle=True)\n",
    "val_loader = DataLoader(val_dataset, batch_size=128, shuffle=False)\n",
    "\n",
    "from torch import nn\n",
    "\n",
    "\n",
    "class Net(nn.Module):\n",
    "    def __init__(self):\n",
    "        super(Net, self).__init__()\n",
    "        self.fc1 = nn.Linear(features.shape[1], 64)  # Input layer to hidden layer with 128 neurons\n",
    "        self.fc2 = nn.Linear(64, 128)  # Second hidden layer\n",
    "        self.fc3 = nn.Linear(128, 256)  # Output layer\n",
    "        self.dropout = nn.Dropout(0.2)\n",
    "        self.fc4 = nn.Linear(256, 1)\n",
    "\n",
    "    def forward(self, x):\n",
    "        x = torch.relu(self.fc1(x))\n",
    "        x = torch.relu(self.fc2(x))\n",
    "        x = torch.relu(self.fc3(x))\n",
    "        x = self.dropout(x)\n",
    "        x = self.fc4(x)\n",
    "        return x\n",
    "\n",
    "\n",
    "device = torch.device(\"cuda\" if torch.cuda.is_available() else \"cpu\")\n",
    "\n",
    "model = Net()\n",
    "device = torch.device(\"cuda\" if torch.cuda.is_available() else \"cpu\")\n",
    "model.to(device)\n",
    "\n",
    "criterion = nn.L1Loss()\n",
    "optimizer = torch.optim.Adam(model.parameters(), lr=0.001)\n",
    "history = {\"train_loss\": [], \"val_loss\": []}\n",
    "scheduler = ReduceLROnPlateau(optimizer, \"min\", patience=10, factor=0.5)\n",
    "\n",
    "trainSteps = len(train_loader.dataset) // 128\n",
    "valSteps = len(val_loader.dataset) // 128\n",
    "\n",
    "# Training loop\n",
    "num_epochs = 2000\n",
    "for epoch in range(num_epochs):\n",
    "    model.train()\n",
    "    train_loss = 0\n",
    "    for inputs, targets in train_loader:\n",
    "        inputs, targets = inputs.to(device), targets.to(device)\n",
    "        optimizer.zero_grad()\n",
    "        outputs = model(inputs)\n",
    "        loss = criterion(outputs, targets.view(-1, 1))\n",
    "        loss.backward()\n",
    "        optimizer.step()\n",
    "        train_loss += loss.item()\n",
    "\n",
    "    # Validation\n",
    "    model.eval()\n",
    "    val_loss = 0\n",
    "    with torch.no_grad():\n",
    "        for inputs, targets in val_loader:\n",
    "            inputs, targets = inputs.to(device), targets.to(device)\n",
    "            outputs = model(inputs)\n",
    "            loss = criterion(outputs, targets.view(-1, 1))\n",
    "            val_loss += loss.item()\n",
    "\n",
    "    avg_train_loss = train_loss / trainSteps\n",
    "    avg_val_loss = val_loss / valSteps\n",
    "    history[\"train_loss\"].append(avg_train_loss)\n",
    "    history[\"val_loss\"].append(avg_val_loss)\n",
    "\n",
    "    scheduler.step(avg_val_loss)\n",
    "    scheduler.get_last_lr()\n",
    "    print(f\"Epoch {epoch + 1}, Train Loss: {avg_train_loss:.4f}, Validation: {avg_val_loss:.4f}\")\n",
    "\n",
    "# plot history\n",
    "import matplotlib.pyplot as plt\n",
    "\n",
    "plt.plot(history[\"train_loss\"], label=\"train loss\")\n",
    "plt.plot(history[\"val_loss\"], label=\"validation loss\")\n",
    "plt.xlabel(\"Epoch\")\n",
    "plt.ylabel(\"MSE Loss\")\n",
    "plt.legend()\n",
    "plt.show()"
   ],
   "metadata": {
    "collapsed": false
   },
   "id": "e7aa3d2c46afef14",
   "execution_count": null
  },
  {
   "cell_type": "code",
   "outputs": [],
   "source": [
    "# test more visually, i want to see the values before the transformation and the prediction price\n",
    "import numpy as np\n",
    "\n",
    "model.eval()\n",
    "with torch.no_grad():\n",
    "    inputs, targets = next(iter(val_loader))\n",
    "    inputs, targets = inputs.to(device), targets.to(device)\n",
    "    outputs = model(inputs)\n",
    "    inputs = inputs.cpu().numpy()\n",
    "    targets = targets.cpu().numpy()\n",
    "    outputs = outputs.cpu().numpy()\n",
    "    for output, target in zip(outputs, targets):\n",
    "        print(f\"Predicted price: {output[0]:.2f}, Actual price: {target:.2f}\")\n",
    "        print(\"---\")"
   ],
   "metadata": {
    "collapsed": false
   },
   "id": "8dd3995471ac639e",
   "execution_count": null
  },
  {
   "cell_type": "code",
   "outputs": [],
   "source": [],
   "metadata": {
    "collapsed": false
   },
   "id": "eade1389e7952b06"
  }
 ],
 "metadata": {
  "kernelspec": {
   "display_name": "Python 3",
   "language": "python",
   "name": "python3"
  },
  "language_info": {
   "codemirror_mode": {
    "name": "ipython",
    "version": 2
   },
   "file_extension": ".py",
   "mimetype": "text/x-python",
   "name": "python",
   "nbconvert_exporter": "python",
   "pygments_lexer": "ipython2",
   "version": "2.7.6"
  }
 },
 "nbformat": 4,
 "nbformat_minor": 5
}
