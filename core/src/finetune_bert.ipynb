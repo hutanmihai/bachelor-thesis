{
 "cells": [
  {
   "cell_type": "code",
   "execution_count": null,
   "id": "initial_id",
   "metadata": {
    "collapsed": true
   },
   "outputs": [],
   "source": [
    "import pandas as pd\n",
    "import torch\n",
    "from sklearn.model_selection import train_test_split\n",
    "from torch.utils.data import Dataset\n",
    "from transformers import AutoTokenizer, TrainingArguments, Trainer, AutoModelForMaskedLM\n",
    "from constants import ROCAR_CSV, FINE_TUNED_BERT_MODEL_PATH"
   ]
  },
  {
   "cell_type": "markdown",
   "source": [
    "## Load the data and add special tokens"
   ],
   "metadata": {
    "collapsed": false
   },
   "id": "32a22f13b1bc1256"
  },
  {
   "cell_type": "code",
   "outputs": [],
   "source": [
    "df = pd.read_csv(ROCAR_CSV)[:10]"
   ],
   "metadata": {
    "collapsed": false
   },
   "id": "e1ab5aecccd56610",
   "execution_count": null
  },
  {
   "cell_type": "code",
   "outputs": [],
   "source": [
    "# Stefan Dumitrescu, Andrei-Marius Avram, and Sampo Pyysalo. 2020. The birth of Romanian BERT. In Findings of the Association for Computational Linguistics: EMNLP 2020, pages 4324–4328, Online. Association for Computational Linguistics.\n",
    "# https://huggingface.co/dumitrescustefan/bert-base-romanian-cased-v1\n",
    "tokenizer = AutoTokenizer.from_pretrained(\"dumitrescustefan/bert-base-romanian-uncased-v1\", do_lower_case=True)\n",
    "model = AutoModelForMaskedLM.from_pretrained(\"dumitrescustefan/bert-base-romanian-uncased-v1\")\n",
    "\n",
    "torch.cuda.empty_cache()\n",
    "\n",
    "model"
   ],
   "metadata": {
    "collapsed": false
   },
   "id": "cb7c827dd11b7e12",
   "execution_count": null
  },
  {
   "cell_type": "markdown",
   "source": [
    "## Tokenize inputs and create datasets"
   ],
   "metadata": {
    "collapsed": false
   },
   "id": "4ceee66e16ce20c2"
  },
  {
   "cell_type": "code",
   "outputs": [],
   "source": [
    "class CustomDataset(Dataset):\n",
    "    def __init__(self, encodings):\n",
    "        self.encodings = encodings\n",
    "\n",
    "    def __getitem__(self, idx):\n",
    "        item = {key: torch.tensor(val[idx]) for key, val in self.encodings.items()}\n",
    "        return item\n",
    "\n",
    "    def __len__(self):\n",
    "        return len(self.encodings[\"input_ids\"])\n",
    "\n",
    "\n",
    "descriptions = list(df[\"input\"])\n",
    "train_texts, eval_texts = train_test_split(descriptions, test_size=0.2, random_state=42)\n",
    "\n",
    "train_encodings = tokenizer(train_texts, max_length=512, truncation=True, padding=True)\n",
    "eval_encodings = tokenizer(eval_texts, max_length=512, truncation=True, padding=True)\n",
    "\n",
    "train_dataset = CustomDataset(train_encodings)\n",
    "eval_dataset = CustomDataset(eval_encodings)"
   ],
   "metadata": {
    "collapsed": false
   },
   "id": "555b6fed2770e6cb",
   "execution_count": null
  },
  {
   "cell_type": "code",
   "outputs": [],
   "source": [
    "from torch.utils.data import DataLoader\n",
    "\n",
    "loader = DataLoader(train_dataset, batch_size=10)"
   ],
   "metadata": {
    "collapsed": false
   },
   "id": "e32aefd38911256d",
   "execution_count": null
  },
  {
   "cell_type": "code",
   "outputs": [],
   "source": [
    "from transformers import DataCollatorForLanguageModeling\n",
    "\n",
    "data_collator = DataCollatorForLanguageModeling(tokenizer=tokenizer, mlm=True, mlm_probability=0.15)"
   ],
   "metadata": {
    "collapsed": false
   },
   "id": "886664cf08891864",
   "execution_count": null
  },
  {
   "cell_type": "markdown",
   "source": [
    "## Hyperparam tuning"
   ],
   "metadata": {
    "collapsed": false
   },
   "id": "a60197aae58dc5eb"
  },
  {
   "cell_type": "code",
   "outputs": [],
   "source": [
    "training_args = TrainingArguments(\n",
    "    output_dir=\"results-v2\",\n",
    "    save_strategy=\"epoch\",\n",
    "    num_train_epochs=10,\n",
    "    per_device_train_batch_size=16,\n",
    "    per_device_eval_batch_size=16,\n",
    "    logging_dir=\"logs\",\n",
    "    logging_steps=1,\n",
    "    learning_rate=1e-5,\n",
    "    optim=\"adamw_torch\",\n",
    "    evaluation_strategy=\"epoch\",\n",
    ")"
   ],
   "metadata": {
    "collapsed": false
   },
   "id": "211a6c0d03b4e084",
   "execution_count": null
  },
  {
   "cell_type": "code",
   "outputs": [],
   "source": [
    "trainer = Trainer(\n",
    "    model=model,\n",
    "    args=training_args,\n",
    "    train_dataset=train_dataset,\n",
    "    eval_dataset=eval_dataset,\n",
    "    data_collator=data_collator,\n",
    ")"
   ],
   "metadata": {
    "collapsed": false
   },
   "id": "765b29c9a5a89b52",
   "execution_count": null
  },
  {
   "cell_type": "code",
   "outputs": [],
   "source": [
    "trainer.train()"
   ],
   "metadata": {
    "collapsed": false
   },
   "id": "a9e2a4e3e6cebebc",
   "execution_count": null
  },
  {
   "cell_type": "code",
   "outputs": [],
   "source": [
    "model.save_pretrained(FINE_TUNED_BERT_MODEL_PATH)"
   ],
   "metadata": {
    "collapsed": false
   },
   "id": "81ea6e1679ee4980",
   "execution_count": null
  }
 ],
 "metadata": {
  "kernelspec": {
   "display_name": "Python 3",
   "language": "python",
   "name": "python3"
  },
  "language_info": {
   "codemirror_mode": {
    "name": "ipython",
    "version": 2
   },
   "file_extension": ".py",
   "mimetype": "text/x-python",
   "name": "python",
   "nbconvert_exporter": "python",
   "pygments_lexer": "ipython2",
   "version": "2.7.6"
  }
 },
 "nbformat": 4,
 "nbformat_minor": 5
}
