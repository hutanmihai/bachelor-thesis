{
 "cells": [
  {
   "cell_type": "code",
   "execution_count": null,
   "id": "initial_id",
   "metadata": {
    "collapsed": true
   },
   "outputs": [],
   "source": [
    "from constants import FINAL_CSV, CORE_FORMATTED_CSV, JSON_PATH\n",
    "import pandas as pd\n",
    "import json\n",
    "import missingno as msno"
   ]
  },
  {
   "cell_type": "code",
   "outputs": [],
   "source": [
    "df = pd.read_csv(FINAL_CSV)"
   ],
   "metadata": {
    "collapsed": false
   },
   "id": "52b0368e94f28eea",
   "execution_count": null
  },
  {
   "cell_type": "code",
   "outputs": [],
   "source": [
    "df = df[df[\"id\"] != \"ID7HeZrU\"]\n",
    "df.drop([\"url\", \"path\", \"id\"], axis=1, inplace=True)\n",
    "\n",
    "df = df.rename(\n",
    "    columns={\n",
    "        \"unique_id\": \"id\",\n",
    "        \"audio si tehnologie\": \"audio & technology\",\n",
    "        \"confort si echipamente optionale\": \"comfort & optional equipment\",\n",
    "        \"electronice si sisteme de asistenta\": \"electronics & assistance systems\",\n",
    "        \"performanta\": \"performance\",\n",
    "        \"siguranta\": \"safety\",\n",
    "        \"vehicule electrice\": \"electric vehicles\",\n",
    "        \"oferit de\": \"sold by\",\n",
    "        \"are vin (serie sasiu)\": \"has vin (chassis number)\",\n",
    "        \"marca\": \"manufacturer\",\n",
    "        \"model\": \"model\",\n",
    "        \"versiune\": \"version\",\n",
    "        \"anul producției\": \"year\",\n",
    "        \"km\": \"km\",\n",
    "        \"combustibil\": \"fuel\",\n",
    "        \"putere\": \"power\",\n",
    "        \"capacitate cilindrica\": \"engine_capacity\",\n",
    "        \"transmisie\": \"transmission\",\n",
    "        \"norma de poluare\": \"pollution norm\",\n",
    "        \"consum extraurban\": \"extra-urban consumption\",\n",
    "        \"cutie de viteze\": \"gearbox\",\n",
    "        \"consum urban\": \"urban consumption\",\n",
    "        \"tip caroserie\": \"chassis\",\n",
    "        \"emisii co2\": \"co2 emissions\",\n",
    "        \"numar de portiere\": \"doors\",\n",
    "        \"culoare\": \"color\",\n",
    "        \"optiuni culoare\": \"color options\",\n",
    "        \"numar locuri\": \"seats\",\n",
    "        \"tara de origine\": \"country of origin\",\n",
    "        \"data primei inmatriculari\": \"first registration date\",\n",
    "        \"inmatriculat\": \"registered\",\n",
    "        \"primul proprietar (de nou)\": \"first owner\",\n",
    "        \"fara accident in istoric\": \"undamaged history\",\n",
    "        \"carte de service\": \"service book\",\n",
    "        \"stare\": \"condition\",\n",
    "        \"description\": \"description\",\n",
    "        \"price\": \"price\",\n",
    "        \"currency\": \"currency\",\n",
    "        \"generatie\": \"generation\",\n",
    "        \"masina de epoca\": \"vintage car\",\n",
    "        \"se emite factura\": \"invoice issued\",\n",
    "        \"eligibil pentru finantare\": \"eligible for financing\",\n",
    "        \"autonomie\": \"autonomy\",\n",
    "        \"capacitate baterie\": \"battery capacity\",\n",
    "        \"predare leasing\": \"leasing transfer\",\n",
    "        \"consum mixt\": \"mixed consumption\",\n",
    "        \"consum mediu\": \"average consumption\",\n",
    "        \"contract baterie\": \"battery contract\",\n",
    "        \"tuning\": \"tuning\",\n",
    "        \"volan pe dreapta\": \"right hand drive\",\n",
    "        \"timp de incarcare\": \"charging time\",\n",
    "        \"garantie dealer (inclusa in pret)\": \"dealer warranty (included in price)\",\n",
    "        \"sau in limita a\": \"or within\",\n",
    "        \"garantie de la producator pana la\": \"manufacturer warranty until\",\n",
    "        \"plata initiala (la predare)\": \"initial payment (on delivery)\",\n",
    "        \"valoare rata lunara\": \"monthly rate value\",\n",
    "        \"numar de rate lunare ramase\": \"number of remaining monthly rates\",\n",
    "        \"valoare reziduala\": \"residual value\",\n",
    "    }\n",
    ")\n",
    "\n",
    "df.head(5)"
   ],
   "metadata": {
    "collapsed": false
   },
   "id": "9aa6386e46a00d0e",
   "execution_count": null
  },
  {
   "cell_type": "markdown",
   "source": [
    "## Remove electric vehicles and their specific columns as they are outliers"
   ],
   "metadata": {
    "collapsed": false
   },
   "id": "5d5839cbffe801d6"
  },
  {
   "cell_type": "code",
   "outputs": [],
   "source": [
    "ELECTRIC_COLUMNS = [\n",
    "    \"electric vehicles\",\n",
    "    \"autonomy\",\n",
    "    \"battery capacity\",\n",
    "    \"battery contract\",\n",
    "    \"charging time\",\n",
    "]\n",
    "\n",
    "\n",
    "def remove_electric_vehicles(df):\n",
    "    initial_len = len(df)\n",
    "    df = df[df[\"fuel\"] != \"electric\"]\n",
    "    # for col in ELECTRIC_COLUMNS:\n",
    "    #     df = df[df[col].isna()]\n",
    "    print(f\"Removed {initial_len - len(df)} electric vehicles\")\n",
    "    df = df.drop(\n",
    "        ELECTRIC_COLUMNS,\n",
    "        axis=1,\n",
    "    )\n",
    "    return df\n",
    "\n",
    "\n",
    "print(df[\"fuel\"].value_counts())\n",
    "print(df[\"fuel\"].unique())\n",
    "df = remove_electric_vehicles(df)"
   ],
   "metadata": {
    "collapsed": false
   },
   "id": "740854ba7de00a89",
   "execution_count": null
  },
  {
   "cell_type": "markdown",
   "source": [
    "## Remove vehicles that are in leasing, as their price is not accurate to our needs"
   ],
   "metadata": {
    "collapsed": false
   },
   "id": "9c99cf237d209b2"
  },
  {
   "cell_type": "code",
   "outputs": [],
   "source": [
    "LEASING_COLUMNS = [\n",
    "    \"leasing transfer\",\n",
    "    \"initial payment (on delivery)\",\n",
    "    \"monthly rate value\",\n",
    "    \"number of remaining monthly rates\",\n",
    "    \"residual value\",\n",
    "]\n",
    "\n",
    "\n",
    "def remove_leasing(df):\n",
    "    initial_len = len(df)\n",
    "    df = df[df[\"leasing transfer\"] != \"da\"]\n",
    "    # for col in LEASING_COLUMNS:\n",
    "    #     df = df[df[col].isna()]\n",
    "    print(f\"Removed {initial_len - len(df)} leasing vehicles\")\n",
    "    df = df.drop(\n",
    "        LEASING_COLUMNS,\n",
    "        axis=1,\n",
    "    )\n",
    "    return df\n",
    "\n",
    "\n",
    "df = remove_leasing(df)"
   ],
   "metadata": {
    "collapsed": false
   },
   "id": "fd9ef9ff662678bd",
   "execution_count": null
  },
  {
   "cell_type": "markdown",
   "source": [
    "## Remove tuned cars as they are outliers, and also not detailed enough, as tuning can vary a lot"
   ],
   "metadata": {
    "collapsed": false
   },
   "id": "d0ee22993675e88f"
  },
  {
   "cell_type": "code",
   "outputs": [],
   "source": [
    "def remove_tuning(df):\n",
    "    initial_len = len(df)\n",
    "    df = df[df[\"tuning\"] != \"da\"]\n",
    "    print(f\"Removed {initial_len - len(df)} tuned vehicles\")\n",
    "    df = df.drop([\"tuning\"], axis=1)\n",
    "    return df\n",
    "\n",
    "\n",
    "print(df[\"tuning\"].value_counts())\n",
    "print(df[\"tuning\"].unique())\n",
    "df = remove_tuning(df)"
   ],
   "metadata": {
    "collapsed": false
   },
   "id": "2b98a8a4efb786ef",
   "execution_count": null
  },
  {
   "cell_type": "markdown",
   "source": [
    "## Drop rows that have currency different than eur"
   ],
   "metadata": {
    "collapsed": false
   },
   "id": "bacba5110cf8b17e"
  },
  {
   "cell_type": "code",
   "outputs": [],
   "source": [
    "def remove_non_eur_currency(df):\n",
    "    initial_len = len(df)\n",
    "    df = df[df[\"currency\"] == \"eur\"]\n",
    "    print(f\"Removed {initial_len - len(df)} non eur currency vehicles\")\n",
    "    df = df.drop([\"currency\"], axis=1)\n",
    "    return df\n",
    "\n",
    "\n",
    "print(df[\"currency\"].isna().sum())\n",
    "print(df[\"currency\"].value_counts())\n",
    "print(df[\"currency\"].unique())\n",
    "df = remove_non_eur_currency(df)"
   ],
   "metadata": {
    "collapsed": false
   },
   "id": "bf43da1629cdbb6d",
   "execution_count": null
  },
  {
   "cell_type": "markdown",
   "source": [
    "## Drop vintage cars, as they are outliers (also remove cars older than 2000)"
   ],
   "metadata": {
    "collapsed": false
   },
   "id": "ae9ad2a1985e5012"
  },
  {
   "cell_type": "code",
   "outputs": [],
   "source": [
    "def remove_vintage_cars(df):\n",
    "    initial_len = len(df)\n",
    "    df = df[df[\"vintage car\"] != \"da\"]\n",
    "    print(f\"Removed {initial_len - len(df)} vintage cars\")\n",
    "    df = df.drop([\"vintage car\"], axis=1)\n",
    "    initial_len = len(df)\n",
    "    df = df[df[\"year\"] >= 2000]\n",
    "    print(f\"Removed {initial_len - len(df)} older than 2000 cars\")\n",
    "    return df\n",
    "\n",
    "\n",
    "print(df[\"vintage car\"].value_counts())\n",
    "print(df[\"vintage car\"].unique())\n",
    "print(df[\"year\"].isna().sum())\n",
    "print(df[\"year\"].value_counts())\n",
    "print(df[\"year\"].unique())\n",
    "df = remove_vintage_cars(df)"
   ],
   "metadata": {
    "collapsed": false
   },
   "id": "d37621be8a5a0e97",
   "execution_count": null
  },
  {
   "cell_type": "markdown",
   "source": [
    "## Drop the column \"right hand drive\" as there is a few data points for it, outliers"
   ],
   "metadata": {
    "collapsed": false
   },
   "id": "81b3d6ae4b8b8cb6"
  },
  {
   "cell_type": "code",
   "outputs": [],
   "source": [
    "def remove_volan_pe_dreapta(df):\n",
    "    initial_len = len(df)\n",
    "    df = df[df[\"right hand drive\"] != \"da\"]\n",
    "    print(f\"Removed {initial_len - len(df)} right hand drive cars\")\n",
    "    df = df.drop([\"right hand drive\"], axis=1)\n",
    "    return df\n",
    "\n",
    "\n",
    "print(df[\"right hand drive\"].value_counts())\n",
    "print(df[\"right hand drive\"].unique())\n",
    "df = remove_volan_pe_dreapta(df)"
   ],
   "metadata": {
    "collapsed": false
   },
   "id": "edcc33a39b6fba67",
   "execution_count": null
  },
  {
   "cell_type": "markdown",
   "source": [
    "## Remove fuel outliers"
   ],
   "metadata": {
    "collapsed": false
   },
   "id": "a014766813c519d8"
  },
  {
   "cell_type": "code",
   "outputs": [],
   "source": [
    "print(df[\"fuel\"].value_counts())\n",
    "\n",
    "\n",
    "def remove_fuel_outliers(df):\n",
    "    initial_len = len(df)\n",
    "    df = df[df[\"fuel\"].isin([\"benzina\", \"diesel\"])]\n",
    "    df[\"fuel\"] = df[\"fuel\"].replace({\"benzina\": \"gasoline\", \"diesel\": \"diesel\"})\n",
    "    print(f\"Removed {initial_len - len(df)} fuel outliers\")\n",
    "    return df\n",
    "\n",
    "\n",
    "df = remove_fuel_outliers(df)\n",
    "print(df[\"fuel\"].isna().sum())\n",
    "print(df[\"fuel\"].value_counts())\n",
    "print(df[\"fuel\"].unique())"
   ],
   "metadata": {
    "collapsed": false
   },
   "id": "fa6f6bb6367bab7e",
   "execution_count": null
  },
  {
   "cell_type": "markdown",
   "source": [
    "## Format numeric columns"
   ],
   "metadata": {
    "collapsed": false
   },
   "id": "573217abb122d97f"
  },
  {
   "cell_type": "code",
   "outputs": [],
   "source": [
    "def format_numeric_columns(df):\n",
    "    def format_km():\n",
    "        df[\"km\"] = df[\"km\"].str.replace(\" km\", \"\").str.replace(\" \", \"\").astype(int)\n",
    "\n",
    "    def format_horsepower():\n",
    "        df[\"power\"] = df[\"power\"].str.replace(\" cp\", \"\").str.replace(\" \", \"\").astype(int)\n",
    "\n",
    "    def format_motor_capacity():\n",
    "        df[\"engine_capacity\"] = df[\"engine_capacity\"].str.replace(\" cm3\", \"\").str.replace(\" \", \"\").astype(int)\n",
    "\n",
    "    def format_price():\n",
    "        df[\"price\"] = df[\"price\"].astype(str)\n",
    "        df[\"price\"] = df[\"price\"].str.replace(r\"\\..*\", \"\", regex=True)\n",
    "        df[\"price\"] = df[\"price\"].str.replace(r\",.*\", \"\", regex=True)\n",
    "        df[\"price\"] = df[\"price\"].astype(int)\n",
    "\n",
    "    format_km()\n",
    "    format_horsepower()\n",
    "    format_motor_capacity()\n",
    "    format_price()\n",
    "    return df\n",
    "\n",
    "\n",
    "print(df[\"km\"].isna().sum())\n",
    "print(df[\"power\"].isna().sum())\n",
    "print(df[\"engine_capacity\"].isna().sum())\n",
    "print(df[\"price\"].isna().sum())\n",
    "\n",
    "df.loc[df[\"condition\"] == \"nou\", \"km\"] = \"1 km\"\n",
    "df = df.dropna(subset=[\"km\", \"power\", \"engine_capacity\", \"price\"])\n",
    "\n",
    "print(df[\"km\"].isna().sum())\n",
    "print(df[\"power\"].isna().sum())\n",
    "print(df[\"engine_capacity\"].isna().sum())\n",
    "print(df[\"price\"].isna().sum())\n",
    "\n",
    "df = format_numeric_columns(df)"
   ],
   "metadata": {
    "collapsed": false
   },
   "id": "aeac8c10e915384d",
   "execution_count": null
  },
  {
   "cell_type": "markdown",
   "source": [
    "## Drop consumption related columns as there is not enough data"
   ],
   "metadata": {
    "collapsed": false
   },
   "id": "3782c917d12ba143"
  },
  {
   "cell_type": "code",
   "outputs": [],
   "source": [
    "CONSUM_COLS = [\"extra-urban consumption\", \"urban consumption\", \"mixed consumption\", \"average consumption\"]\n",
    "\n",
    "df = df.drop(columns=CONSUM_COLS)"
   ],
   "metadata": {
    "collapsed": false
   },
   "id": "180b8c8bbd8199b0",
   "execution_count": null
  },
  {
   "cell_type": "markdown",
   "source": [
    "## Drop warranty columns as there is not enough data"
   ],
   "metadata": {
    "collapsed": false
   },
   "id": "a6b53da4adcbac7f"
  },
  {
   "cell_type": "code",
   "outputs": [],
   "source": [
    "WARRANTY_COLS = [\"dealer warranty (included in price)\", \"or within\", \"manufacturer warranty until\"]\n",
    "\n",
    "\n",
    "def remove_warranty_vehicles(df):\n",
    "    initial_len = len(df)\n",
    "    for col in WARRANTY_COLS:\n",
    "        df = df[df[col].isna()]\n",
    "    print(f\"Removed {initial_len - len(df)} warranty vehicles\")\n",
    "    df = df.drop(\n",
    "        WARRANTY_COLS,\n",
    "        axis=1,\n",
    "    )\n",
    "    return df\n",
    "\n",
    "\n",
    "df = remove_warranty_vehicles(df)"
   ],
   "metadata": {
    "collapsed": false
   },
   "id": "4ad784bd2829c933",
   "execution_count": null
  },
  {
   "cell_type": "code",
   "outputs": [],
   "source": [
    "UNUSED_COLUMNS = [\n",
    "    \"invoice issued\",\n",
    "    \"eligible for financing\",\n",
    "    \"has vin (chassis number)\",\n",
    "]\n",
    "\n",
    "MORE_UNUSED_COLUMNS = [\n",
    "    \"version\",\n",
    "    \"generation\",\n",
    "    \"country of origin\",\n",
    "    \"color\",\n",
    "    \"color options\",\n",
    "    \"transmission\",\n",
    "]\n",
    "\n",
    "HISTORY_COLS = [\n",
    "    \"first registration date\",\n",
    "    \"registered\",\n",
    "    \"first owner\",\n",
    "    \"undamaged history\",\n",
    "    \"service book\",\n",
    "]\n",
    "\n",
    "POLUTION_COLS = [\"pollution norm\", \"co2 emissions\"]\n",
    "\n",
    "OTHER_COLS = [\"doors\", \"seats\"]\n",
    "\n",
    "df = df.drop(columns=UNUSED_COLUMNS)\n",
    "df = df.drop(columns=MORE_UNUSED_COLUMNS)\n",
    "df = df.drop(columns=HISTORY_COLS)\n",
    "df = df.drop(columns=POLUTION_COLS)\n",
    "df = df.drop(columns=OTHER_COLS)"
   ],
   "metadata": {
    "collapsed": false
   },
   "id": "16b34e5b7079e983",
   "execution_count": null
  },
  {
   "cell_type": "markdown",
   "source": [
    "## Concat custom options"
   ],
   "metadata": {
    "collapsed": false
   },
   "id": "95a68a8ec215b865"
  },
  {
   "cell_type": "code",
   "outputs": [],
   "source": [
    "CUSTOM_OPTIONS_COLUMNS = [\n",
    "    \"audio & technology\",\n",
    "    \"comfort & optional equipment\",\n",
    "    \"electronics & assistance systems\",\n",
    "    \"performance\",\n",
    "    \"safety\",\n",
    "]\n",
    "\n",
    "for col in CUSTOM_OPTIONS_COLUMNS:\n",
    "    df[f\"copy_{col}\"] = df[col].copy()\n",
    "\n",
    "COPY_COLUMNS = [f\"copy_{col}\" for col in CUSTOM_OPTIONS_COLUMNS]\n",
    "\n",
    "for col in COPY_COLUMNS:\n",
    "    print(df[col].dtype)\n",
    "    print(df[col].isna().sum())\n",
    "    df.fillna({col: \"\"}, inplace=True)\n",
    "\n",
    "map_engl_to_ro = {\n",
    "    \"audio & technology\": \"audio si tehnologie\",\n",
    "    \"comfort & optional equipment\": \"confort si echipamente optionale\",\n",
    "    \"electronics & assistance systems\": \"electronice si sisteme de asistenta\",\n",
    "    \"performance\": \"performanta\",\n",
    "    \"safety\": \"siguranta\",\n",
    "}\n",
    "\n",
    "\n",
    "def concatenate_custom_options(row):\n",
    "    values = [f\"{map_engl_to_ro[col.replace('copy_', '')]}: {row[col]}\" for col in COPY_COLUMNS if row[col] != \"\" and row[col] != \"nan\"]\n",
    "    if len(values) == 0:\n",
    "        return None\n",
    "    return \"\\n\".join(values)\n",
    "\n",
    "\n",
    "df[\"options\"] = df.apply(concatenate_custom_options, axis=1)\n",
    "\n",
    "df = df.drop(columns=CUSTOM_OPTIONS_COLUMNS)\n",
    "df = df.drop(columns=COPY_COLUMNS)"
   ],
   "metadata": {
    "collapsed": false
   },
   "id": "160dc9d3b6e30f0b",
   "execution_count": null
  },
  {
   "cell_type": "markdown",
   "source": [
    "## Replace sold by column with a boolean column"
   ],
   "metadata": {
    "collapsed": false
   },
   "id": "39c2e5400b4d301f"
  },
  {
   "cell_type": "code",
   "outputs": [],
   "source": [
    "print(df[\"sold by\"].isna().sum())\n",
    "print(df[\"sold by\"].value_counts())\n",
    "print(df[\"sold by\"].unique())\n",
    "\n",
    "df[\"sold_by_company\"] = df[\"sold by\"].apply(lambda x: True if x == \"firma\" else False)\n",
    "df = df.drop(columns=[\"sold by\"])\n",
    "\n",
    "print(df[\"sold_by_company\"].isna().sum())\n",
    "print(df[\"sold_by_company\"].value_counts())\n",
    "print(df[\"sold_by_company\"].unique())"
   ],
   "metadata": {
    "collapsed": false
   },
   "id": "49c15fcf051e35e1",
   "execution_count": null
  },
  {
   "cell_type": "markdown",
   "source": [
    "## Drop the condition column as there are only 1731 rows that are new, and remove those rows as they are outliers"
   ],
   "metadata": {
    "collapsed": false
   },
   "id": "23d930ea9b1d2c7"
  },
  {
   "cell_type": "code",
   "outputs": [],
   "source": [
    "initial_len = len(df)\n",
    "df[\"condition\"] = df[\"condition\"].apply(lambda x: True if x == \"nou\" else False)\n",
    "df = df[df[\"condition\"] == False]\n",
    "df = df.drop(columns=[\"condition\"])\n",
    "print(f\"Removed {initial_len - len(df)} new cars\")"
   ],
   "metadata": {
    "collapsed": false
   },
   "id": "23ddcac532eb87b0",
   "execution_count": null
  },
  {
   "cell_type": "markdown",
   "source": [
    "## Format gearbox, drop the empty rows, make it a boolean column named is_automatic"
   ],
   "metadata": {
    "collapsed": false
   },
   "id": "cea6ceb768da8a2e"
  },
  {
   "cell_type": "code",
   "outputs": [],
   "source": [
    "print(df[\"gearbox\"].isna().sum())\n",
    "print(df[\"gearbox\"].value_counts())\n",
    "print(df[\"gearbox\"].unique())\n",
    "\n",
    "df = df.dropna(subset=[\"gearbox\"])\n",
    "df[\"is_automatic\"] = df[\"gearbox\"].apply(lambda x: True if x == \"automata\" else False)\n",
    "df = df.drop(columns=[\"gearbox\"])\n",
    "\n",
    "print(df[\"is_automatic\"].isna().sum())\n",
    "print(df[\"is_automatic\"].value_counts())\n",
    "print(df[\"is_automatic\"].unique())"
   ],
   "metadata": {
    "collapsed": false
   },
   "id": "87ddd90832231e01",
   "execution_count": null
  },
  {
   "cell_type": "markdown",
   "source": [
    "## Format id column"
   ],
   "metadata": {
    "collapsed": false
   },
   "id": "39f1ba9edb6fc3de"
  },
  {
   "cell_type": "code",
   "outputs": [],
   "source": [
    "initial_len = len(df)\n",
    "df = df.dropna(subset=[\"id\"])\n",
    "print(f\"Removed {initial_len - len(df)} rows with na id\")\n",
    "\n",
    "df[\"id\"] = df[\"id\"].astype(str)\n",
    "df[\"id\"] = df[\"id\"].apply(lambda x: x.zfill(6))\n",
    "\n",
    "print(df[\"id\"].isna().sum())\n",
    "print(df[\"id\"].value_counts())"
   ],
   "metadata": {
    "collapsed": false
   },
   "id": "6c92c34a18b6e7d4",
   "execution_count": null
  },
  {
   "cell_type": "code",
   "outputs": [],
   "source": [
    "msno.bar(df)"
   ],
   "metadata": {
    "collapsed": false
   },
   "id": "869ccfb60ce6de6",
   "execution_count": null
  },
  {
   "cell_type": "markdown",
   "source": [
    "## Concat strings columns to a full description"
   ],
   "metadata": {
    "collapsed": false
   },
   "id": "eba4d2598f784b4a"
  },
  {
   "cell_type": "code",
   "outputs": [],
   "source": [
    "COLUMNS_TO_CONCAT = [\"options\", \"description\"]\n",
    "\n",
    "for col in COLUMNS_TO_CONCAT:\n",
    "    df[f\"copy_{col}\"] = df[col].copy()\n",
    "\n",
    "COPY_COLUMNS = [f\"copy_{col}\" for col in COLUMNS_TO_CONCAT]\n",
    "\n",
    "for col in COPY_COLUMNS:\n",
    "    print(df[col].dtype)\n",
    "    print(df[col].isna().sum())\n",
    "    df.fillna({col: \"\"}, inplace=True)\n",
    "\n",
    "\n",
    "def concatenate_full_description(row):\n",
    "    values = [row[col] for col in COPY_COLUMNS if row[col] != \"\" and row[col] != \"nan\"]\n",
    "    if len(values) == 0:\n",
    "        return None\n",
    "    return \"\\n\".join(values)\n",
    "\n",
    "\n",
    "df[\"input\"] = df.apply(concatenate_full_description, axis=1)\n",
    "df = df.drop(columns=COLUMNS_TO_CONCAT)\n",
    "df = df.drop(columns=COPY_COLUMNS)\n",
    "df = df.rename(columns={\"input\": \"description\"})"
   ],
   "metadata": {
    "collapsed": false
   },
   "id": "a1bf39275bc914fb",
   "execution_count": null
  },
  {
   "cell_type": "markdown",
   "source": [
    "## In tip caroserie make masina mica, masina de oras to be compacta"
   ],
   "metadata": {
    "collapsed": false
   },
   "id": "a2d2108e149614d"
  },
  {
   "cell_type": "code",
   "outputs": [],
   "source": [
    "df = df.replace({\"chassis\": {\"masina mica\": \"compacta\", \"masina de oras\": \"compacta\"}})\n",
    "initial_len = len(df)\n",
    "df = df[df[\"chassis\"] != \"cabrio\"]\n",
    "print(f\"Removed {initial_len - len(df)} cabrio cars\")"
   ],
   "metadata": {
    "collapsed": false
   },
   "id": "cda1e4081531bbf0",
   "execution_count": null
  },
  {
   "cell_type": "code",
   "outputs": [],
   "source": [
    "msno.bar(df)"
   ],
   "metadata": {
    "collapsed": false
   },
   "id": "551e3b88a8b53f65",
   "execution_count": null
  },
  {
   "cell_type": "code",
   "outputs": [],
   "source": [
    "REQUIRED_COLUMNS = [\n",
    "    \"manufacturer\",\n",
    "    \"model\",\n",
    "    \"year\",\n",
    "    \"fuel\",\n",
    "    \"km\",\n",
    "    \"power\",\n",
    "    \"engine_capacity\",\n",
    "    \"chassis\",\n",
    "    \"price\",\n",
    "    \"id\",\n",
    "    \"sold_by_company\",\n",
    "    \"description\",\n",
    "    \"is_automatic\",\n",
    "]\n",
    "\n",
    "initial_len = len(df)\n",
    "df = df.dropna(subset=REQUIRED_COLUMNS)\n",
    "print(f\"Removed {initial_len - len(df)} rows with na in required columns\")\n",
    "\n",
    "df = df[\n",
    "    [\n",
    "        \"id\",\n",
    "        \"price\",\n",
    "        \"manufacturer\",\n",
    "        \"model\",\n",
    "        \"year\",\n",
    "        \"km\",\n",
    "        \"power\",\n",
    "        \"engine_capacity\",\n",
    "        \"fuel\",\n",
    "        \"chassis\",\n",
    "        \"is_automatic\",\n",
    "        \"sold_by_company\",\n",
    "        \"description\",\n",
    "    ]\n",
    "]\n",
    "\n",
    "df[\"year\"] = df[\"year\"].astype(int)"
   ],
   "metadata": {
    "collapsed": false
   },
   "id": "396e39e5b6c0ba34",
   "execution_count": null
  },
  {
   "cell_type": "markdown",
   "source": [
    "## OUTLIERS"
   ],
   "metadata": {
    "collapsed": false
   },
   "id": "c0849526de9e8c00"
  },
  {
   "cell_type": "code",
   "outputs": [],
   "source": [
    "# drop the rows where power > 650 or  power < 50\n",
    "initial_len = len(df)\n",
    "df = df[df[\"power\"] <= 600]\n",
    "df = df[df[\"power\"] >= 50]\n",
    "print(f\"power: removed {initial_len - len(df)} rows.\")\n",
    "\n",
    "# drop rows with engine_capacity < 500 or engine_capacity > 4000\n",
    "initial_len = len(df)\n",
    "df = df[df[\"engine_capacity\"] >= 500]\n",
    "df = df[df[\"engine_capacity\"] <= 4000]\n",
    "print(f\"engine_capacity:  removed {initial_len - len(df)} rows.\")\n",
    "\n",
    "# drop rows with price > 40_000\n",
    "initial_len = len(df)\n",
    "df = df[df[\"price\"] <= 40_000]\n",
    "print(f\"price: removed {initial_len - len(df)} rows.\")\n",
    "\n",
    "# drop rows with km > 500_000\n",
    "initial_len = len(df)\n",
    "df = df[df[\"km\"] <= 500_000]\n",
    "print(f\"km: removed {initial_len - len(df)} rows.\")\n",
    "\n",
    "initial_len = len(df)\n",
    "temp_df = df[\"manufacturer\"].value_counts()\n",
    "df = df[df[\"manufacturer\"].isin(temp_df[temp_df >= 100].index)]\n",
    "print(f\"manufacturer: removed {initial_len - len(df)} rows.\")"
   ],
   "metadata": {
    "collapsed": false
   },
   "id": "9aa24ebe7e02ed79",
   "execution_count": null
  },
  {
   "cell_type": "code",
   "outputs": [],
   "source": [
    "msno.bar(df)"
   ],
   "metadata": {
    "collapsed": false
   },
   "id": "eac6f2d817df6f7a",
   "execution_count": null
  },
  {
   "cell_type": "code",
   "outputs": [],
   "source": [
    "df.to_csv(CORE_FORMATTED_CSV, index=False)"
   ],
   "metadata": {
    "collapsed": false
   },
   "id": "4a4e47de03af4a70",
   "execution_count": null
  },
  {
   "cell_type": "code",
   "outputs": [],
   "source": [
    "categorical_columns = [\"fuel\", \"chassis\"]\n",
    "categorical_values = {column: df[column].unique().tolist() for column in categorical_columns}\n",
    "\n",
    "manufacturer_and_models = df.groupby(\"manufacturer\")[\"model\"].apply(lambda x: list(set(x))).to_dict()\n",
    "\n",
    "json_output = {\n",
    "    \"manufacturerAndModels\": manufacturer_and_models,\n",
    "    \"fuel\": categorical_values[\"fuel\"],\n",
    "    \"chassis\": categorical_values[\"chassis\"],\n",
    "}\n",
    "\n",
    "with open(JSON_PATH, \"w\") as f:\n",
    "    json.dump(json_output, f)"
   ],
   "metadata": {
    "collapsed": false
   },
   "id": "b47882c93b105f67",
   "execution_count": null
  }
 ],
 "metadata": {
  "kernelspec": {
   "display_name": "Python 3",
   "language": "python",
   "name": "python3"
  },
  "language_info": {
   "codemirror_mode": {
    "name": "ipython",
    "version": 2
   },
   "file_extension": ".py",
   "mimetype": "text/x-python",
   "name": "python",
   "nbconvert_exporter": "python",
   "pygments_lexer": "ipython2",
   "version": "2.7.6"
  }
 },
 "nbformat": 4,
 "nbformat_minor": 5
}
