{
 "cells": [
  {
   "cell_type": "code",
   "execution_count": null,
   "id": "initial_id",
   "metadata": {
    "collapsed": true
   },
   "outputs": [],
   "source": [
    "import matplotlib.pyplot as plt\n",
    "import numpy as np\n",
    "import pandas as pd\n",
    "import seaborn as sns\n",
    "\n",
    "from core.src.constants import CORE_CLEANED_CSV, CORE_FORMATTED_CSV"
   ]
  },
  {
   "cell_type": "code",
   "outputs": [],
   "source": [
    "sns.set(rc={\"figure.figsize\": (10, 10)})\n",
    "plt.figure(figsize=(10, 8))"
   ],
   "metadata": {
    "collapsed": false
   },
   "id": "4930a3fce22dcc16",
   "execution_count": null
  },
  {
   "cell_type": "markdown",
   "source": [
    "# Format all fields that need it in the order they appear in final.csv"
   ],
   "metadata": {
    "collapsed": false
   },
   "id": "9de0a92122b8644c"
  },
  {
   "cell_type": "code",
   "outputs": [],
   "source": [
    "df = pd.read_csv(CORE_CLEANED_CSV)\n",
    "\n",
    "df[\"anul producției\"] = df[\"anul producției\"].astype(int)\n",
    "\n",
    "# Format \"km\" column by removing the \" km\" suffix and the \" \" separator, save it as int\n",
    "df[\"km\"] = df[\"km\"].str.rstrip(\" km\").str.replace(\" \", \"\").astype(int)\n",
    "\n",
    "# Format \"putere\" column by removing the \" cp\" suffix, save it as int\n",
    "df[\"putere\"] = df[\"putere\"].str.rstrip(\" cp\").str.replace(\" \", \"\").astype(int)\n",
    "\n",
    "# Format \"capacitate cilindrica\" column by removing the \" cm3\" suffix and the separator \" \", save it as int\n",
    "df[\"capacitate cilindrica\"] = df[\"capacitate cilindrica\"].str.rstrip(\" cm3\").str.replace(\" \", \"\").astype(int)\n",
    "\n",
    "# Format \"norma de poluare\" column by making all values that start with \"euro 6\" to \"euro 6\", all values that start with \"euro 5\" to \"euro 5\" and so on\n",
    "df[\"norma de poluare\"] = df[\"norma de poluare\"].str.extract(r\"(euro \\d)\")\n",
    "\n",
    "# # Format \"consum extraurban\" column by removing the suffix \" l/100 km\" and replacing \",\" with \".\", save it as float\n",
    "# df[\"consum extraurban\"] = df[\"consum extraurban\"].str.rstrip(\" l/100 km\").str.replace(\",\", \".\").astype(float)\n",
    "#\n",
    "# # Same for \"consum urban\" and \"consum mixt\" and \"consum mediu\" columns\n",
    "# df[\"consum urban\"] = df[\"consum urban\"].str.rstrip(\" l/100 km\").str.replace(\",\", \".\").astype(float)\n",
    "# df[\"consum mixt\"] = df[\"consum mixt\"].str.rstrip(\" l/100 km\").str.replace(\",\", \".\").astype(float)\n",
    "# df[\"consum mediu\"] = df[\"consum mediu\"].str.rstrip(\" l/100 km\").str.replace(\",\", \".\").astype(float)\n",
    "#\n",
    "# # Format \"emisii co2\" by removing the suffix \" g/km\", save it as int\n",
    "# df[\"emisii co2\"] = df[\"emisii co2\"].str.rstrip(\" g/km\").astype(int)\n",
    "\n",
    "# Format \"price\" by removing the decimal values after one of the following separators: \",\", \",\", save it as int\n",
    "df[\"price\"] = df[\"price\"].str.replace(r\"\\..*\", \"\", regex=True)\n",
    "df[\"price\"] = df[\"price\"].str.replace(r\",.*\", \"\", regex=True)\n",
    "df[\"price\"] = df[\"price\"].astype(int)\n",
    "\n",
    "# # Format \"masina de epoca\" by making all \"da\" values to True, and \"nu\" or NaN to False\n",
    "# df[\"masina de epoca\"] = df[\"masina de epoca\"].replace({\"da\": True, \"nu\": False, np.nan: False}).astype(bool)\n",
    "#\n",
    "# # Same for \"volan pe dreapta\" column\n",
    "# df[\"volan pe dreapta\"] = df[\"volan pe dreapta\"].replace({\"da\": True, \"nu\": False, np.nan: False}).astype(bool)"
   ],
   "metadata": {
    "collapsed": false
   },
   "id": "d64472daec217aeb",
   "execution_count": null
  },
  {
   "cell_type": "markdown",
   "source": [
    "# Create \"consum\" column, which is a string that contains the values of \"consum extraurban\", \"consum urban\", \"consum mixt\" and \"consum mediu\" columns, drop the original columns"
   ],
   "metadata": {
    "collapsed": false
   },
   "id": "69d3ff752ad050db"
  },
  {
   "cell_type": "code",
   "outputs": [],
   "source": [
    "df[\"consum extraurban\"] = df[\"consum extraurban\"].astype(str).replace(\"nan\", \"\")\n",
    "df[\"consum urban\"] = df[\"consum urban\"].astype(str).replace(\"nan\", \"\")\n",
    "df[\"consum mixt\"] = df[\"consum mixt\"].astype(str).replace(\"nan\", \"\")\n",
    "df[\"consum mediu\"] = df[\"consum mediu\"].astype(str).replace(\"nan\", \"\")\n",
    "\n",
    "\n",
    "def concatenate_consum(row):\n",
    "    cols = [\"consum extraurban\", \"consum urban\", \"consum mixt\", \"consum mediu\"]\n",
    "    values = [f\"{col} {row[col]}\" for col in cols if row[col] != \"\"]\n",
    "    if len(values) == 0:\n",
    "        return None\n",
    "    return \", \".join(values)\n",
    "\n",
    "\n",
    "df[\"consum\"] = df.apply(concatenate_consum, axis=1)\n",
    "df = df.drop(columns=[\"consum extraurban\", \"consum urban\", \"consum mixt\", \"consum mediu\"])"
   ],
   "metadata": {
    "collapsed": false
   },
   "id": "2b198d07d7b348b4",
   "execution_count": null
  },
  {
   "cell_type": "markdown",
   "source": [
    "# Create \"garantie\" column, which is a string that contains the values of \"garantie dealer (inclusa in pret)\" and \"sau in limita a\" and \"garantie de la producator pana la\" columns, drop the original columns"
   ],
   "metadata": {
    "collapsed": false
   },
   "id": "b9182baeb4e5f659"
  },
  {
   "cell_type": "code",
   "outputs": [],
   "source": [
    "df[\"garantie dealer (inclusa in pret)\"] = df[\"garantie dealer (inclusa in pret)\"].astype(str).replace(\"nan\", \"\")\n",
    "df[\"sau in limita a\"] = df[\"sau in limita a\"].astype(str).replace(\"nan\", \"\")\n",
    "df[\"garantie de la producator pana la\"] = df[\"garantie de la producator pana la\"].astype(str).replace(\"nan\", \"\")\n",
    "\n",
    "\n",
    "def concatenate_garantie(row):\n",
    "    cols = [\n",
    "        \"garantie dealer (inclusa in pret)\",\n",
    "        \"sau in limita a\",\n",
    "        \"garantie de la producator pana la\",\n",
    "    ]\n",
    "    values = [f\"{col} {row[col]}\" for col in cols if row[col] != \"\"]\n",
    "    if len(values) == 0:\n",
    "        return None\n",
    "    return \", \".join(values)\n",
    "\n",
    "\n",
    "df[\"garantie\"] = df.apply(concatenate_garantie, axis=1)\n",
    "df = df.drop(\n",
    "    columns=[\n",
    "        \"garantie dealer (inclusa in pret)\",\n",
    "        \"sau in limita a\",\n",
    "        \"garantie de la producator pana la\",\n",
    "    ]\n",
    ")"
   ],
   "metadata": {
    "collapsed": false
   },
   "id": "52532627ebe3db6b",
   "execution_count": null
  },
  {
   "cell_type": "markdown",
   "source": [
    "# Create \"non important details\" column, which collects all the columns that can not be used as independent features, either because not enough values in our dataset, or can't assume their values, nor fill them manually, this column can be used for appending to the description of the car and then processed by BERT"
   ],
   "metadata": {
    "collapsed": false
   },
   "id": "437e7733a460cd0f"
  },
  {
   "cell_type": "code",
   "outputs": [],
   "source": [
    "DESCRIPTION_COLUMNS = [\n",
    "    \"are vin (serie sasiu)\",\n",
    "    \"se emite factura\",\n",
    "    \"eligibil pentru finantare\",\n",
    "]\n",
    "\n",
    "df[\"are vin (serie sasiu)\"] = df[\"are vin (serie sasiu)\"].astype(str).replace(\"nan\", \"\")\n",
    "df[\"se emite factura\"] = df[\"se emite factura\"].astype(str).replace(\"nan\", \"\")\n",
    "df[\"eligibil pentru finantare\"] = df[\"eligibil pentru finantare\"].astype(str).replace(\"nan\", \"\")\n",
    "\n",
    "\n",
    "def concatenate_non_important_details(row):\n",
    "    values = [f\"{col}: {row[col]}\" for col in DESCRIPTION_COLUMNS if row[col] != \"\"]\n",
    "    if len(values) == 0:\n",
    "        return None\n",
    "    return \"\\n\".join(values)\n",
    "\n",
    "\n",
    "df[\"non important details\"] = df.apply(concatenate_non_important_details, axis=1)\n",
    "df = df.drop(columns=DESCRIPTION_COLUMNS)"
   ],
   "metadata": {
    "collapsed": false
   },
   "id": "fac72ddeb08317ed",
   "execution_count": null
  },
  {
   "cell_type": "markdown",
   "source": [
    "# Create \"istoric\" column, which is a string that contains the values of \"tara de origine\", \"data primei inmatriculari\", \"inmatriculat\", \"primul proprietar (de nou), \"fara accident in istoric\", \"carte de service\", columns, separated by nextline and the form of \"column: value\", drop the original columns, also ignore the NaN values"
   ],
   "metadata": {
    "collapsed": false
   },
   "id": "dc80409eabee8255"
  },
  {
   "cell_type": "code",
   "outputs": [],
   "source": [
    "df[\"tara de origine\"] = df[\"tara de origine\"].astype(str).replace(\"nan\", \"\")\n",
    "df[\"data primei inmatriculari\"] = df[\"data primei inmatriculari\"].astype(str).replace(\"nan\", \"\")\n",
    "df[\"inmatriculat\"] = df[\"inmatriculat\"].astype(str).replace(\"nan\", \"\")\n",
    "df[\"primul proprietar (de nou)\"] = df[\"primul proprietar (de nou)\"].astype(str).replace(\"nan\", \"\")\n",
    "df[\"fara accident in istoric\"] = df[\"fara accident in istoric\"].astype(str).replace(\"nan\", \"\")\n",
    "df[\"carte de service\"] = df[\"carte de service\"].astype(str).replace(\"nan\", \"\")\n",
    "\n",
    "\n",
    "def concatenate_istoric(row):\n",
    "    cols = [\n",
    "        \"tara de origine\",\n",
    "        \"data primei inmatriculari\",\n",
    "        \"inmatriculat\",\n",
    "        \"primul proprietar (de nou)\",\n",
    "        \"fara accident in istoric\",\n",
    "        \"carte de service\",\n",
    "    ]\n",
    "    values = [f\"{col}: {row[col]}\" for col in cols if row[col] != \"\"]\n",
    "    if len(values) == 0:\n",
    "        return None\n",
    "    return \"\\n\".join(values)\n",
    "\n",
    "\n",
    "df[\"istoric\"] = df.apply(concatenate_istoric, axis=1)\n",
    "df = df.drop(\n",
    "    columns=[\n",
    "        \"tara de origine\",\n",
    "        \"data primei inmatriculari\",\n",
    "        \"inmatriculat\",\n",
    "        \"primul proprietar (de nou)\",\n",
    "        \"fara accident in istoric\",\n",
    "        \"carte de service\",\n",
    "    ]\n",
    ")"
   ],
   "metadata": {
    "collapsed": false
   },
   "id": "fe2bac75df3b07d9",
   "execution_count": null
  },
  {
   "cell_type": "markdown",
   "source": [
    "# Create \"poluare\" column, which is a string that contains the values of \"norma de poluare\", \"emisii co2\" columns, separated by nextline and the form of \"column: value\", drop the original columns, also ignore the NaN values"
   ],
   "metadata": {
    "collapsed": false
   },
   "id": "9a0c6cb66ee8cdc5"
  },
  {
   "cell_type": "code",
   "outputs": [],
   "source": [
    "df[\"norma de poluare\"] = df[\"norma de poluare\"].astype(str).replace(\"nan\", \"\")\n",
    "df[\"emisii co2\"] = df[\"emisii co2\"].astype(str).replace(\"nan\", \"\")\n",
    "\n",
    "\n",
    "def concatenate_poluare(row):\n",
    "    cols = [\"norma de poluare\", \"emisii co2\"]\n",
    "    values = [f\"{col}: {row[col]}\" for col in cols if row[col] != \"\"]\n",
    "    if len(values) == 0:\n",
    "        return None\n",
    "    return \"\\n\".join(values)\n",
    "\n",
    "\n",
    "df[\"poluare\"] = df.apply(concatenate_poluare, axis=1)\n",
    "df = df.drop(columns=[\"norma de poluare\", \"emisii co2\"])"
   ],
   "metadata": {
    "collapsed": false
   },
   "id": "961e4480feaa30ab",
   "execution_count": null
  },
  {
   "cell_type": "markdown",
   "source": [
    "# Create \"culoare\" column, which is a string that contains the values of \"culoare\" and \"optiuni culoare\" columns, separated by nextline and the form of \"column: value\", drop the original columns, also ignore the NaN values"
   ],
   "metadata": {
    "collapsed": false
   },
   "id": "b8b9f90ba5472315"
  },
  {
   "cell_type": "code",
   "outputs": [],
   "source": [
    "df[\"culoare\"] = df[\"culoare\"].astype(str).replace(\"nan\", \"\")\n",
    "df[\"optiuni culoare\"] = df[\"optiuni culoare\"].astype(str).replace(\"nan\", \"\")\n",
    "\n",
    "\n",
    "def concatenate_culoare(row):\n",
    "    cols = [\"culoare\", \"optiuni culoare\"]\n",
    "    values = [f\"{col}: {row[col]}\" for col in cols if row[col] != \"\"]\n",
    "    if len(values) == 0:\n",
    "        return None\n",
    "    return \"\\n\".join(values)\n",
    "\n",
    "\n",
    "df[\"culoare\"] = df.apply(concatenate_culoare, axis=1)\n",
    "df = df.drop(columns=[\"optiuni culoare\"])"
   ],
   "metadata": {
    "collapsed": false
   },
   "id": "fcf9058d816a4b67",
   "execution_count": null
  },
  {
   "cell_type": "markdown",
   "source": [
    "# Create \"detalii generale\" column which is a string that contains values from \"marca\", \"model\", \"versiune\", \"generatie\", \"anul producției\", \"combustibil\", \"km\", \"putere\", \"capacitate cilindrica\", \"transmisie\", \"cutie de viteze\", \"tip caroserie\", \"numar de portiere\", \"numar locuri\", \"stare\", columns, separated by nextline and the form of \"column: value\", also ignore the NaN values"
   ],
   "metadata": {
    "collapsed": false
   },
   "id": "4add5b3a792a5f9d"
  },
  {
   "cell_type": "code",
   "outputs": [],
   "source": [
    "temp = df.copy()\n",
    "\n",
    "temp[\"marca\"] = temp[\"marca\"].astype(str).replace(\"nan\", \"\")\n",
    "temp[\"model\"] = temp[\"model\"].astype(str).replace(\"nan\", \"\")\n",
    "temp[\"versiune\"] = temp[\"versiune\"].astype(str).replace(\"nan\", \"\")\n",
    "temp[\"generatie\"] = temp[\"generatie\"].astype(str).replace(\"nan\", \"\")\n",
    "temp[\"anul producției\"] = temp[\"anul producției\"].astype(str).replace(\"nan\", \"\")\n",
    "temp[\"combustibil\"] = temp[\"combustibil\"].astype(str).replace(\"nan\", \"\")\n",
    "temp[\"km\"] = temp[\"km\"].astype(str).replace(\"nan\", \"\")\n",
    "temp[\"putere\"] = temp[\"putere\"].astype(str).replace(\"nan\", \"\")\n",
    "temp[\"capacitate cilindrica\"] = temp[\"capacitate cilindrica\"].astype(str).replace(\"nan\", \"\")\n",
    "\n",
    "# append the corresponding suffixes to the values\n",
    "temp[\"km\"] = np.where(temp[\"km\"] != \"\", temp[\"km\"] + \" km\", temp[\"km\"])\n",
    "temp[\"putere\"] = np.where(temp[\"putere\"] != \"\", temp[\"putere\"] + \" cp\", temp[\"putere\"])\n",
    "temp[\"capacitate cilindrica\"] = np.where(\n",
    "    temp[\"capacitate cilindrica\"] != \"\",\n",
    "    temp[\"capacitate cilindrica\"] + \" cm3\",\n",
    "    temp[\"capacitate cilindrica\"],\n",
    ")\n",
    "\n",
    "\n",
    "def concatenate_detalii_generale(row):\n",
    "    cols = [\n",
    "        \"marca\",\n",
    "        \"model\",\n",
    "        \"versiune\",\n",
    "        \"generatie\",\n",
    "        \"anul producției\",\n",
    "        \"combustibil\",\n",
    "        \"km\",\n",
    "        \"putere\",\n",
    "        \"capacitate cilindrica\",\n",
    "        \"transmisie\",\n",
    "        \"cutie de viteze\",\n",
    "        \"tip caroserie\",\n",
    "        \"numar de portiere\",\n",
    "        \"numar locuri\",\n",
    "        \"stare\",\n",
    "    ]\n",
    "    values = [f\"{col}: {row[col]}\" for col in cols if row[col] != \"\"]\n",
    "    if len(values) == 0:\n",
    "        return None\n",
    "    return \"\\n\".join(values)\n",
    "\n",
    "\n",
    "df[\"detalii generale\"] = temp.apply(concatenate_detalii_generale, axis=1)\n",
    "df = df.drop(columns=[\"generatie\", \"numar locuri\", \"numar de portiere\", \"transmisie\", \"versiune\"])"
   ],
   "metadata": {
    "collapsed": false
   },
   "id": "1bb4d8db6c1fd4f8",
   "execution_count": null
  },
  {
   "cell_type": "markdown",
   "source": [
    "## Remove vehicles with more than 600k km, as they are outliers and also remove vehicles older than 1990, as they are also outliers"
   ],
   "metadata": {
    "collapsed": false
   },
   "id": "dc2217ccc7110f83"
  },
  {
   "cell_type": "code",
   "outputs": [],
   "source": [
    "initial_len = len(df)\n",
    "\n",
    "df = df[df[\"km\"] <= 600000]\n",
    "df = df[df[\"anul producției\"] >= 1990]\n",
    "\n",
    "final_len = len(df)\n",
    "print(f\"Removed {initial_len - final_len} outliers\")"
   ],
   "metadata": {
    "collapsed": false
   },
   "id": "5b1c6ee044433b3c",
   "execution_count": null
  },
  {
   "cell_type": "code",
   "outputs": [],
   "source": [
    "df.to_csv(CORE_FORMATTED_CSV, index=False)"
   ],
   "metadata": {
    "collapsed": false
   },
   "id": "948775c418c5906",
   "execution_count": null
  }
 ],
 "metadata": {
  "kernelspec": {
   "display_name": "Python 3",
   "language": "python",
   "name": "python3"
  },
  "language_info": {
   "codemirror_mode": {
    "name": "ipython",
    "version": 2
   },
   "file_extension": ".py",
   "mimetype": "text/x-python",
   "name": "python",
   "nbconvert_exporter": "python",
   "pygments_lexer": "ipython2",
   "version": "2.7.6"
  }
 },
 "nbformat": 4,
 "nbformat_minor": 5
}
