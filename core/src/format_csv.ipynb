{
 "cells": [
  {
   "cell_type": "code",
   "execution_count": 36,
   "id": "initial_id",
   "metadata": {
    "collapsed": true,
    "ExecuteTime": {
     "end_time": "2024-03-17T21:31:13.489272Z",
     "start_time": "2024-03-17T21:31:13.486927Z"
    }
   },
   "outputs": [],
   "source": [
    "import matplotlib.pyplot as plt\n",
    "import numpy as np\n",
    "import pandas as pd\n",
    "import seaborn as sns\n",
    "\n",
    "from core.src.constants import CLEANED_CSV, FORMATTED_CSV"
   ]
  },
  {
   "cell_type": "code",
   "outputs": [
    {
     "data": {
      "text/plain": "<Figure size 1000x800 with 0 Axes>"
     },
     "execution_count": 37,
     "metadata": {},
     "output_type": "execute_result"
    },
    {
     "data": {
      "text/plain": "<Figure size 1000x800 with 0 Axes>"
     },
     "metadata": {},
     "output_type": "display_data"
    }
   ],
   "source": [
    "sns.set(rc={\"figure.figsize\": (10, 10)})\n",
    "plt.figure(figsize=(10, 8))"
   ],
   "metadata": {
    "collapsed": false,
    "ExecuteTime": {
     "end_time": "2024-03-17T21:31:13.669213Z",
     "start_time": "2024-03-17T21:31:13.664032Z"
    }
   },
   "id": "4930a3fce22dcc16",
   "execution_count": 37
  },
  {
   "cell_type": "markdown",
   "source": [
    "# Format all fields that need it in the order they appear in final.csv"
   ],
   "metadata": {
    "collapsed": false
   },
   "id": "9de0a92122b8644c"
  },
  {
   "cell_type": "code",
   "outputs": [
    {
     "name": "stderr",
     "output_type": "stream",
     "text": [
      "/var/folders/mb/36mmc1j57svg9l32_wd0bmlm0000gn/T/ipykernel_27604/3353535059.py:32: FutureWarning: Downcasting behavior in `replace` is deprecated and will be removed in a future version. To retain the old behavior, explicitly call `result.infer_objects(copy=False)`. To opt-in to the future behavior, set `pd.set_option('future.no_silent_downcasting', True)`\n",
      "  df[\"masina de epoca\"] = df[\"masina de epoca\"].replace({\"da\": True, \"nu\": False, np.nan: False}).astype(bool)\n",
      "/var/folders/mb/36mmc1j57svg9l32_wd0bmlm0000gn/T/ipykernel_27604/3353535059.py:35: FutureWarning: Downcasting behavior in `replace` is deprecated and will be removed in a future version. To retain the old behavior, explicitly call `result.infer_objects(copy=False)`. To opt-in to the future behavior, set `pd.set_option('future.no_silent_downcasting', True)`\n",
      "  df[\"volan pe dreapta\"] = df[\"volan pe dreapta\"].replace({\"da\": True, \"nu\": False, np.nan: False}).astype(bool)\n"
     ]
    }
   ],
   "source": [
    "df = pd.read_csv(CLEANED_CSV)\n",
    "\n",
    "# Format \"km\" column by removing the \" km\" suffix and the \" \" separator, save it as int\n",
    "df[\"km\"] = df[\"km\"].str.rstrip(\" km\").str.replace(\" \", \"\").astype(int)\n",
    "\n",
    "# Format \"putere\" column by removing the \" cp\" suffix, save it as int\n",
    "df[\"putere\"] = df[\"putere\"].str.rstrip(\" cp\").str.replace(\" \", \"\").astype(int)\n",
    "\n",
    "# Format \"capacitate cilindrica\" column by removing the \" cm3\" suffix and the separator \" \", save it as int\n",
    "df[\"capacitate cilindrica\"] = df[\"capacitate cilindrica\"].str.rstrip(\" cm3\").str.replace(\" \", \"\").astype(int)\n",
    "\n",
    "# Format \"norma de poluare\" column by making all values that start with \"euro 6\" to \"euro 6\", all values that start with \"euro 5\" to \"euro 5\" and so on\n",
    "df[\"norma de poluare\"] = df[\"norma de poluare\"].str.extract(r\"(euro \\d)\")\n",
    "\n",
    "# # Format \"consum extraurban\" column by removing the suffix \" l/100 km\" and replacing \",\" with \".\", save it as float\n",
    "# df[\"consum extraurban\"] = df[\"consum extraurban\"].str.rstrip(\" l/100 km\").str.replace(\",\", \".\").astype(float)\n",
    "#\n",
    "# # Same for \"consum urban\" and \"consum mixt\" and \"consum mediu\" columns\n",
    "# df[\"consum urban\"] = df[\"consum urban\"].str.rstrip(\" l/100 km\").str.replace(\",\", \".\").astype(float)\n",
    "# df[\"consum mixt\"] = df[\"consum mixt\"].str.rstrip(\" l/100 km\").str.replace(\",\", \".\").astype(float)\n",
    "# df[\"consum mediu\"] = df[\"consum mediu\"].str.rstrip(\" l/100 km\").str.replace(\",\", \".\").astype(float)\n",
    "#\n",
    "# # Format \"emisii co2\" by removing the suffix \" g/km\", save it as int\n",
    "# df[\"emisii co2\"] = df[\"emisii co2\"].str.rstrip(\" g/km\").astype(int)\n",
    "\n",
    "# Format \"price\" by removing the decimal values after one of the following separators: \",\", \",\", save it as int\n",
    "df[\"price\"] = df[\"price\"].str.replace(r\"\\..*\", \"\", regex=True)\n",
    "df[\"price\"] = df[\"price\"].str.replace(r\",.*\", \"\", regex=True)\n",
    "df[\"price\"] = df[\"price\"].astype(int)\n",
    "\n",
    "# Format \"masina de epoca\" by making all \"da\" values to True, and \"nu\" or NaN to False\n",
    "df[\"masina de epoca\"] = df[\"masina de epoca\"].replace({\"da\": True, \"nu\": False, np.nan: False}).astype(bool)\n",
    "\n",
    "# Same for \"volan pe dreapta\" column\n",
    "df[\"volan pe dreapta\"] = df[\"volan pe dreapta\"].replace({\"da\": True, \"nu\": False, np.nan: False}).astype(bool)"
   ],
   "metadata": {
    "collapsed": false,
    "ExecuteTime": {
     "end_time": "2024-03-17T21:31:14.356694Z",
     "start_time": "2024-03-17T21:31:13.965259Z"
    }
   },
   "id": "d64472daec217aeb",
   "execution_count": 38
  },
  {
   "cell_type": "markdown",
   "source": [
    "# Create \"consum\" column, which is a string that contains the values of \"consum extraurban\", \"consum urban\", \"consum mixt\" and \"consum mediu\" columns, drop the original columns"
   ],
   "metadata": {
    "collapsed": false
   },
   "id": "69d3ff752ad050db"
  },
  {
   "cell_type": "code",
   "outputs": [],
   "source": [
    "df[\"consum extraurban\"] = df[\"consum extraurban\"].astype(str).replace(\"nan\", \"\")\n",
    "df[\"consum urban\"] = df[\"consum urban\"].astype(str).replace(\"nan\", \"\")\n",
    "df[\"consum mixt\"] = df[\"consum mixt\"].astype(str).replace(\"nan\", \"\")\n",
    "df[\"consum mediu\"] = df[\"consum mediu\"].astype(str).replace(\"nan\", \"\")\n",
    "\n",
    "\n",
    "def concatenate_consum(row):\n",
    "    cols = [\"consum extraurban\", \"consum urban\", \"consum mixt\", \"consum mediu\"]\n",
    "    values = [f\"{col} {row[col]}\" for col in cols if row[col] != \"\"]\n",
    "    if len(values) == 0:\n",
    "        return None\n",
    "    return \", \".join(values)\n",
    "\n",
    "\n",
    "df[\"consum\"] = df.apply(concatenate_consum, axis=1)\n",
    "df = df.drop(columns=[\"consum extraurban\", \"consum urban\", \"consum mixt\", \"consum mediu\"])"
   ],
   "metadata": {
    "collapsed": false,
    "ExecuteTime": {
     "end_time": "2024-03-17T21:31:14.455157Z",
     "start_time": "2024-03-17T21:31:14.358029Z"
    }
   },
   "id": "2b198d07d7b348b4",
   "execution_count": 39
  },
  {
   "cell_type": "markdown",
   "source": [
    "# Create \"garantie\" column, which is a string that contains the values of \"garantie dealer (inclusa in pret)\" and \"sau in limita a\" and \"garantie de la producator pana la\" columns, drop the original columns"
   ],
   "metadata": {
    "collapsed": false
   },
   "id": "b9182baeb4e5f659"
  },
  {
   "cell_type": "code",
   "outputs": [],
   "source": [
    "df[\"garantie dealer (inclusa in pret)\"] = df[\"garantie dealer (inclusa in pret)\"].astype(str).replace(\"nan\", \"\")\n",
    "df[\"sau in limita a\"] = df[\"sau in limita a\"].astype(str).replace(\"nan\", \"\")\n",
    "df[\"garantie de la producator pana la\"] = df[\"garantie de la producator pana la\"].astype(str).replace(\"nan\", \"\")\n",
    "\n",
    "\n",
    "def concatenate_garantie(row):\n",
    "    cols = [\"garantie dealer (inclusa in pret)\", \"sau in limita a\", \"garantie de la producator pana la\"]\n",
    "    values = [f\"{col} {row[col]}\" for col in cols if row[col] != \"\"]\n",
    "    if len(values) == 0:\n",
    "        return None\n",
    "    return \", \".join(values)\n",
    "\n",
    "\n",
    "df[\"garantie\"] = df.apply(concatenate_garantie, axis=1)\n",
    "df = df.drop(columns=[\"garantie dealer (inclusa in pret)\", \"sau in limita a\", \"garantie de la producator pana la\"])"
   ],
   "metadata": {
    "collapsed": false,
    "ExecuteTime": {
     "end_time": "2024-03-17T21:31:14.847819Z",
     "start_time": "2024-03-17T21:31:14.766112Z"
    }
   },
   "id": "52532627ebe3db6b",
   "execution_count": 40
  },
  {
   "cell_type": "code",
   "outputs": [],
   "source": [
    "df.to_csv(FORMATTED_CSV, index=False)"
   ],
   "metadata": {
    "collapsed": false,
    "ExecuteTime": {
     "end_time": "2024-03-17T21:31:15.485788Z",
     "start_time": "2024-03-17T21:31:15.011176Z"
    }
   },
   "id": "948775c418c5906",
   "execution_count": 41
  },
  {
   "cell_type": "code",
   "outputs": [],
   "source": [],
   "metadata": {
    "collapsed": false
   },
   "id": "b1f707fc03f1300c"
  }
 ],
 "metadata": {
  "kernelspec": {
   "display_name": "Python 3",
   "language": "python",
   "name": "python3"
  },
  "language_info": {
   "codemirror_mode": {
    "name": "ipython",
    "version": 2
   },
   "file_extension": ".py",
   "mimetype": "text/x-python",
   "name": "python",
   "nbconvert_exporter": "python",
   "pygments_lexer": "ipython2",
   "version": "2.7.6"
  }
 },
 "nbformat": 4,
 "nbformat_minor": 5
}
