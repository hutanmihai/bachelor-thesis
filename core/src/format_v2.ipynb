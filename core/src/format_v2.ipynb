{
 "cells": [
  {
   "cell_type": "code",
   "execution_count": null,
   "id": "initial_id",
   "metadata": {
    "collapsed": true
   },
   "outputs": [],
   "source": [
    "from constants import FINAL_CSV\n",
    "import pandas as pd"
   ]
  },
  {
   "cell_type": "code",
   "outputs": [],
   "source": [
    "df = pd.read_csv(FINAL_CSV)"
   ],
   "metadata": {
    "collapsed": false
   },
   "id": "52b0368e94f28eea",
   "execution_count": null
  },
  {
   "cell_type": "code",
   "outputs": [],
   "source": [
    "df.drop([\"url\", \"path\"], axis=1, inplace=True)\n",
    "\n",
    "df = df[df[\"id\"] != \"ID7HeZrU\"]"
   ],
   "metadata": {
    "collapsed": false
   },
   "id": "9aa6386e46a00d0e",
   "execution_count": null
  },
  {
   "cell_type": "code",
   "outputs": [],
   "source": [
    "df.info()"
   ],
   "metadata": {
    "collapsed": false
   },
   "id": "607b1ec1632b57f8",
   "execution_count": null
  },
  {
   "cell_type": "markdown",
   "source": [
    "## Remove electric vehicles and their specific columns as they are outliers"
   ],
   "metadata": {
    "collapsed": false
   },
   "id": "5d5839cbffe801d6"
  },
  {
   "cell_type": "code",
   "outputs": [],
   "source": [
    "def remove_electric_vehicles(df):\n",
    "    initial_len = len(df)\n",
    "    df = df[df[\"combustibil\"] != \"electric\"]\n",
    "    print(f\"Removed {initial_len - len(df)} electric vehicles\")\n",
    "    df = df.drop(\n",
    "        [\n",
    "            \"vehicule electrice\",\n",
    "            \"autonomie\",\n",
    "            \"capacitate baterie\",\n",
    "            \"contract baterie\",\n",
    "            \"timp de incarcare\",\n",
    "        ],\n",
    "        axis=1,\n",
    "    )\n",
    "    return df\n",
    "\n",
    "\n",
    "print(df[\"combustibil\"].value_counts())\n",
    "print(df[\"combustibil\"].unique())\n",
    "df = remove_electric_vehicles(df)"
   ],
   "metadata": {
    "collapsed": false
   },
   "id": "740854ba7de00a89",
   "execution_count": null
  },
  {
   "cell_type": "markdown",
   "source": [
    "## Remove vehicles that are in leasing, as their price is not accurate to our needs"
   ],
   "metadata": {
    "collapsed": false
   },
   "id": "9c99cf237d209b2"
  },
  {
   "cell_type": "code",
   "outputs": [],
   "source": [
    "def remove_leasing(df):\n",
    "    initial_len = len(df)\n",
    "    df = df[df[\"predare leasing\"] != \"da\"]\n",
    "    print(f\"Removed {initial_len - len(df)} leasing vehicles\")\n",
    "    df = df.drop(\n",
    "        [\n",
    "            \"predare leasing\",\n",
    "            \"plata initiala (la predare)\",\n",
    "            \"valoare rata lunara\",\n",
    "            \"numar de rate lunare ramase\",\n",
    "            \"valoare reziduala\",\n",
    "        ],\n",
    "        axis=1,\n",
    "    )\n",
    "    return df\n",
    "\n",
    "\n",
    "df = remove_leasing(df)"
   ],
   "metadata": {
    "collapsed": false
   },
   "id": "fd9ef9ff662678bd",
   "execution_count": null
  },
  {
   "cell_type": "markdown",
   "source": [
    "## Remove tuned cars as they are outliers, and alos not detailed enough, as tuning can vary a lot"
   ],
   "metadata": {
    "collapsed": false
   },
   "id": "d0ee22993675e88f"
  },
  {
   "cell_type": "code",
   "outputs": [],
   "source": [
    "def remove_tuning(df):\n",
    "    initial_len = len(df)\n",
    "    df = df[df[\"tuning\"] != \"da\"]\n",
    "    print(f\"Removed {initial_len - len(df)} tuned vehicles\")\n",
    "    df = df.drop([\"tuning\"], axis=1)\n",
    "    return df\n",
    "\n",
    "\n",
    "print(df[\"tuning\"].value_counts())\n",
    "print(df[\"tuning\"].unique())\n",
    "df = remove_tuning(df)"
   ],
   "metadata": {
    "collapsed": false
   },
   "id": "2b98a8a4efb786ef",
   "execution_count": null
  },
  {
   "cell_type": "markdown",
   "source": [
    "## Drop rows that have currency different than eur"
   ],
   "metadata": {
    "collapsed": false
   },
   "id": "bacba5110cf8b17e"
  },
  {
   "cell_type": "code",
   "outputs": [],
   "source": [
    "def remove_non_eur_currency(df):\n",
    "    initial_len = len(df)\n",
    "    df = df[df[\"currency\"] == \"eur\"]\n",
    "    print(f\"Removed {initial_len - len(df)} non eur currency vehicles\")\n",
    "    df = df.drop([\"currency\"], axis=1)\n",
    "    return df\n",
    "\n",
    "\n",
    "print(df[\"currency\"].isna().sum())\n",
    "print(df[\"currency\"].value_counts())\n",
    "print(df[\"currency\"].unique())\n",
    "df = remove_non_eur_currency(df)"
   ],
   "metadata": {
    "collapsed": false
   },
   "id": "bf43da1629cdbb6d",
   "execution_count": null
  },
  {
   "cell_type": "markdown",
   "source": [
    "## Drop vintage cars, as they are outliers"
   ],
   "metadata": {
    "collapsed": false
   },
   "id": "ae9ad2a1985e5012"
  },
  {
   "cell_type": "code",
   "outputs": [],
   "source": [
    "def remove_vintage_cars(df):\n",
    "    initial_len = len(df)\n",
    "    df = df[df[\"masina de epoca\"] != \"da\"]\n",
    "    print(f\"Removed {initial_len - len(df)} vintage cars\")\n",
    "    seecond_initial_len = len(df)\n",
    "    df = df[df[\"anul producției\"] >= 2000]\n",
    "    print(f\"Removed {seecond_initial_len - len(df)} older than 2000 cars\")\n",
    "    df = df.drop([\"masina de epoca\"], axis=1)\n",
    "    return df\n",
    "\n",
    "\n",
    "print(df[\"masina de epoca\"].value_counts())\n",
    "print(df[\"masina de epoca\"].unique())\n",
    "print(df[\"anul producției\"].isna().sum())\n",
    "print(df[\"anul producției\"].value_counts())\n",
    "print(df[\"anul producției\"].unique())\n",
    "df = remove_vintage_cars(df)"
   ],
   "metadata": {
    "collapsed": false
   },
   "id": "d37621be8a5a0e97",
   "execution_count": null
  },
  {
   "cell_type": "markdown",
   "source": [
    "## Drop the column \"volan pe dreapta\" as there is a few data points for it, outliers"
   ],
   "metadata": {
    "collapsed": false
   },
   "id": "81b3d6ae4b8b8cb6"
  },
  {
   "cell_type": "code",
   "outputs": [],
   "source": [
    "def remove_volan_pe_dreapta(df):\n",
    "    initial_len = len(df)\n",
    "    df = df[df[\"volan pe dreapta\"] != \"da\"]\n",
    "    print(f\"Removed {initial_len - len(df)} right hand drive cars\")\n",
    "    df = df.drop([\"volan pe dreapta\"], axis=1)\n",
    "    return df\n",
    "\n",
    "\n",
    "print(df[\"volan pe dreapta\"].value_counts())\n",
    "print(df[\"volan pe dreapta\"].unique())\n",
    "df = remove_volan_pe_dreapta(df)"
   ],
   "metadata": {
    "collapsed": false
   },
   "id": "edcc33a39b6fba67",
   "execution_count": null
  },
  {
   "cell_type": "code",
   "outputs": [],
   "source": [
    "import missingno as msno\n",
    "\n",
    "msno.bar(df)"
   ],
   "metadata": {
    "collapsed": false
   },
   "id": "2c747feba512d72b",
   "execution_count": null
  },
  {
   "cell_type": "markdown",
   "source": [
    "## Remove fuel outliers"
   ],
   "metadata": {
    "collapsed": false
   },
   "id": "a014766813c519d8"
  },
  {
   "cell_type": "code",
   "outputs": [],
   "source": [
    "print(df[\"combustibil\"].value_counts())\n",
    "\n",
    "\n",
    "def remove_fuel_outliers(df):\n",
    "    initial_len = len(df)\n",
    "    df = df[df[\"combustibil\"].isin([\"benzina\", \"diesel\"])]\n",
    "    print(f\"Removed {initial_len - len(df)} fuel outliers\")\n",
    "    return df\n",
    "\n",
    "\n",
    "df = remove_fuel_outliers(df)\n",
    "print(df[\"combustibil\"].isna().sum())\n",
    "print(df[\"combustibil\"].value_counts())\n",
    "print(df[\"combustibil\"].unique())"
   ],
   "metadata": {
    "collapsed": false
   },
   "id": "fa6f6bb6367bab7e",
   "execution_count": null
  },
  {
   "cell_type": "markdown",
   "source": [
    "## Format numeric columns"
   ],
   "metadata": {
    "collapsed": false
   },
   "id": "573217abb122d97f"
  },
  {
   "cell_type": "code",
   "outputs": [],
   "source": [
    "def format_numeric_columns(df):\n",
    "    def format_km():\n",
    "        df[\"km\"] = df[\"km\"].str.replace(\" km\", \"\").str.replace(\" \", \"\").astype(int)\n",
    "\n",
    "    def format_horsepower():\n",
    "        df[\"putere\"] = df[\"putere\"].str.replace(\" cp\", \"\").str.replace(\" \", \"\").astype(int)\n",
    "\n",
    "    def format_motor_capacity():\n",
    "        df[\"capacitate cilindrica\"] = df[\"capacitate cilindrica\"].str.replace(\" cm3\", \"\").str.replace(\" \", \"\").astype(int)\n",
    "\n",
    "    def format_price():\n",
    "        df[\"price\"] = df[\"price\"].astype(str)\n",
    "        df[\"price\"] = df[\"price\"].str.replace(r\"\\..*\", \"\", regex=True)\n",
    "        df[\"price\"] = df[\"price\"].str.replace(r\",.*\", \"\", regex=True)\n",
    "        df[\"price\"] = df[\"price\"].astype(int)\n",
    "\n",
    "    format_km()\n",
    "    format_horsepower()\n",
    "    format_motor_capacity()\n",
    "    format_price()\n",
    "    return df\n",
    "\n",
    "\n",
    "# print how many rows from putere are na\n",
    "print(df[\"km\"].isna().sum())\n",
    "print(df[\"putere\"].isna().sum())\n",
    "print(df[\"capacitate cilindrica\"].isna().sum())\n",
    "print(df[\"price\"].isna().sum())\n",
    "\n",
    "# make ale new cars have 1 km\n",
    "df.loc[df[\"stare\"] == \"nou\", \"km\"] = \"1 km\"\n",
    "# drop rows with na values\n",
    "df = df.dropna(subset=[\"km\", \"putere\", \"capacitate cilindrica\", \"price\"])\n",
    "\n",
    "print(df[\"km\"].isna().sum())\n",
    "print(df[\"putere\"].isna().sum())\n",
    "print(df[\"capacitate cilindrica\"].isna().sum())\n",
    "print(df[\"price\"].isna().sum())\n",
    "\n",
    "df = format_numeric_columns(df)"
   ],
   "metadata": {
    "collapsed": false
   },
   "id": "aeac8c10e915384d",
   "execution_count": null
  },
  {
   "cell_type": "markdown",
   "source": [
    "## Create \"consum\" column, which is a string that contains the values of \"consum extraurban\", \"consum urban\", \"consum mixt\" and \"consum mediu\" columns, drop the original columns"
   ],
   "metadata": {
    "collapsed": false
   },
   "id": "3782c917d12ba143"
  },
  {
   "cell_type": "code",
   "outputs": [],
   "source": [
    "CONSUM_COLS = [\"consum extraurban\", \"consum urban\", \"consum mixt\", \"consum mediu\"]\n",
    "\n",
    "# for col in CONSUM_COLS:\n",
    "#     df[f\"copy_{col}\"] = df[col].copy()\n",
    "#\n",
    "# COPY_COLUMNS = [f\"copy_{col}\" for col in CONSUM_COLS]\n",
    "#\n",
    "# for col in COPY_COLUMNS:\n",
    "#     print(df[col].dtype)\n",
    "#     print(df[col].isna().sum())\n",
    "#     print(df[col].value_counts())\n",
    "#     print(df[col].unique())\n",
    "#     df.fillna({col: \"\"}, inplace=True)\n",
    "#\n",
    "#\n",
    "# def concatenate_consum(row):\n",
    "#     values = [f\"{col.replace('copy_', '')} {row[col]}\" for col in COPY_COLUMNS if row[col] != \"\" and row[col] != \"nan\"]\n",
    "#     if len(values) == 0:\n",
    "#         return None\n",
    "#     return \", \".join(values)\n",
    "#\n",
    "#\n",
    "# df[\"consum\"] = df.apply(concatenate_consum, axis=1)\n",
    "# df = df.drop(columns=CONSUM_COLS)\n",
    "# df = df.drop(columns=COPY_COLUMNS)\n",
    "# print(df[\"consum\"].isna().sum())\n",
    "\n",
    "df = df.drop(columns=CONSUM_COLS)"
   ],
   "metadata": {
    "collapsed": false
   },
   "id": "180b8c8bbd8199b0",
   "execution_count": null
  },
  {
   "cell_type": "markdown",
   "source": [
    "## Create \"garantie\" column, which is a string that contains the values of \"garantie dealer (inclusa in pret)\" and \"sau in limita a\" and \"garantie de la producator pana la\" columns, drop the original columns"
   ],
   "metadata": {
    "collapsed": false
   },
   "id": "a6b53da4adcbac7f"
  },
  {
   "cell_type": "code",
   "outputs": [],
   "source": [
    "GARANTIE_COLS = [\n",
    "    \"garantie dealer (inclusa in pret)\",\n",
    "    \"sau in limita a\",\n",
    "    \"garantie de la producator pana la\",\n",
    "]\n",
    "\n",
    "# for col in GARANTIE_COLS:\n",
    "#     df[f\"copy_{col}\"] = df[col].copy()\n",
    "#\n",
    "# COPY_COLUMNS = [f\"copy_{col}\" for col in GARANTIE_COLS]\n",
    "#\n",
    "# for col in COPY_COLUMNS:\n",
    "#     print(df[col].dtype)\n",
    "#     print(df[col].isna().sum())\n",
    "#     print(df[col].value_counts())\n",
    "#     print(df[col].unique())\n",
    "#     df.fillna({col: \"\"}, inplace=True)\n",
    "#\n",
    "#\n",
    "# def concatenate_garantie(row):\n",
    "#     values = [f\"{col.replace('copy_', '')} {row[col]}\" for col in COPY_COLUMNS if row[col] != \"\" and row[col] != \"nan\"]\n",
    "#     if len(values) == 0:\n",
    "#         return None\n",
    "#     return \", \".join(values)\n",
    "#\n",
    "#\n",
    "# df[\"garantie\"] = df.apply(concatenate_garantie, axis=1)\n",
    "# df = df.drop(columns=GARANTIE_COLS)\n",
    "# df = df.drop(columns=COPY_COLUMNS)\n",
    "# print(df[\"garantie\"].isna().sum())\n",
    "\n",
    "df = df.drop(columns=GARANTIE_COLS)"
   ],
   "metadata": {
    "collapsed": false
   },
   "id": "4ad784bd2829c933",
   "execution_count": null
  },
  {
   "cell_type": "code",
   "outputs": [],
   "source": [
    "# TODO: maybe use them?\n",
    "\n",
    "UNUSED_COLUMNS = [\n",
    "    \"are vin (serie sasiu)\",\n",
    "    \"se emite factura\",\n",
    "    \"eligibil pentru finantare\",\n",
    "]\n",
    "\n",
    "df = df.drop(columns=UNUSED_COLUMNS)"
   ],
   "metadata": {
    "collapsed": false
   },
   "id": "16b34e5b7079e983",
   "execution_count": null
  },
  {
   "cell_type": "markdown",
   "source": [
    "## History"
   ],
   "metadata": {
    "collapsed": false
   },
   "id": "36336bf9e50a1ecf"
  },
  {
   "cell_type": "code",
   "outputs": [],
   "source": [
    "HISTORY_COLS = [\n",
    "    \"data primei inmatriculari\",\n",
    "    \"inmatriculat\",\n",
    "    \"primul proprietar (de nou)\",\n",
    "    \"fara accident in istoric\",\n",
    "    \"carte de service\",\n",
    "]\n",
    "\n",
    "for col in HISTORY_COLS:\n",
    "    print(df[col].dtype)\n",
    "    print(df[col].isna().sum())\n",
    "    print(df[col].value_counts())\n",
    "    print(df[col].unique())\n",
    "\n",
    "# TODO: drop them but might be useful\n",
    "df = df.drop(columns=HISTORY_COLS)"
   ],
   "metadata": {
    "collapsed": false
   },
   "id": "8d187ec749171f50",
   "execution_count": null
  },
  {
   "cell_type": "markdown",
   "source": [
    "## Create \"poluare\" column, which is a string that contains the values of \"norma de poluare\", \"emisii co2\" columns, separated by nextline and the form of \"column: value\", drop the original columns, also ignore the NaN values"
   ],
   "metadata": {
    "collapsed": false
   },
   "id": "eeb8b8acedd1da9c"
  },
  {
   "cell_type": "code",
   "outputs": [],
   "source": [
    "POLUARE_COLS = [\"norma de poluare\", \"emisii co2\"]\n",
    "\n",
    "# for col in POLUARE_COLS:\n",
    "#     df[f\"copy_{col}\"] = df[col].copy()\n",
    "#\n",
    "# COPY_COLUMNS = [f\"copy_{col}\" for col in POLUARE_COLS]\n",
    "#\n",
    "# for col in COPY_COLUMNS:\n",
    "#     print(df[col].dtype)\n",
    "#     print(df[col].isna().sum())\n",
    "#     print(df[col].value_counts())\n",
    "#     print(df[col].unique())\n",
    "#     df.fillna({col: \"\"}, inplace=True)\n",
    "#\n",
    "#\n",
    "# def concatenate_poluare(row):\n",
    "#     values = [f\"{col.replace('copy_', '')}: {row[col]}\" for col in COPY_COLUMNS if row[col] != \"\" and row[col] != \"nan\"]\n",
    "#     if len(values) == 0:\n",
    "#         return None\n",
    "#     return \"\\n\".join(values)\n",
    "#\n",
    "#\n",
    "# df[\"poluare\"] = df.apply(concatenate_poluare, axis=1)\n",
    "# df = df.drop(columns=POLUARE_COLS)\n",
    "# df = df.drop(columns=COPY_COLUMNS)\n",
    "\n",
    "df = df.drop(columns=POLUARE_COLS)"
   ],
   "metadata": {
    "collapsed": false
   },
   "id": "eff9df44e40858b0",
   "execution_count": null
  },
  {
   "cell_type": "markdown",
   "source": [
    "## Color"
   ],
   "metadata": {
    "collapsed": false
   },
   "id": "191f0c8f600c1617"
  },
  {
   "cell_type": "code",
   "outputs": [],
   "source": [
    "print(df[\"culoare\"].isna().sum())\n",
    "print(df[\"culoare\"].value_counts())\n",
    "print(df[\"culoare\"].unique())\n",
    "\n",
    "print(df[\"optiuni culoare\"].isna().sum())\n",
    "print(df[\"optiuni culoare\"].value_counts())\n",
    "print(df[\"optiuni culoare\"].unique())\n",
    "\n",
    "df[\"optiuni culoare\"] = df[\"optiuni culoare\"].fillna(\"standard\")\n",
    "print(df[\"optiuni culoare\"].isna().sum())\n",
    "print(df[\"optiuni culoare\"].value_counts())\n",
    "print(df[\"optiuni culoare\"].unique())"
   ],
   "metadata": {
    "collapsed": false
   },
   "id": "1802bb0c52281dd0",
   "execution_count": null
  },
  {
   "cell_type": "markdown",
   "source": [
    "## Concat custom options"
   ],
   "metadata": {
    "collapsed": false
   },
   "id": "95a68a8ec215b865"
  },
  {
   "cell_type": "code",
   "outputs": [],
   "source": [
    "CUSTOM_OPTIONS_COLUMNS = [\n",
    "    \"audio si tehnologie\",\n",
    "    \"confort si echipamente optionale\",\n",
    "    \"electronice si sisteme de asistenta\",\n",
    "    \"performanta\",\n",
    "    \"siguranta\",\n",
    "]\n",
    "\n",
    "df[\"combined\"] = df[CUSTOM_OPTIONS_COLUMNS].apply(lambda row: \", \".join(row.dropna()), axis=1).str.split(\", \")\n",
    "\n",
    "df = df.drop(columns=CUSTOM_OPTIONS_COLUMNS)\n",
    "\n",
    "df.to_csv(\"core_formatted_v1.csv\", index=False)\n",
    "\n",
    "\n",
    "df.head(100)"
   ],
   "metadata": {
    "collapsed": false
   },
   "id": "160dc9d3b6e30f0b",
   "execution_count": null
  },
  {
   "cell_type": "code",
   "outputs": [],
   "source": [
    "from tqdm import tqdm\n",
    "\n",
    "all_features = set()\n",
    "\n",
    "for features in df[\"combined\"][:1]:\n",
    "    print(features)\n",
    "\n",
    "df[\"combined\"].apply(lambda features: all_features.update(features))\n",
    "\n",
    "all_features = list(all_features)\n",
    "print(all_features[:10])\n",
    "\n",
    "# new_columns = {feature: df['combined'].apply(lambda features: feature in features).astype(int) for feature in tqdm(all_features)}\n",
    "#\n",
    "# df = pd.concat([df, pd.DataFrame(new_columns, index=df.index)], axis=1)\n",
    "#\n",
    "# df\n",
    "\n",
    "# for col in CUSTOM_OPTIONS_COLUMNS:\n",
    "#     df[f\"copy_{col}\"] = df[col].copy()\n",
    "#\n",
    "# COPY_COLUMNS = [f\"copy_{col}\" for col in CUSTOM_OPTIONS_COLUMNS]\n",
    "#\n",
    "# for col in COPY_COLUMNS:\n",
    "#     print(df[col].dtype)\n",
    "#     print(df[col].isna().sum())\n",
    "#     df.fillna({col: \"\"}, inplace=True)\n",
    "#\n",
    "#\n",
    "# def concatenate_custom_options(row):\n",
    "#     values = [f\"{col.replace('copy_', '')}: {row[col]}\" for col in COPY_COLUMNS if row[col] != \"\" and row[col] != \"nan\"]\n",
    "#     if len(values) == 0:\n",
    "#         return None\n",
    "#     return \"\\n\".join(values)\n",
    "#\n",
    "#\n",
    "# df[\"optiuni\"] = df.apply(concatenate_custom_options, axis=1)\n",
    "#\n",
    "# df = df.drop(columns=CUSTOM_OPTIONS_COLUMNS)\n",
    "# df = df.drop(columns=COPY_COLUMNS)"
   ],
   "metadata": {
    "collapsed": false
   },
   "id": "a7d060853151e198",
   "execution_count": null
  },
  {
   "cell_type": "markdown",
   "source": [
    "## Replace oferit de column with a boolean column"
   ],
   "metadata": {
    "collapsed": false
   },
   "id": "39c2e5400b4d301f"
  },
  {
   "cell_type": "code",
   "outputs": [],
   "source": [
    "print(df[\"oferit de\"].isna().sum())\n",
    "print(df[\"oferit de\"].value_counts())\n",
    "print(df[\"oferit de\"].unique())\n",
    "\n",
    "df[\"firma\"] = df[\"oferit de\"].apply(lambda x: True if x == \"firma\" else False)\n",
    "df = df.drop(columns=[\"oferit de\"])\n",
    "\n",
    "print(df[\"firma\"].isna().sum())\n",
    "print(df[\"firma\"].value_counts())\n",
    "print(df[\"firma\"].unique())"
   ],
   "metadata": {
    "collapsed": false
   },
   "id": "49c15fcf051e35e1",
   "execution_count": null
  },
  {
   "cell_type": "markdown",
   "source": [
    "## Drop numar de portiere column as it is very human error prone"
   ],
   "metadata": {
    "collapsed": false
   },
   "id": "25497fd5595cb041"
  },
  {
   "cell_type": "code",
   "outputs": [],
   "source": [
    "df = df.drop(columns=[\"numar de portiere\"])\n",
    "\n",
    "# TODO: we also drop numar locuri for now, but we might use it\n",
    "df = df.drop(columns=[\"numar locuri\"])"
   ],
   "metadata": {
    "collapsed": false
   },
   "id": "87f49fbf9b7d241c",
   "execution_count": null
  },
  {
   "cell_type": "markdown",
   "source": [
    "## Replace stare columns with boolean is_new column"
   ],
   "metadata": {
    "collapsed": false
   },
   "id": "19d8e44e527a74db"
  },
  {
   "cell_type": "code",
   "outputs": [],
   "source": [
    "print(df[\"stare\"].isna().sum())\n",
    "print(df[\"stare\"].value_counts())\n",
    "print(df[\"stare\"].unique())\n",
    "\n",
    "df[\"is_new\"] = df[\"stare\"].apply(lambda x: True if x == \"nou\" else False)\n",
    "df = df.drop(columns=[\"stare\"])\n",
    "\n",
    "print(df[\"is_new\"].isna().sum())\n",
    "print(df[\"is_new\"].value_counts())\n",
    "print(df[\"is_new\"].unique())"
   ],
   "metadata": {
    "collapsed": false
   },
   "id": "a47abe57020faed6",
   "execution_count": null
  },
  {
   "cell_type": "markdown",
   "source": [
    "## Drop the is_new column as there are only 1731 rows that are new, and remove those rows as they are outliers"
   ],
   "metadata": {
    "collapsed": false
   },
   "id": "23d930ea9b1d2c7"
  },
  {
   "cell_type": "code",
   "outputs": [],
   "source": [
    "initial_len = len(df)\n",
    "df = df[df[\"is_new\"] == False]\n",
    "df = df.drop(columns=[\"is_new\"])\n",
    "print(f\"Removed {initial_len - len(df)} new cars\")"
   ],
   "metadata": {
    "collapsed": false
   },
   "id": "23ddcac532eb87b0",
   "execution_count": null
  },
  {
   "cell_type": "markdown",
   "source": [
    "## Create “detalii generale” column which is a string that contains values from “marca”, “model”, “versiune”, “generatie”, “anul producției”, “combustibil”, “km”, “putere”, “capacitate cilindrica”, “transmisie”, “cutie de viteze”, “tip caroserie”, “numar de portiere”, “numar locuri”, “stare”, columns, separated by nextline and the form of “column: value”, also ignore the NaN values"
   ],
   "metadata": {
    "collapsed": false
   },
   "id": "ed31ebe0d00b8dbe"
  },
  {
   "cell_type": "code",
   "outputs": [],
   "source": [
    "GENERAL_DETAILS_COLUMNS = [\n",
    "    \"marca\",\n",
    "    \"model\",\n",
    "    \"versiune\",\n",
    "    \"generatie\",\n",
    "    \"transmisie\",\n",
    "    \"cutie de viteze\",\n",
    "    # TODO: currently including tara de origine, missing a lot of values, maybe use it as structured data\n",
    "    \"tara de origine\",\n",
    "    \"culoare\",\n",
    "    \"optiuni culoare\",\n",
    "]\n",
    "\n",
    "for col in GENERAL_DETAILS_COLUMNS:\n",
    "    df[f\"copy_{col}\"] = df[col].copy()\n",
    "\n",
    "COPY_COLUMNS = [f\"copy_{col}\" for col in GENERAL_DETAILS_COLUMNS]\n",
    "\n",
    "for col in COPY_COLUMNS:\n",
    "    print(df[col].dtype)\n",
    "    print(df[col].isna().sum())\n",
    "    df.fillna({col: \"\"}, inplace=True)\n",
    "\n",
    "\n",
    "def concatenate_general_details(row):\n",
    "    values = [f\"{col.replace('copy_', '')}: {row[col]}\" for col in COPY_COLUMNS if row[col] != \"\" and row[col] != \"nan\"]\n",
    "    if len(values) == 0:\n",
    "        return None\n",
    "    return \"\\n\".join(values)\n",
    "\n",
    "\n",
    "df[\"detalii generale\"] = df.apply(concatenate_general_details, axis=1)\n",
    "df = df.drop(columns=[\"versiune\", \"generatie\", \"tara de origine\", \"culoare\", \"optiuni culoare\"])\n",
    "df = df.drop(columns=COPY_COLUMNS)"
   ],
   "metadata": {
    "collapsed": false
   },
   "id": "9a67588a2a9a8e77",
   "execution_count": null
  },
  {
   "cell_type": "markdown",
   "source": [
    "## Format cutie de viteze, drop the empty rows, make it a boolean column named is_automatic"
   ],
   "metadata": {
    "collapsed": false
   },
   "id": "cea6ceb768da8a2e"
  },
  {
   "cell_type": "code",
   "outputs": [],
   "source": [
    "print(df[\"cutie de viteze\"].isna().sum())\n",
    "print(df[\"cutie de viteze\"].value_counts())\n",
    "print(df[\"cutie de viteze\"].unique())\n",
    "\n",
    "df = df.dropna(subset=[\"cutie de viteze\"])\n",
    "df[\"is_automatic\"] = df[\"cutie de viteze\"].apply(lambda x: True if x == \"automata\" else False)\n",
    "df = df.drop(columns=[\"cutie de viteze\"])\n",
    "\n",
    "print(df[\"is_automatic\"].isna().sum())\n",
    "print(df[\"is_automatic\"].value_counts())\n",
    "print(df[\"is_automatic\"].unique())"
   ],
   "metadata": {
    "collapsed": false
   },
   "id": "87ddd90832231e01",
   "execution_count": null
  },
  {
   "cell_type": "markdown",
   "source": [
    "## Format unique_id column"
   ],
   "metadata": {
    "collapsed": false
   },
   "id": "39f1ba9edb6fc3de"
  },
  {
   "cell_type": "code",
   "outputs": [],
   "source": [
    "initial_len = len(df)\n",
    "df = df.dropna(subset=[\"unique_id\"])\n",
    "print(f\"Removed {initial_len - len(df)} rows with na unique_id\")\n",
    "\n",
    "df[\"unique_id\"] = df[\"unique_id\"].astype(str)\n",
    "df[\"unique_id\"] = df[\"unique_id\"].apply(lambda x: x.zfill(6))\n",
    "\n",
    "print(df[\"unique_id\"].isna().sum())\n",
    "print(df[\"unique_id\"].value_counts())"
   ],
   "metadata": {
    "collapsed": false
   },
   "id": "6c92c34a18b6e7d4",
   "execution_count": null
  },
  {
   "cell_type": "code",
   "outputs": [],
   "source": [
    "print(df[\"transmisie\"].isna().sum())"
   ],
   "metadata": {
    "collapsed": false
   },
   "id": "e090aec6ede9ac0",
   "execution_count": null
  },
  {
   "cell_type": "code",
   "outputs": [],
   "source": [
    "msno.bar(df)"
   ],
   "metadata": {
    "collapsed": false
   },
   "id": "869ccfb60ce6de6",
   "execution_count": null
  },
  {
   "cell_type": "markdown",
   "source": [
    "## Concat strings columns to a full description"
   ],
   "metadata": {
    "collapsed": false
   },
   "id": "eba4d2598f784b4a"
  },
  {
   "cell_type": "code",
   "outputs": [],
   "source": [
    "COLUMNS_TO_CONCAT = [\"detalii generale\", \"optiuni\", \"consum\", \"garantie\", \"poluare\", \"description\"]\n",
    "\n",
    "for col in COLUMNS_TO_CONCAT:\n",
    "    df[f\"copy_{col}\"] = df[col].copy()\n",
    "\n",
    "COPY_COLUMNS = [f\"copy_{col}\" for col in COLUMNS_TO_CONCAT]\n",
    "\n",
    "for col in COPY_COLUMNS:\n",
    "    print(df[col].dtype)\n",
    "    print(df[col].isna().sum())\n",
    "    df.fillna({col: \"\"}, inplace=True)\n",
    "\n",
    "\n",
    "def concatenate_full_description(row):\n",
    "    values = [row[col] for col in COPY_COLUMNS if row[col] != \"\" and row[col] != \"nan\"]\n",
    "    if len(values) == 0:\n",
    "        return None\n",
    "    return \"\\n\".join(values)\n",
    "\n",
    "\n",
    "df[\"input\"] = df.apply(concatenate_full_description, axis=1)\n",
    "df = df.drop(columns=COLUMNS_TO_CONCAT)\n",
    "df = df.drop(columns=COPY_COLUMNS)"
   ],
   "metadata": {
    "collapsed": false
   },
   "id": "a1bf39275bc914fb",
   "execution_count": null
  },
  {
   "cell_type": "markdown",
   "source": [
    "## In tip caroserie make masina mica, masina de oras to be compacta"
   ],
   "metadata": {
    "collapsed": false
   },
   "id": "a2d2108e149614d"
  },
  {
   "cell_type": "code",
   "outputs": [],
   "source": [
    "df = df.replace({\"tip caroserie\": {\"masina mica\": \"compacta\", \"masina de oras\": \"compacta\"}})"
   ],
   "metadata": {
    "collapsed": false
   },
   "id": "cda1e4081531bbf0",
   "execution_count": null
  },
  {
   "cell_type": "code",
   "outputs": [],
   "source": [
    "msno.bar(df)"
   ],
   "metadata": {
    "collapsed": false
   },
   "id": "551e3b88a8b53f65",
   "execution_count": null
  },
  {
   "cell_type": "code",
   "outputs": [],
   "source": [
    "df = df.drop(columns=[\"id\"])\n",
    "\n",
    "REQUIRED_COLUMNS = [\n",
    "    \"marca\",\n",
    "    \"model\",\n",
    "    \"anul producției\",\n",
    "    \"combustibil\",\n",
    "    \"km\",\n",
    "    \"putere\",\n",
    "    \"capacitate cilindrica\",\n",
    "    \"tip caroserie\",\n",
    "    \"price\",\n",
    "    \"unique_id\",\n",
    "    \"firma\",\n",
    "    \"input\",\n",
    "    \"is_automatic\",\n",
    "]\n",
    "\n",
    "initial_len = len(df)\n",
    "df = df.dropna(subset=REQUIRED_COLUMNS)\n",
    "print(f\"Removed {initial_len - len(df)} rows with na in required columns\")\n",
    "\n",
    "df = df[\n",
    "    [\n",
    "        \"unique_id\",\n",
    "        \"price\",\n",
    "        \"marca\",\n",
    "        \"model\",\n",
    "        \"anul producției\",\n",
    "        \"km\",\n",
    "        \"putere\",\n",
    "        \"capacitate cilindrica\",\n",
    "        \"combustibil\",\n",
    "        \"tip caroserie\",\n",
    "        \"is_automatic\",\n",
    "        \"firma\",\n",
    "        \"transmisie\",\n",
    "        \"input\",\n",
    "    ]\n",
    "]\n",
    "\n",
    "df[\"anul producției\"] = df[\"anul producției\"].astype(int)"
   ],
   "metadata": {
    "collapsed": false
   },
   "id": "396e39e5b6c0ba34",
   "execution_count": null
  },
  {
   "cell_type": "markdown",
   "source": [
    "## OUTLIERS"
   ],
   "metadata": {
    "collapsed": false
   },
   "id": "c0849526de9e8c00"
  },
  {
   "cell_type": "code",
   "outputs": [],
   "source": [
    "# drop the rows where putere > 650\n",
    "initial_len = len(df)\n",
    "df = df[df[\"putere\"] <= 600]\n",
    "df = df[df[\"putere\"] >= 50]\n",
    "print(f\"Removed {initial_len - len(df)} rows with putere > 500\")\n",
    "\n",
    "# drop rows with capacitate cilindrica < 500\n",
    "initial_len = len(df)\n",
    "df = df[df[\"capacitate cilindrica\"] >= 500]\n",
    "print(f\"Removed {initial_len - len(df)} rows with capacitate cilindrica < 500\")\n",
    "\n",
    "# drop the rows where ca[acitate cilindrica > 4000\n",
    "initial_len = len(df)\n",
    "df = df[df[\"capacitate cilindrica\"] <= 4000]\n",
    "print(f\"Removed {initial_len - len(df)} rows with capacitate cilindrica > 4000\")\n",
    "\n",
    "initial_len = len(df)\n",
    "df = df[df[\"price\"] <= 40_000]\n",
    "print(f\"Removed {initial_len - len(df)} rows with price > 100000\")\n",
    "\n",
    "initial_len = len(df)\n",
    "df = df[df[\"km\"] <= 500_000]\n",
    "print(f\"Removed {initial_len - len(df)} rows with km > 500000\")\n",
    "\n",
    "initial_len = len(df)\n",
    "temp_df = df[\"marca\"].value_counts()\n",
    "df = df[df[\"marca\"].isin(temp_df[temp_df >= 100].index)]\n",
    "print(f\"Removed {initial_len - len(df)} rows of outlier marca values\")"
   ],
   "metadata": {
    "collapsed": false
   },
   "id": "9aa24ebe7e02ed79",
   "execution_count": null
  },
  {
   "cell_type": "code",
   "outputs": [],
   "source": [
    "msno.bar(df)"
   ],
   "metadata": {
    "collapsed": false
   },
   "id": "eac6f2d817df6f7a",
   "execution_count": null
  },
  {
   "cell_type": "markdown",
   "source": [],
   "metadata": {
    "collapsed": false
   },
   "id": "93167fc10fb4ec17"
  },
  {
   "cell_type": "code",
   "outputs": [],
   "source": [
    "df.to_csv(\"core_formatted_v2\", index=False)"
   ],
   "metadata": {
    "collapsed": false
   },
   "id": "4a4e47de03af4a70",
   "execution_count": null
  }
 ],
 "metadata": {
  "kernelspec": {
   "display_name": "Python 3",
   "language": "python",
   "name": "python3"
  },
  "language_info": {
   "codemirror_mode": {
    "name": "ipython",
    "version": 2
   },
   "file_extension": ".py",
   "mimetype": "text/x-python",
   "name": "python",
   "nbconvert_exporter": "python",
   "pygments_lexer": "ipython2",
   "version": "2.7.6"
  }
 },
 "nbformat": 4,
 "nbformat_minor": 5
}
