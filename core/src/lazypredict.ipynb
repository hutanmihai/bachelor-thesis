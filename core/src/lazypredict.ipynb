{
 "cells": [
  {
   "cell_type": "code",
   "execution_count": null,
   "id": "initial_id",
   "metadata": {
    "collapsed": true
   },
   "outputs": [],
   "source": [
    "import pandas as pd\n",
    "\n",
    "from sklearn.ensemble import RandomForestRegressor\n",
    "from sklearn.metrics import mean_absolute_error, r2_score, mean_squared_error, mean_squared_log_error, mean_absolute_percentage_error"
   ]
  },
  {
   "cell_type": "code",
   "outputs": [],
   "source": [
    "df_train = pd.read_csv(\"rocar_train.csv\")\n",
    "df_test = pd.read_csv(\"rocar_test.csv\")\n",
    "\n",
    "df_train.info()"
   ],
   "metadata": {
    "collapsed": false
   },
   "id": "29b41906e383852a",
   "execution_count": null
  },
  {
   "cell_type": "code",
   "outputs": [],
   "source": [
    "X_train = df_train.drop(columns=[\"price\", \"unique_id\", \"input\"])\n",
    "y_train = df_train[\"price\"]\n",
    "X_test = df_test.drop(columns=[\"price\", \"unique_id\", \"input\"])\n",
    "y_test = df_test[\"price\"]"
   ],
   "metadata": {
    "collapsed": false
   },
   "id": "1dc5e22b163062f1",
   "execution_count": null
  },
  {
   "cell_type": "code",
   "outputs": [],
   "source": [
    "# from lazypredict.Supervised import LazyRegressor\n",
    "# reg = LazyRegressor(verbose=0, ignore_warnings=False, custom_metric=mean_absolute_error)\n",
    "# models, predictions = reg.fit(X_train, X_test, y_train, y_test)\n",
    "# models"
   ],
   "metadata": {
    "collapsed": false
   },
   "id": "65e678b562bfa9f5",
   "execution_count": null
  },
  {
   "cell_type": "code",
   "outputs": [],
   "source": [
    "rf = RandomForestRegressor()\n",
    "rf.fit(X_train, y_train)\n",
    "y_pred = rf.predict(X_test)\n",
    "mae = mean_absolute_error(y_test, y_pred)\n",
    "r2 = r2_score(y_test, y_pred)\n",
    "mse = mean_squared_error(y_test, y_pred)\n",
    "msle = mean_squared_log_error(y_test, y_pred)\n",
    "mape = mean_absolute_percentage_error(y_test, y_pred)\n",
    "\n",
    "print(f\"MAE: {mae}\")\n",
    "print(f\"R2: {r2}\")\n",
    "print(f\"MSE: {mse}\")\n",
    "print(f\"MSLE: {msle}\")\n",
    "print(f\"MAPE: {mape}\")"
   ],
   "metadata": {
    "collapsed": false
   },
   "id": "c71d7d4f82b4747e",
   "execution_count": null
  },
  {
   "cell_type": "code",
   "outputs": [],
   "source": [
    "import pickle\n",
    "\n",
    "with open(\"random_forest_model.pkl\", \"wb\") as f:\n",
    "    pickle.dump(rf, f)"
   ],
   "metadata": {
    "collapsed": false
   },
   "id": "e16a3d024d9ff5ea",
   "execution_count": null
  }
 ],
 "metadata": {
  "kernelspec": {
   "display_name": "Python 3",
   "language": "python",
   "name": "python3"
  },
  "language_info": {
   "codemirror_mode": {
    "name": "ipython",
    "version": 2
   },
   "file_extension": ".py",
   "mimetype": "text/x-python",
   "name": "python",
   "nbconvert_exporter": "python",
   "pygments_lexer": "ipython2",
   "version": "2.7.6"
  }
 },
 "nbformat": 4,
 "nbformat_minor": 5
}
