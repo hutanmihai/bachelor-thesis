{
 "cells": [
  {
   "cell_type": "code",
   "execution_count": null,
   "id": "initial_id",
   "metadata": {
    "collapsed": true
   },
   "outputs": [],
   "source": [
    "import pandas as pd\n",
    "import torch\n",
    "from torch import nn\n",
    "from torch.optim.lr_scheduler import ReduceLROnPlateau\n",
    "from torch.utils.data import Dataset, DataLoader\n",
    "\n",
    "from utils.decorators import show_elapsed_time\n",
    "from utils.decorators import send_notification\n",
    "from utils.metrics import compute_metrics\n",
    "from utils.plots import plot_loss_and_metrics, print_metrics_table\n",
    "import matplotlib.pyplot as plt\n",
    "from constants import TRAIN_DATA_CSV, TEST_DATA_CSV, SIMPLE_MODEL_PATH"
   ]
  },
  {
   "cell_type": "code",
   "outputs": [],
   "source": [
    "df_train = pd.read_csv(TRAIN_DATA_CSV)\n",
    "df_test = pd.read_csv(TEST_DATA_CSV)"
   ],
   "metadata": {
    "collapsed": false
   },
   "id": "13675879ce1adab3",
   "execution_count": null
  },
  {
   "cell_type": "code",
   "outputs": [],
   "source": [
    "print(f\"Train shape: {df_train.shape}\")\n",
    "print(f\"Test shape: {df_test.shape}\")"
   ],
   "metadata": {
    "collapsed": false
   },
   "id": "94381df350cf0b8e",
   "execution_count": null
  },
  {
   "cell_type": "markdown",
   "source": [
    "# CONSTANTS"
   ],
   "metadata": {
    "collapsed": false
   },
   "id": "c8515e6e3f51af2b"
  },
  {
   "cell_type": "code",
   "outputs": [],
   "source": [
    "BATCH_SIZE = 2048\n",
    "DEVICE = torch.device(\"cuda\" if torch.cuda.is_available() else \"cpu\")"
   ],
   "metadata": {
    "collapsed": false
   },
   "id": "bd16c2b6938cb81f",
   "execution_count": null
  },
  {
   "cell_type": "code",
   "outputs": [],
   "source": [
    "class CarDataset(Dataset):\n",
    "    def __init__(self, features, labels):\n",
    "        self.features = torch.tensor(features.values, dtype=torch.float32)\n",
    "        self.labels = torch.tensor(labels.values, dtype=torch.float32)\n",
    "\n",
    "    def __len__(self):\n",
    "        return len(self.features)\n",
    "\n",
    "    def __getitem__(self, idx):\n",
    "        return self.features[idx], self.labels[idx]\n",
    "\n",
    "\n",
    "train_dataset = CarDataset(df_train.drop(columns=[\"price\", \"unique_id\", \"input\"]), df_train[\"price\"])\n",
    "test_dataset = CarDataset(df_test.drop(columns=[\"price\", \"unique_id\", \"input\"]), df_test[\"price\"])\n",
    "\n",
    "print(f\"Train dataset length: {len(train_dataset)}\")\n",
    "print(f\"Test dataset length: {len(test_dataset)}\")\n",
    "\n",
    "train_loader = DataLoader(train_dataset, batch_size=BATCH_SIZE, shuffle=True)\n",
    "test_loader = DataLoader(test_dataset, batch_size=BATCH_SIZE, shuffle=False)"
   ],
   "metadata": {
    "collapsed": false
   },
   "id": "a4035c9d6d28e7fc",
   "execution_count": null
  },
  {
   "cell_type": "code",
   "outputs": [],
   "source": [
    "class Net(nn.Module):\n",
    "    def __init__(self):\n",
    "        super(Net, self).__init__()\n",
    "        self.fc1 = nn.Linear(10, 1024)\n",
    "        self.fc2 = nn.Linear(1024, 256)\n",
    "        self.fc3 = nn.Linear(256, 1)\n",
    "        self.dropout = nn.Dropout(0.2)\n",
    "\n",
    "    def forward(self, x):\n",
    "        x = torch.relu(self.fc1(x))\n",
    "        x = torch.relu(self.fc2(x))\n",
    "        x = self.dropout(x)\n",
    "        x = self.fc3(x)\n",
    "        return x"
   ],
   "metadata": {
    "collapsed": false
   },
   "id": "c7068ad8cc16f0cf",
   "execution_count": null
  },
  {
   "cell_type": "code",
   "outputs": [],
   "source": [
    "model = Net().to(DEVICE)\n",
    "criterion = nn.MSELoss()\n",
    "optimizer = torch.optim.Adam(model.parameters(), lr=0.01)\n",
    "scheduler = ReduceLROnPlateau(optimizer, mode=\"min\", factor=0.5, min_lr=1e-9, patience=50)\n",
    "\n",
    "trainSteps = len(train_loader.dataset) // BATCH_SIZE\n",
    "testSteps = len(test_loader.dataset) // BATCH_SIZE\n",
    "history = {\"train_loss\": [], \"test_loss\": []}\n",
    "metrics_history = {\"train_mae\": [], \"test_mae\": [], \"train_rmse\": [], \"test_rmse\": [], \"train_r2\": [], \"test_r2\": [], \"train_mse\": [], \"test_mse\": []}"
   ],
   "metadata": {
    "collapsed": false
   },
   "id": "42a272ade1b1168e",
   "execution_count": null
  },
  {
   "cell_type": "code",
   "outputs": [],
   "source": [
    "@show_elapsed_time\n",
    "@send_notification\n",
    "def train(num_epochs: int = 100):\n",
    "    best_val_loss = float(\"inf\")\n",
    "    for epoch in range(num_epochs):\n",
    "        model.train()\n",
    "        train_loss = 0.0\n",
    "        all_train_predictions = []\n",
    "        all_train_ground_truths = []\n",
    "        for i, (features, labels) in enumerate(train_loader):\n",
    "            features, labels = features.to(DEVICE), labels.to(DEVICE)\n",
    "            optimizer.zero_grad()\n",
    "            outputs = model(features)\n",
    "            loss = criterion(outputs, labels.unsqueeze(1))\n",
    "            loss.backward()\n",
    "            optimizer.step()\n",
    "            train_loss += loss.item()\n",
    "            all_train_predictions.extend(outputs.cpu().detach().numpy())\n",
    "            all_train_ground_truths.extend(labels.cpu().detach().numpy())\n",
    "\n",
    "        train_metrics = compute_metrics(all_train_predictions, all_train_ground_truths)\n",
    "        metrics_history[\"train_mae\"].append(train_metrics[\"MAE\"])\n",
    "        metrics_history[\"train_mse\"].append(train_metrics[\"MSE\"])\n",
    "        metrics_history[\"train_rmse\"].append(train_metrics[\"RMSE\"])\n",
    "        metrics_history[\"train_r2\"].append(train_metrics[\"R2\"])\n",
    "\n",
    "        model.eval()\n",
    "        test_loss = 0.0\n",
    "        all_test_predictions = []\n",
    "        all_test_ground_truths = []\n",
    "        with torch.no_grad():\n",
    "            for i, (features, labels) in enumerate(test_loader):\n",
    "                features, labels = features.to(DEVICE), labels.to(DEVICE)\n",
    "                outputs = model(features)\n",
    "                loss = criterion(outputs, labels.unsqueeze(1))\n",
    "                test_loss += loss.item()\n",
    "                all_test_predictions.extend(outputs.cpu().detach().numpy())\n",
    "                all_test_ground_truths.extend(labels.cpu().detach().numpy())\n",
    "\n",
    "        test_metrics = compute_metrics(all_test_predictions, all_test_ground_truths)\n",
    "        metrics_history[\"test_mae\"].append(test_metrics[\"MAE\"])\n",
    "        metrics_history[\"test_mse\"].append(test_metrics[\"MSE\"])\n",
    "        metrics_history[\"test_rmse\"].append(test_metrics[\"RMSE\"])\n",
    "        metrics_history[\"test_r2\"].append(test_metrics[\"R2\"])\n",
    "\n",
    "        train_loss /= trainSteps\n",
    "        test_loss /= testSteps\n",
    "\n",
    "        history[\"train_loss\"].append(train_loss)\n",
    "        history[\"test_loss\"].append(test_loss)\n",
    "\n",
    "        scheduler.step(test_loss)\n",
    "        print(scheduler.get_last_lr())\n",
    "\n",
    "        print(f\"Epoch {epoch + 1}/{num_epochs}, Train Loss: {train_loss:.4f}, Test Loss: {test_loss:.4f}\")\n",
    "        print(\"Train Metrics: \", train_metrics)\n",
    "        print(\"Test Metrics: \", test_metrics)\n",
    "\n",
    "        if test_loss < best_val_loss:\n",
    "            best_val_loss = test_loss\n",
    "            torch.save(model.state_dict(), SIMPLE_MODEL_PATH)\n",
    "            print(f\"Epoch {epoch + 1}: New best test loss: {best_val_loss}\")"
   ],
   "metadata": {
    "collapsed": false
   },
   "id": "89e73d89fbca2b26",
   "execution_count": null
  },
  {
   "cell_type": "code",
   "outputs": [],
   "source": [
    "train(5000)"
   ],
   "metadata": {
    "collapsed": false
   },
   "id": "8c7f0d90b83119cb",
   "execution_count": null
  },
  {
   "cell_type": "code",
   "outputs": [],
   "source": [
    "plot_loss_and_metrics(history, metrics_history, SLICE_START=20)\n",
    "print_metrics_table(metrics_history)"
   ],
   "metadata": {
    "collapsed": false
   },
   "id": "6d4681578245e720",
   "execution_count": null
  },
  {
   "cell_type": "code",
   "outputs": [],
   "source": [
    "differences = []\n",
    "abs_differences = []\n",
    "\n",
    "with torch.no_grad():\n",
    "    for inputs, targets in test_loader:  # Loop through the entire validation set\n",
    "        inputs, targets = inputs.to(DEVICE), targets.to(DEVICE)\n",
    "        outputs = model(inputs)\n",
    "        inputs = inputs.cpu().numpy()\n",
    "        targets = targets.cpu().numpy()\n",
    "        outputs = outputs.cpu().numpy()\n",
    "\n",
    "        for output, target in zip(outputs, targets):\n",
    "            diff = output[0] - target  # Calculate the absolute difference\n",
    "            abs_diff = abs(diff)  # Calculate the absolute difference\n",
    "            differences.append(diff)  # Store the differences\n",
    "            abs_differences.append(abs_diff)  # Store the absolute differences\n",
    "\n",
    "# Plotting the differences\n",
    "plt.figure(figsize=(10, 5))\n",
    "plt.plot(differences, marker=\"o\", linestyle=\"-\", markersize=4)\n",
    "plt.title(\"Differences between Predictions and Ground Truth\")\n",
    "plt.xlabel(\"Sample Index\")\n",
    "plt.ylabel(\"Prediction - Ground Truth\")\n",
    "plt.grid(True)\n",
    "plt.show()\n",
    "\n",
    "# calculate the average difference\n",
    "average_abs_diff = sum(abs_differences) / len(abs_differences)\n",
    "print(f\"Average absolute difference: {average_abs_diff:.2f}\")"
   ],
   "metadata": {
    "collapsed": false
   },
   "id": "6e616086d0e871bf",
   "execution_count": null
  }
 ],
 "metadata": {
  "kernelspec": {
   "display_name": "Python 3",
   "language": "python",
   "name": "python3"
  },
  "language_info": {
   "codemirror_mode": {
    "name": "ipython",
    "version": 2
   },
   "file_extension": ".py",
   "mimetype": "text/x-python",
   "name": "python",
   "nbconvert_exporter": "python",
   "pygments_lexer": "ipython2",
   "version": "2.7.6"
  }
 },
 "nbformat": 4,
 "nbformat_minor": 5
}
