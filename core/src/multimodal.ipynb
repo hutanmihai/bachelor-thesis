{
 "cells": [
  {
   "cell_type": "code",
   "execution_count": null,
   "id": "initial_id",
   "metadata": {
    "collapsed": true
   },
   "outputs": [],
   "source": [
    "import torch\n",
    "from torch import nn\n",
    "from torch.optim.lr_scheduler import ReduceLROnPlateau\n",
    "import numpy as np\n",
    "from torch.utils.data import Dataset, DataLoader\n",
    "import pandas as pd\n",
    "\n",
    "from constants import (\n",
    "    TRAIN_DATA_CSV,\n",
    "    TEST_DATA_CSV,\n",
    "    TEST_IMAGE_FEATURES_PATH,\n",
    "    TEST_TEXT_FEATURES_PATH,\n",
    "    TRAIN_IMAGE_FEATURES_PATH,\n",
    "    TRAIN_TEXT_FEATURES_PATH,\n",
    "    MULTIMODAL_NO_ENCODER_MODEL_PATH,\n",
    ")\n",
    "from core.src.utils.metrics import compute_metrics\n",
    "from core.src.utils.plots import plot_loss_and_metrics, print_metrics_table"
   ]
  },
  {
   "cell_type": "code",
   "outputs": [],
   "source": [
    "df_train = pd.read_csv(TRAIN_DATA_CSV, dtype={\"unique_id\": str})\n",
    "df_test = pd.read_csv(TEST_DATA_CSV, dtype={\"unique_id\": str})\n",
    "device = torch.device(\"cuda\" if torch.cuda.is_available() else \"cpu\")"
   ],
   "metadata": {
    "collapsed": false
   },
   "id": "b7407219149a1af1",
   "execution_count": null
  },
  {
   "cell_type": "code",
   "outputs": [],
   "source": [
    "df_train.head()"
   ],
   "metadata": {
    "collapsed": false
   },
   "id": "8e548c690917e714",
   "execution_count": null
  },
  {
   "cell_type": "code",
   "outputs": [],
   "source": [
    "df_train.info()"
   ],
   "metadata": {
    "collapsed": false
   },
   "id": "88d0d9f7632f97",
   "execution_count": null
  },
  {
   "cell_type": "code",
   "outputs": [],
   "source": [
    "STRUCTURED_COLUMNS = [\n",
    "    \"km\",\n",
    "    \"putere\",\n",
    "    \"capacitate cilindrica\",\n",
    "    \"anul producției\",\n",
    "    \"marca\",\n",
    "    \"model\",\n",
    "    \"combustibil\",\n",
    "    \"tip caroserie\",\n",
    "    \"firma\",\n",
    "    \"is_automatic\",\n",
    "]\n",
    "\n",
    "train_structured_data = df_train[STRUCTURED_COLUMNS].to_numpy()\n",
    "test_structured_data = df_test[STRUCTURED_COLUMNS].to_numpy()\n",
    "\n",
    "train_targets = df_train[\"price\"].to_numpy()\n",
    "test_targets = df_test[\"price\"].to_numpy()\n",
    "\n",
    "train_structured_data.shape, test_structured_data.shape, train_targets.shape, test_targets.shape"
   ],
   "metadata": {
    "collapsed": false
   },
   "id": "1b67179579d4821b",
   "execution_count": null
  },
  {
   "cell_type": "code",
   "outputs": [],
   "source": [
    "train_image_features = np.load(TRAIN_IMAGE_FEATURES_PATH)\n",
    "test_image_features = np.load(TEST_IMAGE_FEATURES_PATH)\n",
    "\n",
    "train_text_features = np.load(TRAIN_TEXT_FEATURES_PATH)\n",
    "test_text_features = np.load(TEST_TEXT_FEATURES_PATH)\n",
    "\n",
    "len(train_image_features), len(train_text_features), len(test_image_features), len(test_text_features)"
   ],
   "metadata": {
    "collapsed": false
   },
   "id": "482ea801c8c19bc1",
   "execution_count": null
  },
  {
   "cell_type": "code",
   "outputs": [],
   "source": [
    "class MultimodalDataset(Dataset):\n",
    "    def __init__(self, image_features, text_features, structured_data, targets):\n",
    "        self.image_features = image_features\n",
    "        self.text_features = text_features\n",
    "        self.structured_data = structured_data\n",
    "        self.targets = targets\n",
    "\n",
    "    def __len__(self):\n",
    "        return len(self.targets)\n",
    "\n",
    "    def __getitem__(self, idx):\n",
    "        # Use the entire sequence representation\n",
    "        # image = torch.tensor(self.image_features[idx], dtype=torch.float32)\n",
    "        # text = torch.tensor(self.text_features[idx], dtype=torch.float32)\n",
    "\n",
    "        # Use only the [CLS] token representation\n",
    "        image = torch.tensor([self.image_features[idx][0]], dtype=torch.float32)\n",
    "        text = torch.tensor([self.text_features[idx][0]], dtype=torch.float32)\n",
    "\n",
    "        structured = torch.tensor(self.structured_data[idx], dtype=torch.float32)\n",
    "        target = torch.tensor(self.targets[idx], dtype=torch.float32)\n",
    "\n",
    "        features = torch.cat([image, text, structured])\n",
    "\n",
    "        return features, target\n",
    "\n",
    "\n",
    "train_dataset = MultimodalDataset(train_image_features, train_text_features, train_structured_data, train_targets)\n",
    "test_dataset = MultimodalDataset(test_image_features, test_text_features, test_structured_data, test_targets)\n",
    "\n",
    "BATCH_SIZE = 128\n",
    "\n",
    "train_loader = DataLoader(train_dataset, batch_size=BATCH_SIZE, shuffle=True)\n",
    "test_loader = DataLoader(test_dataset, batch_size=BATCH_SIZE, shuffle=False)\n",
    "\n",
    "trainSteps = len(train_loader.dataset) // BATCH_SIZE\n",
    "testSteps = len(test_loader.dataset) // BATCH_SIZE\n",
    "history = {\"train_loss\": [], \"test_loss\": []}\n",
    "metrics_history = {\"train_mae\": [], \"test_mae\": [], \"train_rmse\": [], \"test_rmse\": [], \"train_r2\": [], \"test_r2\": [], \"train_mse\": [], \"test_mse\": []}"
   ],
   "metadata": {
    "collapsed": false
   },
   "id": "e73f8f02549fd5f",
   "execution_count": null
  },
  {
   "cell_type": "code",
   "outputs": [],
   "source": [
    "class Net(nn.Module):\n",
    "    def __init__(self):\n",
    "        super(Net, self).__init__()\n",
    "        # self.fc1 = nn.Linear(1994, 512)\n",
    "        self.fc1 = nn.Linear(12, 512)\n",
    "        self.fc2 = nn.Linear(512, 256)\n",
    "        self.fc3 = nn.Linear(256, 128)\n",
    "        self.fc4 = nn.Linear(128, 1)\n",
    "        self.dropout = nn.Dropout(0.2)\n",
    "\n",
    "    def forward(self, x):\n",
    "        x = torch.relu(self.fc1(x))\n",
    "        x = torch.relu(self.fc2(x))\n",
    "        x = torch.relu(self.fc3(x))\n",
    "        x = self.dropout(x)\n",
    "        x = self.fc4(x)\n",
    "\n",
    "        return x\n",
    "\n",
    "\n",
    "model = Net().to(device)\n",
    "criterion = nn.MSELoss()\n",
    "optimizer = torch.optim.Adam(model.parameters(), lr=0.001)\n",
    "scheduler = ReduceLROnPlateau(optimizer, mode=\"min\", factor=0.5, min_lr=1e-9, patience=50)"
   ],
   "metadata": {
    "collapsed": false
   },
   "id": "9f08b56c03a79780",
   "execution_count": null
  },
  {
   "cell_type": "code",
   "outputs": [],
   "source": [
    "best_val_loss = float(\"inf\")\n",
    "for epoch in range(2000):\n",
    "    model.train()\n",
    "    train_loss = 0.0\n",
    "    all_train_predictions = []\n",
    "    all_train_ground_truths = []\n",
    "\n",
    "    for features, target in train_loader:\n",
    "        features = features.to(device)\n",
    "        target = target.to(device)\n",
    "        optimizer.zero_grad()\n",
    "        outputs = model(features)\n",
    "        loss = criterion(outputs, target.view(-1, 1))\n",
    "        loss.backward()\n",
    "        optimizer.step()\n",
    "        train_loss += loss.item() * features.size(0)\n",
    "        all_train_predictions.extend(outputs.cpu().detach().numpy())\n",
    "        all_train_ground_truths.extend(target.view(-1, 1).cpu().detach().numpy())\n",
    "\n",
    "    train_metrics = compute_metrics(all_train_predictions, all_train_ground_truths)\n",
    "    metrics_history[\"train_mae\"].append(train_metrics[\"MAE\"])\n",
    "    metrics_history[\"train_mse\"].append(train_metrics[\"MSE\"])\n",
    "    metrics_history[\"train_rmse\"].append(train_metrics[\"RMSE\"])\n",
    "    metrics_history[\"train_r2\"].append(train_metrics[\"R2\"])\n",
    "\n",
    "    # Validation loop (optional, but recommended)\n",
    "    model.eval()  # Set the model to evaluation mode\n",
    "    with torch.no_grad():\n",
    "        test_loss = 0.0\n",
    "        all_test_predictions = []\n",
    "        all_test_ground_truths = []\n",
    "        for features, target in test_loader:\n",
    "            features = features.to(device)\n",
    "            target = target.to(device)\n",
    "            outputs = model(features)\n",
    "            loss = criterion(outputs, target.view(-1, 1))  # Ensure 'target' is defined for test data\n",
    "            test_loss += loss.item() * features.size(0)\n",
    "            all_test_predictions.extend(outputs.cpu().detach().numpy())\n",
    "            all_test_ground_truths.extend(target.view(-1, 1).cpu().detach().numpy())\n",
    "\n",
    "        test_metrics = compute_metrics(all_test_predictions, all_test_ground_truths)\n",
    "        metrics_history[\"test_mae\"].append(test_metrics[\"MAE\"])\n",
    "        metrics_history[\"test_mse\"].append(test_metrics[\"MSE\"])\n",
    "        metrics_history[\"test_rmse\"].append(test_metrics[\"RMSE\"])\n",
    "        metrics_history[\"test_r2\"].append(test_metrics[\"R2\"])\n",
    "\n",
    "        train_loss /= len(train_loader.dataset)\n",
    "        test_loss /= len(test_loader.dataset)\n",
    "\n",
    "        history[\"test_loss\"].append(test_loss)\n",
    "        history[\"train_loss\"].append(train_loss)\n",
    "\n",
    "        scheduler.step(test_loss)\n",
    "        print(scheduler.get_last_lr())\n",
    "\n",
    "        print(f\"Epoch {epoch + 1}, Train Loss: {train_loss:.4f}, Test Loss: {test_loss:.4f}\")\n",
    "        print(\"Train Metrics: \", train_metrics)\n",
    "        print(\"Test Metrics: \", test_metrics)\n",
    "\n",
    "        if test_loss < best_val_loss:\n",
    "            best_val_loss = test_loss\n",
    "            torch.save(model.state_dict(), MULTIMODAL_NO_ENCODER_MODEL_PATH)\n",
    "            print(f\"Epoch {epoch + 1}: New best test loss: {best_val_loss}\")"
   ],
   "metadata": {
    "collapsed": false
   },
   "id": "d124ab7466498635",
   "execution_count": null
  },
  {
   "cell_type": "code",
   "outputs": [],
   "source": [
    "plot_loss_and_metrics(history, metrics_history, SLICE_START=20)\n",
    "print_metrics_table(metrics_history)"
   ],
   "metadata": {
    "collapsed": false
   },
   "id": "cd22f6c7f43518ce",
   "execution_count": null
  }
 ],
 "metadata": {
  "kernelspec": {
   "display_name": "Python 3",
   "language": "python",
   "name": "python3"
  },
  "language_info": {
   "codemirror_mode": {
    "name": "ipython",
    "version": 2
   },
   "file_extension": ".py",
   "mimetype": "text/x-python",
   "name": "python",
   "nbconvert_exporter": "python",
   "pygments_lexer": "ipython2",
   "version": "2.7.6"
  }
 },
 "nbformat": 4,
 "nbformat_minor": 5
}
