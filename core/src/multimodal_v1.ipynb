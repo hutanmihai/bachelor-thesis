{
 "cells": [
  {
   "cell_type": "code",
   "execution_count": null,
   "id": "initial_id",
   "metadata": {
    "collapsed": true
   },
   "outputs": [],
   "source": [
    "import pandas as pd\n",
    "import timm\n",
    "import torch\n",
    "from torch import nn\n",
    "from torch.optim.lr_scheduler import ReduceLROnPlateau\n",
    "from transformers import AutoTokenizer, AutoModelForMaskedLM\n",
    "\n",
    "from core.src.constants import IMAGES_PATH"
   ]
  },
  {
   "cell_type": "code",
   "outputs": [],
   "source": [
    "df_train = pd.read_csv(\"rocar_train.csv\", dtype={\"unique_id\": str})\n",
    "df_test = pd.read_csv(\"rocar_test.csv\", dtype={\"unique_id\": str})\n",
    "device = torch.device(\"cuda\" if torch.cuda.is_available() else \"cpu\")"
   ],
   "metadata": {
    "collapsed": false
   },
   "id": "b7407219149a1af1",
   "execution_count": null
  },
  {
   "cell_type": "code",
   "outputs": [],
   "source": [
    "df_train.head()"
   ],
   "metadata": {
    "collapsed": false
   },
   "id": "8e548c690917e714",
   "execution_count": null
  },
  {
   "cell_type": "code",
   "outputs": [],
   "source": [
    "df_train.info()"
   ],
   "metadata": {
    "collapsed": false
   },
   "id": "88d0d9f7632f97",
   "execution_count": null
  },
  {
   "cell_type": "code",
   "outputs": [],
   "source": [
    "fastvit_model = timm.create_model(\"fastvit_t8.apple_in1k\", pretrained=True, num_classes=0)\n",
    "fastvit_model.to(device)\n",
    "fastvit_model = fastvit_model.eval()\n",
    "\n",
    "# get model specific transforms (normalization, resize)\n",
    "data_config = timm.data.resolve_model_data_config(fastvit_model)\n",
    "transforms = timm.data.create_transform(**data_config, is_training=False)\n",
    "\n",
    "tokenizer = AutoTokenizer.from_pretrained(\"dumitrescustefan/bert-base-romanian-cased-v1\")\n",
    "# model = AutoModelForTextEncoding.from_pretrained(\"dumitrescustefan/bert-base-romanian-cased-v1\")\n",
    "bert_model = AutoModelForMaskedLM.from_pretrained(\"checkpoint-2250\")\n",
    "bert_model.config.output_hidden_states = True\n",
    "bert_model.to(device)\n",
    "\n",
    "torch.cuda.empty_cache()"
   ],
   "metadata": {
    "collapsed": false
   },
   "id": "a7926bbcf95234cb",
   "execution_count": null
  },
  {
   "cell_type": "code",
   "outputs": [],
   "source": [
    "import emoji\n",
    "import re\n",
    "\n",
    "\n",
    "def replace_patterns(text: str):\n",
    "    email_pattern = r\"\\b[A-Za-z0-9._%+-]+@[A-Za-z0-9.-]+\\.[A-Z|a-z]{2,}\\b\"\n",
    "    phone_pattern = r\"\\b\\d{3}[-.]?\\d{3}[-.]?\\d{4}\\b\"\n",
    "    html_pattern = r\"<.*?>\"\n",
    "    text = re.sub(email_pattern, \"[EMAIL]\", text)\n",
    "    text = re.sub(phone_pattern, \"[TEL]\", text)\n",
    "    text = re.sub(html_pattern, \"[HTML]\", text)\n",
    "    return text\n",
    "\n",
    "\n",
    "def replace_emojis(text: str):\n",
    "    return emoji.demojize(text, delimiters=(\"[\", \"]\"))\n",
    "\n",
    "\n",
    "def preprocess_text(text: str):\n",
    "    text = replace_patterns(text)\n",
    "    text = replace_emojis(text)\n",
    "    return text\n",
    "\n",
    "\n",
    "df_train[\"input\"] = df_train[\"input\"].apply(preprocess_text)\n",
    "df_test[\"input\"] = df_test[\"input\"].apply(preprocess_text)"
   ],
   "metadata": {
    "collapsed": false
   },
   "id": "dccde5b12fa8189f",
   "execution_count": null
  },
  {
   "cell_type": "code",
   "outputs": [],
   "source": [
    "train_encodings = tokenizer(df_train[\"input\"].tolist(), padding=True, truncation=True, max_length=512)\n",
    "test_encodings = tokenizer(df_train[\"input\"].tolist(), padding=True, truncation=True, max_length=512)"
   ],
   "metadata": {
    "collapsed": false
   },
   "id": "114396220fc498a8",
   "execution_count": null
  },
  {
   "cell_type": "code",
   "outputs": [],
   "source": [
    "from torch.utils.data import Dataset, DataLoader\n",
    "import pandas as pd\n",
    "from PIL import Image\n",
    "\n",
    "\n",
    "class MultimodalDataset(Dataset):\n",
    "    def __init__(self, df: pd.DataFrame, encodings):\n",
    "        self.df = df\n",
    "        self.encodings = encodings\n",
    "\n",
    "    def __len__(self):\n",
    "        return len(self.df)\n",
    "\n",
    "    def __getitem__(self, idx):\n",
    "        img_name = self.df.loc[idx, \"unique_id\"] + \"/00.png\"\n",
    "        image = Image.open(IMAGES_PATH / img_name).convert(\"RGB\")\n",
    "        image = transforms(image)\n",
    "\n",
    "        text = {key: torch.tensor(val[idx]) for key, val in self.encodings.items()}\n",
    "\n",
    "        STRUCTURED_COLUMNS = [\n",
    "            \"km\",\n",
    "            \"putere\",\n",
    "            \"capacitate cilindrica\",\n",
    "            \"anul producției\",\n",
    "            \"marca\",\n",
    "            \"model\",\n",
    "            \"combustibil\",\n",
    "            \"tip caroserie\",\n",
    "            \"firma\",\n",
    "            \"is_automatic\",\n",
    "        ]\n",
    "        structured_data = self.df.loc[idx, STRUCTURED_COLUMNS]\n",
    "        # structured_data = torch.tensor(structured_data.values, dtype=torch.float32)\n",
    "        for col in STRUCTURED_COLUMNS:\n",
    "            if structured_data[col].dtype == \"object\":\n",
    "                print(structured_data[col].unique())\n",
    "                structured_data[col] = structured_data[col].astype(\"category\").cat.codes\n",
    "\n",
    "        structured_data = torch.tensor(structured_data.values.astype(\"float32\"))\n",
    "\n",
    "        return image, text[\"input_ids\"], text[\"attention_mask\"], structured_data\n",
    "\n",
    "\n",
    "train_dataset = MultimodalDataset(df_train, train_encodings)\n",
    "test_dataset = MultimodalDataset(df_test, test_encodings)\n",
    "\n",
    "train_loader = DataLoader(train_dataset, batch_size=8, shuffle=True)\n",
    "test_loader = DataLoader(test_dataset, batch_size=8, shuffle=False)"
   ],
   "metadata": {
    "collapsed": false
   },
   "id": "e73f8f02549fd5f",
   "execution_count": null
  },
  {
   "cell_type": "code",
   "outputs": [],
   "source": [
    "for images, input_ids, attention_masks, structured_data in train_loader:\n",
    "    images = images.to(device)\n",
    "    input_ids = input_ids.to(device)\n",
    "    attention_masks = attention_masks.to(device)\n",
    "    structured_data = structured_data.to(device)\n",
    "\n",
    "    with torch.no_grad():\n",
    "        image_embeddings = fastvit_model(images)\n",
    "\n",
    "    with torch.no_grad():\n",
    "        outputs = bert_model(input_ids=input_ids, attention_mask=attention_masks)\n",
    "        text_embeddings = outputs.hidden_states[-1]\n",
    "        mean_text_embeddings = text_embeddings.mean(dim=1)\n",
    "\n",
    "    # Combine embeddings\n",
    "    combined_features = torch.cat([image_embeddings, mean_text_embeddings, structured_data], dim=1)\n",
    "\n",
    "    print(combined_features.shape)"
   ],
   "metadata": {
    "collapsed": false
   },
   "id": "d124ab7466498635",
   "execution_count": null
  }
 ],
 "metadata": {
  "kernelspec": {
   "display_name": "Python 3",
   "language": "python",
   "name": "python3"
  },
  "language_info": {
   "codemirror_mode": {
    "name": "ipython",
    "version": 2
   },
   "file_extension": ".py",
   "mimetype": "text/x-python",
   "name": "python",
   "nbconvert_exporter": "python",
   "pygments_lexer": "ipython2",
   "version": "2.7.6"
  }
 },
 "nbformat": 4,
 "nbformat_minor": 5
}
