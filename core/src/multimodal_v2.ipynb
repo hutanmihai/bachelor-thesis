{
 "cells": [
  {
   "cell_type": "code",
   "execution_count": null,
   "id": "initial_id",
   "metadata": {
    "collapsed": true
   },
   "outputs": [],
   "source": [
    "import torch\n",
    "from torch import nn\n",
    "from torch.optim.lr_scheduler import ReduceLROnPlateau\n",
    "import numpy as np\n",
    "from torch.utils.data import Dataset, DataLoader\n",
    "import pandas as pd"
   ]
  },
  {
   "cell_type": "code",
   "outputs": [],
   "source": [
    "df_train = pd.read_csv(\"rocar_train.csv\", dtype={\"unique_id\": str})\n",
    "df_test = pd.read_csv(\"rocar_test.csv\", dtype={\"unique_id\": str})\n",
    "device = torch.device(\"cuda\" if torch.cuda.is_available() else \"cpu\")"
   ],
   "metadata": {
    "collapsed": false
   },
   "id": "b7407219149a1af1",
   "execution_count": null
  },
  {
   "cell_type": "code",
   "outputs": [],
   "source": [
    "df_train.head()"
   ],
   "metadata": {
    "collapsed": false
   },
   "id": "8e548c690917e714",
   "execution_count": null
  },
  {
   "cell_type": "code",
   "outputs": [],
   "source": [
    "df_train.info()"
   ],
   "metadata": {
    "collapsed": false
   },
   "id": "88d0d9f7632f97",
   "execution_count": null
  },
  {
   "cell_type": "code",
   "outputs": [],
   "source": [
    "STRUCTURED_COLUMNS = [\n",
    "    \"km\",\n",
    "    \"putere\",\n",
    "    \"capacitate cilindrica\",\n",
    "    \"anul producției\",\n",
    "    \"marca\",\n",
    "    \"model\",\n",
    "    \"combustibil\",\n",
    "    \"tip caroserie\",\n",
    "    \"firma\",\n",
    "    \"is_automatic\",\n",
    "]\n",
    "\n",
    "train_structured_data = df_train[STRUCTURED_COLUMNS].to_numpy()\n",
    "test_structured_data = df_test[STRUCTURED_COLUMNS].to_numpy()\n",
    "\n",
    "train_targets = df_train[\"price\"].to_numpy()\n",
    "test_targets = df_test[\"price\"].to_numpy()\n",
    "\n",
    "train_structured_data.shape, test_structured_data.shape, train_targets.shape, test_targets.shape"
   ],
   "metadata": {
    "collapsed": false
   },
   "id": "1b67179579d4821b",
   "execution_count": null
  },
  {
   "cell_type": "code",
   "outputs": [],
   "source": [
    "train_image_features = np.load(\"train_image_features.npy\")\n",
    "test_image_features = np.load(\"test_image_features.npy\")\n",
    "\n",
    "train_text_features = np.load(\"train_text_features.npy\")\n",
    "test_text_features = np.load(\"test_text_features.npy\")\n",
    "\n",
    "len(train_image_features), len(train_text_features), len(test_image_features), len(test_text_features)"
   ],
   "metadata": {
    "collapsed": false
   },
   "id": "482ea801c8c19bc1",
   "execution_count": null
  },
  {
   "cell_type": "code",
   "outputs": [],
   "source": [
    "class MultimodalDataset(Dataset):\n",
    "    def __init__(self, image_features, text_features, structured_data, targets):\n",
    "        self.image_features = image_features\n",
    "        self.text_features = text_features\n",
    "        self.structured_data = structured_data\n",
    "        self.targets = targets\n",
    "\n",
    "    def __len__(self):\n",
    "        return len(self.targets)\n",
    "\n",
    "    def __getitem__(self, idx):\n",
    "        # Use the entire sequence representation\n",
    "        # image = torch.tensor(self.image_features[idx], dtype=torch.float32)\n",
    "        # text = torch.tensor(self.text_features[idx], dtype=torch.float32)\n",
    "\n",
    "        # Use only the [CLS] token representation\n",
    "        image = torch.tensor([self.image_features[idx][0]], dtype=torch.float32)\n",
    "        text = torch.tensor([self.text_features[idx][0]], dtype=torch.float32)\n",
    "\n",
    "        structured = torch.tensor(self.structured_data[idx], dtype=torch.float32)\n",
    "        target = torch.tensor(self.targets[idx], dtype=torch.float32)\n",
    "\n",
    "        features = torch.cat([image, text, structured])\n",
    "\n",
    "        return features, target\n",
    "\n",
    "\n",
    "train_dataset = MultimodalDataset(train_image_features, train_text_features, train_structured_data, train_targets)\n",
    "test_dataset = MultimodalDataset(test_image_features, test_text_features, test_structured_data, test_targets)\n",
    "\n",
    "train_loader = DataLoader(train_dataset, batch_size=8, shuffle=True)\n",
    "test_loader = DataLoader(test_dataset, batch_size=8, shuffle=False)\n",
    "\n",
    "trainSteps = len(train_loader.dataset) // 8\n",
    "testSteps = len(test_loader.dataset) // 8\n",
    "history = {\"train_loss\": [], \"test_loss\": []}"
   ],
   "metadata": {
    "collapsed": false
   },
   "id": "e73f8f02549fd5f",
   "execution_count": null
  },
  {
   "cell_type": "code",
   "outputs": [],
   "source": [
    "class Net(nn.Module):\n",
    "    def __init__(self):\n",
    "        super(Net, self).__init__()\n",
    "        # Use only the [CLS] token representation\n",
    "        # self.fc1 = nn.Linear(12, 64)\n",
    "        # self.fc2 = nn.Linear(512, 256)\n",
    "        # self.fc3 = nn.Linear(256, 1)\n",
    "\n",
    "        # Try different architectures\n",
    "        self.fc1 = nn.Linear(12, 512)\n",
    "        self.fc2 = nn.Linear(512, 256)\n",
    "        self.fc3 = nn.Linear(256, 1)\n",
    "\n",
    "        # Use the entire sequence representation\n",
    "        # self.fc1 = nn.Linear(1546, 512)\n",
    "        # self.fc2 = nn.Linear(512, 256)\n",
    "        # self.fc3 = nn.Linear(256, 1)\n",
    "\n",
    "    def forward(self, x):\n",
    "        x = torch.relu(self.fc1(x))\n",
    "        x = torch.relu(self.fc2(x))\n",
    "        x = self.fc3(x)\n",
    "        return x\n",
    "\n",
    "\n",
    "model = Net().to(device)\n",
    "criterion = nn.L1Loss()\n",
    "optimizer = torch.optim.Adam(model.parameters(), lr=0.001)\n",
    "scheduler = ReduceLROnPlateau(optimizer, mode=\"min\", factor=0.5, min_lr=1e-9, patience=5)"
   ],
   "metadata": {
    "collapsed": false
   },
   "id": "9f08b56c03a79780",
   "execution_count": null
  },
  {
   "cell_type": "code",
   "outputs": [],
   "source": [
    "for epoch in range(200):\n",
    "    model.train()\n",
    "    running_loss = 0.0\n",
    "\n",
    "    for features, target in train_loader:\n",
    "        features = features.to(device)\n",
    "        target = target.to(device)\n",
    "        optimizer.zero_grad()\n",
    "        outputs = model(features)\n",
    "        loss = criterion(outputs, target.view(-1, 1))\n",
    "        loss.backward()\n",
    "        optimizer.step()\n",
    "\n",
    "        running_loss += loss.item() * features.size(0)\n",
    "\n",
    "    epoch_loss = running_loss / len(train_loader.dataset)\n",
    "    history[\"train_loss\"].append(epoch_loss)\n",
    "    print(f\"Epoch {epoch + 1} Train Loss: {epoch_loss:.4f}\")\n",
    "\n",
    "    # Adjust learning rate based on the epoch loss\n",
    "    scheduler.step(epoch_loss)\n",
    "\n",
    "    # Validation loop (optional, but recommended)\n",
    "    model.eval()  # Set the model to evaluation mode\n",
    "    with torch.no_grad():\n",
    "        valid_loss = 0.0\n",
    "        for features, target in test_loader:\n",
    "            features = features.to(device)\n",
    "            target = target.to(device)\n",
    "            outputs = model(features)\n",
    "            loss = criterion(outputs, target.view(-1, 1))  # Ensure 'target' is defined for test data\n",
    "\n",
    "            valid_loss += loss.item() * features.size(0)\n",
    "\n",
    "        valid_loss /= len(test_loader.dataset)\n",
    "        history[\"test_loss\"].append(valid_loss)\n",
    "        print(f\"Epoch {epoch + 1} Validation Loss: {valid_loss:.4f}\")"
   ],
   "metadata": {
    "collapsed": false
   },
   "id": "d124ab7466498635",
   "execution_count": null
  },
  {
   "cell_type": "code",
   "outputs": [],
   "source": [
    "import matplotlib.pyplot as plt\n",
    "\n",
    "plt.plot(history[\"train_loss\"], label=\"train loss\")\n",
    "plt.plot(history[\"test_loss\"], label=\"test loss\")\n",
    "plt.xlabel(\"Epoch\")\n",
    "plt.ylabel(\"Loss\")\n",
    "plt.legend()\n",
    "plt.show()"
   ],
   "metadata": {
    "collapsed": false
   },
   "id": "cd22f6c7f43518ce",
   "execution_count": null
  }
 ],
 "metadata": {
  "kernelspec": {
   "display_name": "Python 3",
   "language": "python",
   "name": "python3"
  },
  "language_info": {
   "codemirror_mode": {
    "name": "ipython",
    "version": 2
   },
   "file_extension": ".py",
   "mimetype": "text/x-python",
   "name": "python",
   "nbconvert_exporter": "python",
   "pygments_lexer": "ipython2",
   "version": "2.7.6"
  }
 },
 "nbformat": 4,
 "nbformat_minor": 5
}
