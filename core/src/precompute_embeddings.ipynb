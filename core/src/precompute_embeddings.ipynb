{
 "cells": [
  {
   "cell_type": "code",
   "execution_count": null,
   "id": "initial_id",
   "metadata": {
    "collapsed": true
   },
   "outputs": [],
   "source": [
    "import pandas as pd\n",
    "import timm\n",
    "import torch\n",
    "from PIL import Image\n",
    "from tqdm import tqdm\n",
    "from transformers import AutoTokenizer, AutoModelForMaskedLM\n",
    "import numpy as np\n",
    "\n",
    "from core.src.constants import (\n",
    "    IMAGES_PATH,\n",
    "    TRAIN_DATA_CSV,\n",
    "    TEST_DATA_CSV,\n",
    "    TRAIN_IMAGE_FEATURES_PATH,\n",
    "    TEST_IMAGE_FEATURES_PATH,\n",
    "    TRAIN_TEXT_FEATURES_PATH,\n",
    "    TEST_TEXT_FEATURES_PATH,\n",
    "    FINE_TUNED_BERT_MODEL_PATH,\n",
    ")"
   ]
  },
  {
   "cell_type": "code",
   "outputs": [],
   "source": [
    "df_train = pd.read_csv(TRAIN_DATA_CSV, dtype={\"unique_id\": str})\n",
    "df_test = pd.read_csv(TEST_DATA_CSV, dtype={\"unique_id\": str})\n",
    "device = torch.device(\"cuda\" if torch.cuda.is_available() else \"cpu\")"
   ],
   "metadata": {
    "collapsed": false
   },
   "id": "be563d2eb02acdab",
   "execution_count": null
  },
  {
   "cell_type": "markdown",
   "source": [
    "# MODELS"
   ],
   "metadata": {
    "collapsed": false
   },
   "id": "b23b831d8aadf029"
  },
  {
   "cell_type": "code",
   "outputs": [],
   "source": [
    "fastvit_model = timm.create_model(\"fastvit_ma36.apple_in1k\", pretrained=True, num_classes=0)\n",
    "fastvit_model.to(device)\n",
    "fastvit_model = fastvit_model.eval()\n",
    "\n",
    "data_config = timm.data.resolve_model_data_config(fastvit_model)\n",
    "transforms = timm.data.create_transform(**data_config, is_training=False)\n",
    "\n",
    "tokenizer = AutoTokenizer.from_pretrained(\"dumitrescustefan/bert-base-romanian-cased-v1\")\n",
    "bert_model = AutoModelForMaskedLM.from_pretrained(FINE_TUNED_BERT_MODEL_PATH)\n",
    "bert_model.config.output_hidden_states = True\n",
    "bert_model.to(device)\n",
    "\n",
    "torch.cuda.empty_cache()"
   ],
   "metadata": {
    "collapsed": false
   },
   "id": "aec037c79868b90c",
   "execution_count": null
  },
  {
   "cell_type": "markdown",
   "source": [
    "## Prepare images"
   ],
   "metadata": {
    "collapsed": false
   },
   "id": "10ee6274722d7c36"
  },
  {
   "cell_type": "code",
   "outputs": [],
   "source": [
    "train_images = df_train[\"unique_id\"].values\n",
    "train_images = [IMAGES_PATH / path / \"00.png\" for path in train_images]\n",
    "\n",
    "test_images = df_test[\"unique_id\"].values\n",
    "test_images = [IMAGES_PATH / path / \"00.png\" for path in test_images]"
   ],
   "metadata": {
    "collapsed": false
   },
   "id": "c6cd211e7c57449b",
   "execution_count": null
  },
  {
   "cell_type": "code",
   "outputs": [],
   "source": [
    "train_encodings = tokenizer(df_train[\"input\"].tolist(), padding=True, truncation=True, max_length=512)\n",
    "test_encodings = tokenizer(df_test[\"input\"].tolist(), padding=True, truncation=True, max_length=512)"
   ],
   "metadata": {
    "collapsed": false
   },
   "id": "6f3cb62d61858e11",
   "execution_count": null
  },
  {
   "cell_type": "code",
   "outputs": [],
   "source": [
    "def compute_image_features(images, model, transforms):\n",
    "    fastvit_model.eval()\n",
    "    features = []\n",
    "    for i in tqdm(range(0, len(images), 8)):\n",
    "        batch = images[i : i + 8]\n",
    "        batch = [Image.open(image) for image in batch]\n",
    "        inputs = [transforms(image) for image in batch]\n",
    "        inputs = torch.stack(inputs).to(device)\n",
    "        with torch.no_grad():\n",
    "            outputs = model(inputs)\n",
    "            features.append(outputs.cpu())\n",
    "    features = torch.cat(features, dim=0)\n",
    "    features_numpy = features.numpy()\n",
    "    print(features_numpy.shape)\n",
    "    return features_numpy\n",
    "\n",
    "\n",
    "def compute_text_features(encodings, model):\n",
    "    features = []\n",
    "    for i in tqdm(range(0, len(encodings[\"input_ids\"]), 8)):\n",
    "        input_ids = torch.tensor(encodings[\"input_ids\"][i : i + 8]).to(device)\n",
    "        attention_mask = torch.tensor(encodings[\"attention_mask\"][i : i + 8]).to(device)\n",
    "        with torch.no_grad():\n",
    "            outputs = model(input_ids, attention_mask=attention_mask)\n",
    "            features.append(outputs.hidden_states[-1].mean(dim=1).cpu())\n",
    "    features = torch.cat(features, dim=0)\n",
    "    features_numpy = features.numpy()\n",
    "    print(features_numpy.shape)\n",
    "    return features_numpy"
   ],
   "metadata": {
    "collapsed": false
   },
   "id": "a1714595964625e",
   "execution_count": null
  },
  {
   "cell_type": "code",
   "outputs": [],
   "source": [
    "train_images_features = compute_image_features(train_images, fastvit_model, transforms)\n",
    "np.save(TRAIN_IMAGE_FEATURES_PATH, train_images_features)\n",
    "\n",
    "test_image_features = compute_image_features(test_images, fastvit_model, transforms)\n",
    "np.save(TEST_IMAGE_FEATURES_PATH, test_image_features)"
   ],
   "metadata": {
    "collapsed": false
   },
   "id": "1918a436f1f8052f",
   "execution_count": null
  },
  {
   "cell_type": "code",
   "outputs": [],
   "source": [
    "train_text_features = compute_text_features(train_encodings, bert_model)\n",
    "np.save(TRAIN_TEXT_FEATURES_PATH, train_text_features)\n",
    "\n",
    "test_text_features = compute_text_features(test_encodings, bert_model)\n",
    "np.save(TEST_TEXT_FEATURES_PATH, test_text_features)"
   ],
   "metadata": {
    "collapsed": false
   },
   "id": "b4f442433da826",
   "execution_count": null
  }
 ],
 "metadata": {
  "kernelspec": {
   "display_name": "Python 3",
   "language": "python",
   "name": "python3"
  },
  "language_info": {
   "codemirror_mode": {
    "name": "ipython",
    "version": 2
   },
   "file_extension": ".py",
   "mimetype": "text/x-python",
   "name": "python",
   "nbconvert_exporter": "python",
   "pygments_lexer": "ipython2",
   "version": "2.7.6"
  }
 },
 "nbformat": 4,
 "nbformat_minor": 5
}
