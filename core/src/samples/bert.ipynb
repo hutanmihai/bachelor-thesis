{
 "cells": [
  {
   "cell_type": "code",
   "execution_count": null,
   "id": "initial_id",
   "metadata": {
    "collapsed": true
   },
   "outputs": [],
   "source": [
    "import pandas as pd\n",
    "import torch\n",
    "from torch.utils.data import Dataset\n",
    "from transformers import AutoTokenizer, AutoModel, TrainingArguments, Trainer, AutoModelForPreTraining, AutoModelForMaskedLM, AutoModelForTextEncoding\n",
    "from ..constants import ROCAR_CSV, FINE_TUNED_BERT_MODEL_PATH\n",
    "from ..utils.format import preprocess_text"
   ]
  },
  {
   "cell_type": "code",
   "outputs": [],
   "source": [
    "df = pd.read_csv(\"../\" / ROCAR_CSV)\n",
    "\n",
    "df[\"input\"] = df[\"input\"].apply(preprocess_text)"
   ],
   "metadata": {
    "collapsed": false
   },
   "id": "54e15c3b08ab9c05",
   "execution_count": null
  },
  {
   "cell_type": "code",
   "outputs": [],
   "source": [
    "# Stefan Dumitrescu, Andrei-Marius Avram, and Sampo Pyysalo. 2020. The birth of Romanian BERT. In Findings of the Association for Computational Linguistics: EMNLP 2020, pages 4324–4328, Online. Association for Computational Linguistics.\n",
    "# https://huggingface.co/dumitrescustefan/bert-base-romanian-cased-v1\n",
    "tokenizer = AutoTokenizer.from_pretrained(\"dumitrescustefan/bert-base-romanian-cased-v1\")\n",
    "model = AutoModelForMaskedLM.from_pretrained(\"../\" / FINE_TUNED_BERT_MODEL_PATH)\n",
    "model.config.output_hidden_states = True\n",
    "\n",
    "torch.cuda.empty_cache()\n",
    "\n",
    "model"
   ],
   "metadata": {
    "collapsed": false
   },
   "id": "71db61e4d58a7d4a",
   "execution_count": null
  },
  {
   "cell_type": "code",
   "outputs": [],
   "source": [
    "class TextDataset(Dataset):\n",
    "    def __init__(self, encodings):\n",
    "        self.encodings = encodings\n",
    "\n",
    "    def __getitem__(self, idx):\n",
    "        item = {key: torch.tensor(val[idx]) for key, val in self.encodings.items()}\n",
    "        return item\n",
    "\n",
    "    def __len__(self):\n",
    "        return len(self.encodings.input_ids)\n",
    "\n",
    "\n",
    "encodings = tokenizer(df[\"input\"].tolist(), max_length=512, padding=True, truncation=True)"
   ],
   "metadata": {
    "collapsed": false
   },
   "id": "b6829b6e9393d722",
   "execution_count": null
  },
  {
   "cell_type": "code",
   "outputs": [],
   "source": [
    "from torch.utils.data import DataLoader\n",
    "\n",
    "\n",
    "def encode_texts(model, batch_size=8):\n",
    "    dataset = TextDataset(encodings)\n",
    "    dataloader = DataLoader(dataset, batch_size=batch_size)\n",
    "    embeddings = []\n",
    "    model.eval()\n",
    "    with torch.no_grad():\n",
    "        for batch in dataloader:\n",
    "            input_ids = batch[\"input_ids\"]\n",
    "            attention_mask = batch[\"attention_mask\"]\n",
    "            outputs = model(input_ids, attention_mask=attention_mask)\n",
    "            embeddings.append(outputs.hidden_states[-1])\n",
    "    embeddings = torch.cat(embeddings)\n",
    "    return embeddings"
   ],
   "metadata": {
    "collapsed": false
   },
   "id": "6bbe18f8fb820afa",
   "execution_count": null
  },
  {
   "cell_type": "code",
   "outputs": [],
   "source": [
    "embeddings = encode_texts(df[\"input\"].tolist(), tokenizer, model)\n",
    "\n",
    "embeddings.shape"
   ],
   "metadata": {
    "collapsed": false
   },
   "id": "a9a43fd098a7257c",
   "execution_count": null
  }
 ],
 "metadata": {
  "kernelspec": {
   "display_name": "Python 3",
   "language": "python",
   "name": "python3"
  },
  "language_info": {
   "codemirror_mode": {
    "name": "ipython",
    "version": 2
   },
   "file_extension": ".py",
   "mimetype": "text/x-python",
   "name": "python",
   "nbconvert_exporter": "python",
   "pygments_lexer": "ipython2",
   "version": "2.7.6"
  }
 },
 "nbformat": 4,
 "nbformat_minor": 5
}
