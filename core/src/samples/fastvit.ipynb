{
 "cells": [
  {
   "cell_type": "code",
   "outputs": [],
   "source": [
    "from core.src.constants import IMAGES_PATH\n",
    "from PIL import Image\n",
    "import timm\n",
    "\n",
    "example_image = \"../\" / IMAGES_PATH / \"000000\" / \"00.png\"\n",
    "img = Image.open(example_image)\n",
    "\n",
    "model = timm.create_model(\"fastvit_t8.apple_in1k\", pretrained=True, num_classes=0)\n",
    "\n",
    "model = model.eval()\n",
    "\n",
    "# get model specific transforms (normalization, resize)\n",
    "data_config = timm.data.resolve_model_data_config(model)\n",
    "transforms = timm.data.create_transform(**data_config, is_training=False)\n",
    "\n",
    "output = model(transforms(img).unsqueeze(0))  # unsqueeze single image into batch of 1\n",
    "\n",
    "print(output.shape)"
   ],
   "metadata": {
    "collapsed": false
   },
   "id": "e3a6dd38a10a4d99",
   "execution_count": null
  }
 ],
 "metadata": {
  "kernelspec": {
   "display_name": "Python 3",
   "language": "python",
   "name": "python3"
  },
  "language_info": {
   "codemirror_mode": {
    "name": "ipython",
    "version": 2
   },
   "file_extension": ".py",
   "mimetype": "text/x-python",
   "name": "python",
   "nbconvert_exporter": "python",
   "pygments_lexer": "ipython2",
   "version": "2.7.6"
  }
 },
 "nbformat": 4,
 "nbformat_minor": 5
}
