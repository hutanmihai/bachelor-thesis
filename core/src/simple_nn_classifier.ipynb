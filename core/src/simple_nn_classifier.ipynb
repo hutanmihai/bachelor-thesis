{
 "cells": [
  {
   "cell_type": "code",
   "execution_count": 12,
   "id": "initial_id",
   "metadata": {
    "collapsed": true,
    "ExecuteTime": {
     "end_time": "2024-04-16T14:26:11.328674Z",
     "start_time": "2024-04-16T14:26:11.324766Z"
    }
   },
   "outputs": [],
   "source": [
    "import pandas as pd\n",
    "import torch\n",
    "from torch import nn\n",
    "from torch.optim.lr_scheduler import ReduceLROnPlateau\n",
    "from torch.utils.data import Dataset, DataLoader\n",
    "\n",
    "from utils.decorators import show_elapsed_time\n",
    "from utils.decorators import send_notification"
   ]
  },
  {
   "cell_type": "code",
   "outputs": [],
   "source": [
    "df_train = pd.read_csv(\"rocar_train.csv\")\n",
    "df_test = pd.read_csv(\"rocar_test.csv\")"
   ],
   "metadata": {
    "collapsed": false,
    "ExecuteTime": {
     "end_time": "2024-04-16T14:26:11.577836Z",
     "start_time": "2024-04-16T14:26:11.533256Z"
    }
   },
   "id": "9dcdc38040aa9468",
   "execution_count": 13
  },
  {
   "cell_type": "code",
   "outputs": [
    {
     "name": "stdout",
     "output_type": "stream",
     "text": [
      "Train shape: (23998, 12)\n",
      "Test shape: (6000, 12)\n"
     ]
    }
   ],
   "source": [
    "print(f\"Train shape: {df_train.shape}\")\n",
    "print(f\"Test shape: {df_test.shape}\")"
   ],
   "metadata": {
    "collapsed": false,
    "ExecuteTime": {
     "end_time": "2024-04-16T14:26:11.762128Z",
     "start_time": "2024-04-16T14:26:11.760027Z"
    }
   },
   "id": "2305173d6ce58067",
   "execution_count": 14
  },
  {
   "cell_type": "markdown",
   "source": [
    "# CONSTANTS"
   ],
   "metadata": {
    "collapsed": false
   },
   "id": "db52e207b9f3ef2c"
  },
  {
   "cell_type": "code",
   "outputs": [],
   "source": [
    "BATCH_SIZE = 32\n",
    "DEVICE = torch.device(\"cuda\" if torch.cuda.is_available() else \"cpu\")"
   ],
   "metadata": {
    "collapsed": false,
    "ExecuteTime": {
     "end_time": "2024-04-16T14:26:14.085769Z",
     "start_time": "2024-04-16T14:26:14.082515Z"
    }
   },
   "id": "98f2f0f7575954e4",
   "execution_count": 15
  },
  {
   "cell_type": "code",
   "outputs": [],
   "source": [
    "class CarDataset(Dataset):\n",
    "    def __init__(self, features, labels):\n",
    "        self.features = torch.tensor(features.values, dtype=torch.float32)\n",
    "        self.labels = torch.tensor(labels.values, dtype=torch.float32)\n",
    "\n",
    "        print(f\"Features shape: {self.features.shape}\")\n",
    "        print(f\"Labels shape: {self.labels.shape}\")\n",
    "\n",
    "    def __len__(self):\n",
    "        return len(self.features)\n",
    "\n",
    "    def __getitem__(self, idx):\n",
    "        return self.features[idx], self.labels[idx]"
   ],
   "metadata": {
    "collapsed": false,
    "ExecuteTime": {
     "end_time": "2024-04-16T14:26:21.139948Z",
     "start_time": "2024-04-16T14:26:21.135712Z"
    }
   },
   "id": "fd9451df3d46c7d7",
   "execution_count": 16
  },
  {
   "cell_type": "code",
   "outputs": [
    {
     "name": "stdout",
     "output_type": "stream",
     "text": [
      "[0, 5000, 10000, 15000, 20000, 25000, 30000, 35000, 40000, 45000, 50000, 55000, 60000]\n"
     ]
    }
   ],
   "source": [
    "from sklearn.preprocessing import LabelEncoder\n",
    "\n",
    "# Initialize the encoder\n",
    "encoder = LabelEncoder()\n",
    "\n",
    "bins = [i * 5000 for i in range(0, 13)]\n",
    "print(bins)\n",
    "\n",
    "df_train[\"price\"] = pd.cut(df_train[\"price\"], bins=bins, labels=[i for i in range(12)])\n",
    "df_train[\"price\"] = encoder.fit_transform(df_train[\"price\"])\n",
    "\n",
    "df_test[\"price\"] = pd.cut(df_test[\"price\"], bins=bins, labels=[i for i in range(12)])\n",
    "df_test[\"price\"] = encoder.transform(df_test[\"price\"])\n",
    "\n",
    "# print(df_train[\"price\"].value_counts(normalize=True))\n",
    "# print(df_test[\"price\"].value_counts(normalize=True))"
   ],
   "metadata": {
    "collapsed": false,
    "ExecuteTime": {
     "end_time": "2024-04-16T14:26:32.083625Z",
     "start_time": "2024-04-16T14:26:32.077725Z"
    }
   },
   "id": "2d4eca0cc5d134e3",
   "execution_count": 18
  },
  {
   "cell_type": "code",
   "outputs": [
    {
     "name": "stdout",
     "output_type": "stream",
     "text": [
      "Features shape: torch.Size([23998, 11])\n",
      "Labels shape: torch.Size([23998])\n",
      "Features shape: torch.Size([6000, 11])\n",
      "Labels shape: torch.Size([6000])\n",
      "Train dataset length: 23998\n",
      "Test dataset length: 6000\n"
     ]
    }
   ],
   "source": [
    "train_dataset = CarDataset(df_train.drop(columns=\"price\"), df_train[\"price\"])\n",
    "test_dataset = CarDataset(df_test.drop(columns=\"price\"), df_test[\"price\"])\n",
    "\n",
    "print(f\"Train dataset length: {len(train_dataset)}\")\n",
    "print(f\"Test dataset length: {len(test_dataset)}\")\n",
    "\n",
    "train_loader = DataLoader(train_dataset, batch_size=BATCH_SIZE, shuffle=True)\n",
    "test_loader = DataLoader(test_dataset, batch_size=BATCH_SIZE, shuffle=False)"
   ],
   "metadata": {
    "collapsed": false,
    "ExecuteTime": {
     "end_time": "2024-04-16T14:26:35.147570Z",
     "start_time": "2024-04-16T14:26:35.142329Z"
    }
   },
   "id": "bd4e6230645a255a",
   "execution_count": 19
  },
  {
   "cell_type": "code",
   "outputs": [],
   "source": [
    "class Net(nn.Module):\n",
    "    def __init__(self):\n",
    "        super(Net, self).__init__()\n",
    "        self.fc1 = nn.Linear(11, 128)\n",
    "        self.fc2 = nn.Linear(128, 256)\n",
    "        self.fc3 = nn.Linear(256, 20)\n",
    "        self.softmax = nn.Softmax(dim=1)\n",
    "\n",
    "    def forward(self, x):\n",
    "        x = torch.relu(self.fc1(x))\n",
    "        x = torch.relu(self.fc2(x))\n",
    "        x = self.fc3(x)\n",
    "        x = self.softmax(x)\n",
    "        return x"
   ],
   "metadata": {
    "collapsed": false,
    "ExecuteTime": {
     "end_time": "2024-04-16T14:26:36.928345Z",
     "start_time": "2024-04-16T14:26:36.925858Z"
    }
   },
   "id": "8ea3d4832a7ee0b3",
   "execution_count": 20
  },
  {
   "cell_type": "code",
   "outputs": [],
   "source": [
    "model = Net().to(DEVICE)\n",
    "criterion = nn.CrossEntropyLoss()\n",
    "optimizer = torch.optim.Adam(model.parameters(), lr=0.0001)\n",
    "scheduler = ReduceLROnPlateau(optimizer, mode=\"min\", factor=0.1, patience=5)\n",
    "\n",
    "trainSteps = len(train_loader.dataset) // BATCH_SIZE\n",
    "testSteps = len(test_loader.dataset) // BATCH_SIZE\n",
    "history = {\"train_loss\": [], \"test_loss\": [], \"train_accuracy\": [], \"test_accuracy\": []}"
   ],
   "metadata": {
    "collapsed": false,
    "ExecuteTime": {
     "end_time": "2024-04-16T14:26:37.215533Z",
     "start_time": "2024-04-16T14:26:37.212020Z"
    }
   },
   "id": "deafffccfbe1c17b",
   "execution_count": 21
  },
  {
   "cell_type": "code",
   "outputs": [],
   "source": [
    "@show_elapsed_time\n",
    "@send_notification\n",
    "def train(num_epochs: int = 100):\n",
    "    best_val_loss = float(\"inf\")\n",
    "    for epoch in range(num_epochs):\n",
    "        model.train()\n",
    "        train_loss = 0.0\n",
    "        train_correct = 0\n",
    "        for i, (features, labels) in enumerate(train_loader):\n",
    "            features, labels = features.to(DEVICE), labels.to(DEVICE)\n",
    "            labels = labels.long()\n",
    "            optimizer.zero_grad()\n",
    "            outputs = model(features)\n",
    "            loss = criterion(outputs, labels)\n",
    "            loss.backward()\n",
    "            optimizer.step()\n",
    "            train_loss += loss.item()\n",
    "            pred = torch.argmax(outputs, dim=1)\n",
    "            train_correct += (pred == labels).sum().item()\n",
    "\n",
    "        model.eval()\n",
    "        test_loss = 0.0\n",
    "        test_correct = 0\n",
    "        with torch.no_grad():\n",
    "            for i, (features, labels) in enumerate(test_loader):\n",
    "                features, labels = features.to(DEVICE), labels.to(DEVICE)\n",
    "                labels = labels.long()\n",
    "                outputs = model(features)\n",
    "                loss = criterion(outputs, labels)\n",
    "                test_loss += loss.item()\n",
    "                pred = torch.argmax(outputs, dim=1)\n",
    "                test_correct += (pred == labels).sum().item()\n",
    "\n",
    "        train_loss /= trainSteps\n",
    "        test_loss /= testSteps\n",
    "\n",
    "        train_accuracy = train_correct / len(train_loader.dataset)\n",
    "        test_accuracy = test_correct / len(test_loader.dataset)\n",
    "\n",
    "        history[\"train_loss\"].append(train_loss)\n",
    "        history[\"test_loss\"].append(test_loss)\n",
    "        history[\"train_accuracy\"].append(train_accuracy)\n",
    "        history[\"test_accuracy\"].append(test_accuracy)\n",
    "\n",
    "        if test_loss < best_val_loss:\n",
    "            best_val_loss = test_loss\n",
    "        torch.save(model.state_dict(), \"best_model.pth\")\n",
    "        print(f\"Epoch {epoch}: New best test loss: {best_val_loss}\")\n",
    "\n",
    "        print(\n",
    "            f\"Epoch {epoch + 1}/{num_epochs}, Train Loss: {train_loss:.4f}, Test Loss: {test_loss:.4f}, Train Accuracy: {train_accuracy:.4f}, Test Accuracy: {test_accuracy:.4f}\"\n",
    "        )\n",
    "\n",
    "        scheduler.step(test_loss)"
   ],
   "metadata": {
    "collapsed": false,
    "ExecuteTime": {
     "end_time": "2024-04-16T14:26:37.596235Z",
     "start_time": "2024-04-16T14:26:37.592119Z"
    }
   },
   "id": "e12756a7536b7551",
   "execution_count": 22
  },
  {
   "cell_type": "code",
   "outputs": [
    {
     "name": "stdout",
     "output_type": "stream",
     "text": [
      "Epoch 0: New best test loss: 2.682715850717881\n",
      "Epoch 1/100, Train Loss: 2.7773, Test Loss: 2.6827, Train Accuracy: 0.3498, Test Accuracy: 0.4493\n",
      "Epoch 1: New best test loss: 2.6357284114960042\n",
      "Epoch 2/100, Train Loss: 2.6474, Test Loss: 2.6357, Train Accuracy: 0.4674, Test Accuracy: 0.4805\n",
      "Epoch 2: New best test loss: 2.616429909027834\n",
      "Epoch 3/100, Train Loss: 2.6154, Test Loss: 2.6164, Train Accuracy: 0.4898, Test Accuracy: 0.4903\n",
      "Epoch 3: New best test loss: 2.605963968338176\n",
      "Epoch 4/100, Train Loss: 2.6009, Test Loss: 2.6060, Train Accuracy: 0.4986, Test Accuracy: 0.5020\n",
      "Epoch 4: New best test loss: 2.600019757122917\n",
      "Epoch 5/100, Train Loss: 2.5927, Test Loss: 2.6000, Train Accuracy: 0.5041, Test Accuracy: 0.5032\n",
      "Epoch 5: New best test loss: 2.5954501616126078\n",
      "Epoch 6/100, Train Loss: 2.5868, Test Loss: 2.5955, Train Accuracy: 0.5074, Test Accuracy: 0.5078\n",
      "Epoch 6: New best test loss: 2.592560963197188\n",
      "Epoch 7/100, Train Loss: 2.5824, Test Loss: 2.5926, Train Accuracy: 0.5109, Test Accuracy: 0.5098\n",
      "Epoch 7: New best test loss: 2.589828489935972\n",
      "Epoch 8/100, Train Loss: 2.5792, Test Loss: 2.5898, Train Accuracy: 0.5137, Test Accuracy: 0.5115\n",
      "Epoch 8: New best test loss: 2.587766078704181\n",
      "Epoch 9/100, Train Loss: 2.5765, Test Loss: 2.5878, Train Accuracy: 0.5160, Test Accuracy: 0.5127\n",
      "Epoch 9: New best test loss: 2.5859922521254597\n",
      "Epoch 10/100, Train Loss: 2.5742, Test Loss: 2.5860, Train Accuracy: 0.5174, Test Accuracy: 0.5140\n",
      "Epoch 10: New best test loss: 2.5854721566572545\n",
      "Epoch 11/100, Train Loss: 2.5721, Test Loss: 2.5855, Train Accuracy: 0.5197, Test Accuracy: 0.5140\n",
      "Epoch 11: New best test loss: 2.5837243725271786\n",
      "Epoch 12/100, Train Loss: 2.5705, Test Loss: 2.5837, Train Accuracy: 0.5202, Test Accuracy: 0.5137\n",
      "Epoch 12: New best test loss: 2.583420094321756\n",
      "Epoch 13/100, Train Loss: 2.5694, Test Loss: 2.5834, Train Accuracy: 0.5208, Test Accuracy: 0.5128\n",
      "Epoch 13: New best test loss: 2.583089300655426\n",
      "Epoch 14/100, Train Loss: 2.5675, Test Loss: 2.5831, Train Accuracy: 0.5220, Test Accuracy: 0.5138\n",
      "Epoch 14: New best test loss: 2.5805959867283623\n",
      "Epoch 15/100, Train Loss: 2.5666, Test Loss: 2.5806, Train Accuracy: 0.5228, Test Accuracy: 0.5165\n",
      "Epoch 15: New best test loss: 2.5805418567861467\n",
      "Epoch 16/100, Train Loss: 2.5657, Test Loss: 2.5805, Train Accuracy: 0.5243, Test Accuracy: 0.5167\n",
      "Epoch 16: New best test loss: 2.5792625116154473\n",
      "Epoch 17/100, Train Loss: 2.5646, Test Loss: 2.5793, Train Accuracy: 0.5255, Test Accuracy: 0.5162\n",
      "Epoch 17: New best test loss: 2.5787306724385144\n",
      "Epoch 18/100, Train Loss: 2.5637, Test Loss: 2.5787, Train Accuracy: 0.5239, Test Accuracy: 0.5183\n",
      "Epoch 18: New best test loss: 2.578412280363195\n",
      "Epoch 19/100, Train Loss: 2.5629, Test Loss: 2.5784, Train Accuracy: 0.5265, Test Accuracy: 0.5183\n",
      "Epoch 19: New best test loss: 2.5773997281324417\n",
      "Epoch 20/100, Train Loss: 2.5622, Test Loss: 2.5774, Train Accuracy: 0.5263, Test Accuracy: 0.5170\n",
      "Epoch 20: New best test loss: 2.5773997281324417\n",
      "Epoch 21/100, Train Loss: 2.5614, Test Loss: 2.5779, Train Accuracy: 0.5265, Test Accuracy: 0.5158\n",
      "Epoch 21: New best test loss: 2.5768405881157532\n",
      "Epoch 22/100, Train Loss: 2.5608, Test Loss: 2.5768, Train Accuracy: 0.5269, Test Accuracy: 0.5200\n",
      "Epoch 22: New best test loss: 2.576405854148661\n",
      "Epoch 23/100, Train Loss: 2.5600, Test Loss: 2.5764, Train Accuracy: 0.5278, Test Accuracy: 0.5197\n",
      "Epoch 23: New best test loss: 2.576405854148661\n",
      "Epoch 24/100, Train Loss: 2.5595, Test Loss: 2.5769, Train Accuracy: 0.5289, Test Accuracy: 0.5185\n",
      "Epoch 24: New best test loss: 2.5753547303816853\n",
      "Epoch 25/100, Train Loss: 2.5591, Test Loss: 2.5754, Train Accuracy: 0.5293, Test Accuracy: 0.5183\n",
      "Epoch 25: New best test loss: 2.5753547303816853\n",
      "Epoch 26/100, Train Loss: 2.5584, Test Loss: 2.5765, Train Accuracy: 0.5296, Test Accuracy: 0.5190\n",
      "Epoch 26: New best test loss: 2.5753547303816853\n",
      "Epoch 27/100, Train Loss: 2.5576, Test Loss: 2.5756, Train Accuracy: 0.5297, Test Accuracy: 0.5200\n",
      "Epoch 27: New best test loss: 2.5753547303816853\n",
      "Epoch 28/100, Train Loss: 2.5573, Test Loss: 2.5757, Train Accuracy: 0.5292, Test Accuracy: 0.5163\n",
      "Epoch 28: New best test loss: 2.574190918774528\n",
      "Epoch 29/100, Train Loss: 2.5570, Test Loss: 2.5742, Train Accuracy: 0.5305, Test Accuracy: 0.5180\n",
      "Epoch 29: New best test loss: 2.574190918774528\n",
      "Epoch 30/100, Train Loss: 2.5563, Test Loss: 2.5745, Train Accuracy: 0.5309, Test Accuracy: 0.5207\n",
      "Epoch 30: New best test loss: 2.574190918774528\n",
      "Epoch 31/100, Train Loss: 2.5557, Test Loss: 2.5770, Train Accuracy: 0.5309, Test Accuracy: 0.5187\n",
      "Epoch 31: New best test loss: 2.574190918774528\n",
      "Epoch 32/100, Train Loss: 2.5557, Test Loss: 2.5746, Train Accuracy: 0.5318, Test Accuracy: 0.5195\n",
      "Epoch 32: New best test loss: 2.5738514617165142\n",
      "Epoch 33/100, Train Loss: 2.5553, Test Loss: 2.5739, Train Accuracy: 0.5310, Test Accuracy: 0.5203\n",
      "Epoch 33: New best test loss: 2.5738514617165142\n",
      "Epoch 34/100, Train Loss: 2.5548, Test Loss: 2.5743, Train Accuracy: 0.5319, Test Accuracy: 0.5183\n",
      "Epoch 34: New best test loss: 2.5735599459173844\n",
      "Epoch 35/100, Train Loss: 2.5542, Test Loss: 2.5736, Train Accuracy: 0.5322, Test Accuracy: 0.5198\n",
      "Epoch 35: New best test loss: 2.5735599459173844\n",
      "Epoch 36/100, Train Loss: 2.5542, Test Loss: 2.5744, Train Accuracy: 0.5325, Test Accuracy: 0.5203\n",
      "Epoch 36: New best test loss: 2.5735599459173844\n",
      "Epoch 37/100, Train Loss: 2.5539, Test Loss: 2.5745, Train Accuracy: 0.5317, Test Accuracy: 0.5192\n",
      "Epoch 37: New best test loss: 2.5735599459173844\n",
      "Epoch 38/100, Train Loss: 2.5536, Test Loss: 2.5746, Train Accuracy: 0.5330, Test Accuracy: 0.5172\n",
      "Epoch 38: New best test loss: 2.573440289114886\n",
      "Epoch 39/100, Train Loss: 2.5531, Test Loss: 2.5734, Train Accuracy: 0.5337, Test Accuracy: 0.5200\n",
      "Epoch 39: New best test loss: 2.5728156630368155\n",
      "Epoch 40/100, Train Loss: 2.5528, Test Loss: 2.5728, Train Accuracy: 0.5334, Test Accuracy: 0.5215\n",
      "Epoch 40: New best test loss: 2.572218353098089\n",
      "Epoch 41/100, Train Loss: 2.5526, Test Loss: 2.5722, Train Accuracy: 0.5342, Test Accuracy: 0.5220\n",
      "Epoch 41: New best test loss: 2.572218353098089\n",
      "Epoch 42/100, Train Loss: 2.5520, Test Loss: 2.5729, Train Accuracy: 0.5346, Test Accuracy: 0.5200\n",
      "Epoch 42: New best test loss: 2.572218353098089\n",
      "Epoch 43/100, Train Loss: 2.5521, Test Loss: 2.5730, Train Accuracy: 0.5334, Test Accuracy: 0.5212\n",
      "Epoch 43: New best test loss: 2.572218353098089\n",
      "Epoch 44/100, Train Loss: 2.5513, Test Loss: 2.5738, Train Accuracy: 0.5351, Test Accuracy: 0.5177\n",
      "Epoch 44: New best test loss: 2.572218353098089\n",
      "Epoch 45/100, Train Loss: 2.5513, Test Loss: 2.5746, Train Accuracy: 0.5346, Test Accuracy: 0.5185\n",
      "Epoch 45: New best test loss: 2.572218353098089\n",
      "Epoch 46/100, Train Loss: 2.5511, Test Loss: 2.5730, Train Accuracy: 0.5358, Test Accuracy: 0.5197\n",
      "Epoch 46: New best test loss: 2.571636912656978\n",
      "Epoch 47/100, Train Loss: 2.5509, Test Loss: 2.5716, Train Accuracy: 0.5352, Test Accuracy: 0.5227\n",
      "Epoch 47: New best test loss: 2.571636912656978\n",
      "Epoch 48/100, Train Loss: 2.5506, Test Loss: 2.5729, Train Accuracy: 0.5368, Test Accuracy: 0.5198\n",
      "Epoch 48: New best test loss: 2.57143076728372\n",
      "Epoch 49/100, Train Loss: 2.5501, Test Loss: 2.5714, Train Accuracy: 0.5365, Test Accuracy: 0.5243\n",
      "Epoch 49: New best test loss: 2.57143076728372\n",
      "Epoch 50/100, Train Loss: 2.5498, Test Loss: 2.5729, Train Accuracy: 0.5370, Test Accuracy: 0.5213\n",
      "Epoch 50: New best test loss: 2.570749015094125\n",
      "Epoch 51/100, Train Loss: 2.5501, Test Loss: 2.5707, Train Accuracy: 0.5365, Test Accuracy: 0.5237\n",
      "Epoch 51: New best test loss: 2.570749015094125\n",
      "Epoch 52/100, Train Loss: 2.5496, Test Loss: 2.5722, Train Accuracy: 0.5360, Test Accuracy: 0.5222\n",
      "Epoch 52: New best test loss: 2.570749015094125\n",
      "Epoch 53/100, Train Loss: 2.5492, Test Loss: 2.5720, Train Accuracy: 0.5361, Test Accuracy: 0.5190\n",
      "Epoch 53: New best test loss: 2.570749015094125\n",
      "Epoch 54/100, Train Loss: 2.5493, Test Loss: 2.5721, Train Accuracy: 0.5375, Test Accuracy: 0.5195\n",
      "Epoch 54: New best test loss: 2.570749015094125\n",
      "Epoch 55/100, Train Loss: 2.5486, Test Loss: 2.5709, Train Accuracy: 0.5379, Test Accuracy: 0.5208\n",
      "Epoch 55: New best test loss: 2.570749015094125\n",
      "Epoch 56/100, Train Loss: 2.5488, Test Loss: 2.5710, Train Accuracy: 0.5374, Test Accuracy: 0.5240\n",
      "Epoch 56: New best test loss: 2.570749015094125\n",
      "Epoch 57/100, Train Loss: 2.5481, Test Loss: 2.5719, Train Accuracy: 0.5378, Test Accuracy: 0.5215\n",
      "Epoch 57: New best test loss: 2.570749015094125\n",
      "Epoch 58/100, Train Loss: 2.5467, Test Loss: 2.5711, Train Accuracy: 0.5405, Test Accuracy: 0.5230\n",
      "Epoch 58: New best test loss: 2.570749015094125\n",
      "Epoch 59/100, Train Loss: 2.5464, Test Loss: 2.5709, Train Accuracy: 0.5415, Test Accuracy: 0.5233\n",
      "Epoch 59: New best test loss: 2.570749015094125\n",
      "Epoch 60/100, Train Loss: 2.5463, Test Loss: 2.5708, Train Accuracy: 0.5414, Test Accuracy: 0.5237\n",
      "Epoch 60: New best test loss: 2.570749015094125\n",
      "Epoch 61/100, Train Loss: 2.5463, Test Loss: 2.5709, Train Accuracy: 0.5411, Test Accuracy: 0.5238\n",
      "Epoch 61: New best test loss: 2.570749015094125\n",
      "Epoch 62/100, Train Loss: 2.5463, Test Loss: 2.5708, Train Accuracy: 0.5411, Test Accuracy: 0.5232\n",
      "Epoch 62: New best test loss: 2.570725804344218\n",
      "Epoch 63/100, Train Loss: 2.5463, Test Loss: 2.5707, Train Accuracy: 0.5411, Test Accuracy: 0.5242\n",
      "Epoch 63: New best test loss: 2.570725804344218\n",
      "Epoch 64/100, Train Loss: 2.5460, Test Loss: 2.5707, Train Accuracy: 0.5415, Test Accuracy: 0.5238\n",
      "Epoch 64: New best test loss: 2.570725804344218\n",
      "Epoch 65/100, Train Loss: 2.5460, Test Loss: 2.5707, Train Accuracy: 0.5415, Test Accuracy: 0.5238\n",
      "Epoch 65: New best test loss: 2.570725804344218\n",
      "Epoch 66/100, Train Loss: 2.5460, Test Loss: 2.5707, Train Accuracy: 0.5418, Test Accuracy: 0.5235\n",
      "Epoch 66: New best test loss: 2.570725804344218\n",
      "Epoch 67/100, Train Loss: 2.5460, Test Loss: 2.5707, Train Accuracy: 0.5417, Test Accuracy: 0.5235\n",
      "Epoch 67: New best test loss: 2.570725804344218\n",
      "Epoch 68/100, Train Loss: 2.5460, Test Loss: 2.5707, Train Accuracy: 0.5419, Test Accuracy: 0.5237\n",
      "Epoch 68: New best test loss: 2.570725804344218\n",
      "Epoch 69/100, Train Loss: 2.5460, Test Loss: 2.5707, Train Accuracy: 0.5419, Test Accuracy: 0.5237\n",
      "Epoch 69: New best test loss: 2.570725804344218\n",
      "Epoch 70/100, Train Loss: 2.5460, Test Loss: 2.5707, Train Accuracy: 0.5419, Test Accuracy: 0.5237\n",
      "Epoch 70: New best test loss: 2.570725804344218\n",
      "Epoch 71/100, Train Loss: 2.5460, Test Loss: 2.5707, Train Accuracy: 0.5419, Test Accuracy: 0.5237\n",
      "Epoch 71: New best test loss: 2.570725804344218\n",
      "Epoch 72/100, Train Loss: 2.5460, Test Loss: 2.5707, Train Accuracy: 0.5419, Test Accuracy: 0.5237\n",
      "Epoch 72: New best test loss: 2.570725804344218\n",
      "Epoch 73/100, Train Loss: 2.5460, Test Loss: 2.5707, Train Accuracy: 0.5419, Test Accuracy: 0.5237\n",
      "Epoch 73: New best test loss: 2.570725804344218\n",
      "Epoch 74/100, Train Loss: 2.5459, Test Loss: 2.5707, Train Accuracy: 0.5419, Test Accuracy: 0.5237\n",
      "Epoch 74: New best test loss: 2.570725804344218\n",
      "Epoch 75/100, Train Loss: 2.5460, Test Loss: 2.5707, Train Accuracy: 0.5419, Test Accuracy: 0.5237\n",
      "Epoch 75: New best test loss: 2.570725804344218\n",
      "Epoch 76/100, Train Loss: 2.5460, Test Loss: 2.5707, Train Accuracy: 0.5419, Test Accuracy: 0.5237\n",
      "Epoch 76: New best test loss: 2.570725804344218\n",
      "Epoch 77/100, Train Loss: 2.5459, Test Loss: 2.5707, Train Accuracy: 0.5419, Test Accuracy: 0.5237\n",
      "Epoch 77: New best test loss: 2.570725804344218\n",
      "Epoch 78/100, Train Loss: 2.5459, Test Loss: 2.5707, Train Accuracy: 0.5419, Test Accuracy: 0.5237\n",
      "Epoch 78: New best test loss: 2.570725804344218\n",
      "Epoch 79/100, Train Loss: 2.5459, Test Loss: 2.5707, Train Accuracy: 0.5419, Test Accuracy: 0.5237\n",
      "Epoch 79: New best test loss: 2.570725804344218\n",
      "Epoch 80/100, Train Loss: 2.5460, Test Loss: 2.5707, Train Accuracy: 0.5419, Test Accuracy: 0.5237\n",
      "Epoch 80: New best test loss: 2.570725804344218\n",
      "Epoch 81/100, Train Loss: 2.5460, Test Loss: 2.5707, Train Accuracy: 0.5419, Test Accuracy: 0.5237\n",
      "Epoch 81: New best test loss: 2.570725804344218\n",
      "Epoch 82/100, Train Loss: 2.5460, Test Loss: 2.5707, Train Accuracy: 0.5419, Test Accuracy: 0.5237\n",
      "Epoch 82: New best test loss: 2.570725804344218\n",
      "Epoch 83/100, Train Loss: 2.5459, Test Loss: 2.5707, Train Accuracy: 0.5419, Test Accuracy: 0.5237\n",
      "Epoch 83: New best test loss: 2.570725804344218\n",
      "Epoch 84/100, Train Loss: 2.5460, Test Loss: 2.5707, Train Accuracy: 0.5419, Test Accuracy: 0.5237\n",
      "Epoch 84: New best test loss: 2.570725804344218\n",
      "Epoch 85/100, Train Loss: 2.5460, Test Loss: 2.5707, Train Accuracy: 0.5419, Test Accuracy: 0.5237\n",
      "Epoch 85: New best test loss: 2.570725804344218\n",
      "Epoch 86/100, Train Loss: 2.5460, Test Loss: 2.5707, Train Accuracy: 0.5419, Test Accuracy: 0.5237\n",
      "Epoch 86: New best test loss: 2.570725804344218\n",
      "Epoch 87/100, Train Loss: 2.5459, Test Loss: 2.5707, Train Accuracy: 0.5419, Test Accuracy: 0.5237\n",
      "Epoch 87: New best test loss: 2.570725804344218\n",
      "Epoch 88/100, Train Loss: 2.5459, Test Loss: 2.5707, Train Accuracy: 0.5419, Test Accuracy: 0.5237\n",
      "Epoch 88: New best test loss: 2.570725804344218\n",
      "Epoch 89/100, Train Loss: 2.5460, Test Loss: 2.5707, Train Accuracy: 0.5419, Test Accuracy: 0.5237\n",
      "Epoch 89: New best test loss: 2.570725804344218\n",
      "Epoch 90/100, Train Loss: 2.5460, Test Loss: 2.5707, Train Accuracy: 0.5419, Test Accuracy: 0.5237\n",
      "Epoch 90: New best test loss: 2.570725804344218\n",
      "Epoch 91/100, Train Loss: 2.5460, Test Loss: 2.5707, Train Accuracy: 0.5419, Test Accuracy: 0.5237\n",
      "Epoch 91: New best test loss: 2.570725804344218\n",
      "Epoch 92/100, Train Loss: 2.5459, Test Loss: 2.5707, Train Accuracy: 0.5419, Test Accuracy: 0.5237\n",
      "Epoch 92: New best test loss: 2.570725804344218\n",
      "Epoch 93/100, Train Loss: 2.5459, Test Loss: 2.5707, Train Accuracy: 0.5419, Test Accuracy: 0.5237\n",
      "Epoch 93: New best test loss: 2.570725804344218\n",
      "Epoch 94/100, Train Loss: 2.5460, Test Loss: 2.5707, Train Accuracy: 0.5419, Test Accuracy: 0.5237\n",
      "Epoch 94: New best test loss: 2.570725804344218\n",
      "Epoch 95/100, Train Loss: 2.5460, Test Loss: 2.5707, Train Accuracy: 0.5419, Test Accuracy: 0.5237\n",
      "Epoch 95: New best test loss: 2.570725804344218\n",
      "Epoch 96/100, Train Loss: 2.5460, Test Loss: 2.5707, Train Accuracy: 0.5419, Test Accuracy: 0.5237\n",
      "Epoch 96: New best test loss: 2.570725804344218\n",
      "Epoch 97/100, Train Loss: 2.5460, Test Loss: 2.5707, Train Accuracy: 0.5419, Test Accuracy: 0.5237\n",
      "Epoch 97: New best test loss: 2.570725804344218\n",
      "Epoch 98/100, Train Loss: 2.5459, Test Loss: 2.5707, Train Accuracy: 0.5419, Test Accuracy: 0.5237\n",
      "Epoch 98: New best test loss: 2.570725804344218\n",
      "Epoch 99/100, Train Loss: 2.5460, Test Loss: 2.5707, Train Accuracy: 0.5419, Test Accuracy: 0.5237\n",
      "Epoch 99: New best test loss: 2.570725804344218\n",
      "Epoch 100/100, Train Loss: 2.5460, Test Loss: 2.5707, Train Accuracy: 0.5419, Test Accuracy: 0.5237\n",
      "Notification sent to Discord!\n",
      "Elapsed time for wrapper: 46.89 seconds.\n"
     ]
    }
   ],
   "source": [
    "train(100)"
   ],
   "metadata": {
    "collapsed": false,
    "ExecuteTime": {
     "end_time": "2024-04-16T14:27:25.532388Z",
     "start_time": "2024-04-16T14:26:38.640771Z"
    }
   },
   "id": "31370fd4e48179a8",
   "execution_count": 23
  },
  {
   "cell_type": "code",
   "outputs": [],
   "source": [
    "import matplotlib.pyplot as plt\n",
    "\n",
    "plt.plot(history[\"train_loss\"], label=\"train loss\")\n",
    "plt.plot(history[\"test_loss\"], label=\"test loss\")\n",
    "plt.xlabel(\"Epoch\")\n",
    "plt.ylabel(\"Loss\")\n",
    "plt.legend()\n",
    "plt.show()\n",
    "\n",
    "plt.plot(history[\"train_accuracy\"], label=\"train accuracy\")\n",
    "plt.plot(history[\"test_accuracy\"], label=\"test accuracy\")\n",
    "plt.xlabel(\"Epoch\")\n",
    "plt.ylabel(\"Accuracy\")\n",
    "plt.legend()\n",
    "plt.show()"
   ],
   "metadata": {
    "collapsed": false
   },
   "id": "391ffaa4bca04bcc",
   "execution_count": null
  }
 ],
 "metadata": {
  "kernelspec": {
   "display_name": "Python 3",
   "language": "python",
   "name": "python3"
  },
  "language_info": {
   "codemirror_mode": {
    "name": "ipython",
    "version": 2
   },
   "file_extension": ".py",
   "mimetype": "text/x-python",
   "name": "python",
   "nbconvert_exporter": "python",
   "pygments_lexer": "ipython2",
   "version": "2.7.6"
  }
 },
 "nbformat": 4,
 "nbformat_minor": 5
}
