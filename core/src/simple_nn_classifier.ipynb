{
 "cells": [
  {
   "cell_type": "code",
   "execution_count": null,
   "id": "initial_id",
   "metadata": {
    "collapsed": true
   },
   "outputs": [],
   "source": [
    "import pandas as pd\n",
    "import torch\n",
    "from torch import nn\n",
    "from torch.optim.lr_scheduler import ReduceLROnPlateau\n",
    "from torch.utils.data import Dataset, DataLoader\n",
    "\n",
    "from utils.decorators import show_elapsed_time\n",
    "from utils.decorators import send_notification"
   ]
  },
  {
   "cell_type": "code",
   "outputs": [],
   "source": [
    "df_train = pd.read_csv(\"rocar_train.csv\")\n",
    "df_test = pd.read_csv(\"rocar_test.csv\")"
   ],
   "metadata": {
    "collapsed": false
   },
   "id": "9dcdc38040aa9468",
   "execution_count": null
  },
  {
   "cell_type": "code",
   "outputs": [],
   "source": [
    "print(f\"Train shape: {df_train.shape}\")\n",
    "print(f\"Test shape: {df_test.shape}\")"
   ],
   "metadata": {
    "collapsed": false
   },
   "id": "2305173d6ce58067",
   "execution_count": null
  },
  {
   "cell_type": "markdown",
   "source": [
    "# CONSTANTS"
   ],
   "metadata": {
    "collapsed": false
   },
   "id": "db52e207b9f3ef2c"
  },
  {
   "cell_type": "code",
   "outputs": [],
   "source": [
    "BATCH_SIZE = 32\n",
    "DEVICE = torch.device(\"cuda\" if torch.cuda.is_available() else \"cpu\")"
   ],
   "metadata": {
    "collapsed": false
   },
   "id": "98f2f0f7575954e4",
   "execution_count": null
  },
  {
   "cell_type": "code",
   "outputs": [],
   "source": [
    "class CarDataset(Dataset):\n",
    "    def __init__(self, features, labels):\n",
    "        self.features = torch.tensor(features.values, dtype=torch.float32)\n",
    "        self.labels = torch.tensor(labels.values, dtype=torch.float32)\n",
    "\n",
    "        print(f\"Features shape: {self.features.shape}\")\n",
    "        print(f\"Labels shape: {self.labels.shape}\")\n",
    "\n",
    "    def __len__(self):\n",
    "        return len(self.features)\n",
    "\n",
    "    def __getitem__(self, idx):\n",
    "        return self.features[idx], self.labels[idx]"
   ],
   "metadata": {
    "collapsed": false
   },
   "id": "fd9451df3d46c7d7",
   "execution_count": null
  },
  {
   "cell_type": "code",
   "outputs": [],
   "source": [
    "from sklearn.preprocessing import LabelEncoder\n",
    "\n",
    "# Initialize the encoder\n",
    "encoder = LabelEncoder()\n",
    "\n",
    "bins = [i * 5000 for i in range(0, 13)]\n",
    "print(bins)\n",
    "\n",
    "df_train[\"price\"] = pd.cut(df_train[\"price\"], bins=bins, labels=[i for i in range(12)])\n",
    "df_train[\"price\"] = encoder.fit_transform(df_train[\"price\"])\n",
    "\n",
    "df_test[\"price\"] = pd.cut(df_test[\"price\"], bins=bins, labels=[i for i in range(12)])\n",
    "df_test[\"price\"] = encoder.transform(df_test[\"price\"])\n",
    "\n",
    "# print(df_train[\"price\"].value_counts(normalize=True))\n",
    "# print(df_test[\"price\"].value_counts(normalize=True))"
   ],
   "metadata": {
    "collapsed": false
   },
   "id": "2d4eca0cc5d134e3",
   "execution_count": null
  },
  {
   "cell_type": "code",
   "outputs": [],
   "source": [
    "train_dataset = CarDataset(df_train.drop(columns=\"price\"), df_train[\"price\"])\n",
    "test_dataset = CarDataset(df_test.drop(columns=\"price\"), df_test[\"price\"])\n",
    "\n",
    "print(f\"Train dataset length: {len(train_dataset)}\")\n",
    "print(f\"Test dataset length: {len(test_dataset)}\")\n",
    "\n",
    "train_loader = DataLoader(train_dataset, batch_size=BATCH_SIZE, shuffle=True)\n",
    "test_loader = DataLoader(test_dataset, batch_size=BATCH_SIZE, shuffle=False)"
   ],
   "metadata": {
    "collapsed": false
   },
   "id": "bd4e6230645a255a",
   "execution_count": null
  },
  {
   "cell_type": "code",
   "outputs": [],
   "source": [
    "class Net(nn.Module):\n",
    "    def __init__(self):\n",
    "        super(Net, self).__init__()\n",
    "        self.fc1 = nn.Linear(11, 128)\n",
    "        self.fc2 = nn.Linear(128, 256)\n",
    "        self.fc3 = nn.Linear(256, 20)\n",
    "        self.softmax = nn.Softmax(dim=1)\n",
    "\n",
    "    def forward(self, x):\n",
    "        x = torch.relu(self.fc1(x))\n",
    "        x = torch.relu(self.fc2(x))\n",
    "        x = self.fc3(x)\n",
    "        x = self.softmax(x)\n",
    "        return x"
   ],
   "metadata": {
    "collapsed": false
   },
   "id": "8ea3d4832a7ee0b3",
   "execution_count": null
  },
  {
   "cell_type": "code",
   "outputs": [],
   "source": [
    "model = Net().to(DEVICE)\n",
    "criterion = nn.CrossEntropyLoss()\n",
    "optimizer = torch.optim.Adam(model.parameters(), lr=0.0001)\n",
    "scheduler = ReduceLROnPlateau(optimizer, mode=\"min\", factor=0.1, patience=5)\n",
    "\n",
    "trainSteps = len(train_loader.dataset) // BATCH_SIZE\n",
    "testSteps = len(test_loader.dataset) // BATCH_SIZE\n",
    "history = {\"train_loss\": [], \"test_loss\": [], \"train_accuracy\": [], \"test_accuracy\": []}"
   ],
   "metadata": {
    "collapsed": false
   },
   "id": "deafffccfbe1c17b",
   "execution_count": null
  },
  {
   "cell_type": "code",
   "outputs": [],
   "source": [
    "@show_elapsed_time\n",
    "@send_notification\n",
    "def train(num_epochs: int = 100):\n",
    "    best_val_loss = float(\"inf\")\n",
    "    for epoch in range(num_epochs):\n",
    "        model.train()\n",
    "        train_loss = 0.0\n",
    "        train_correct = 0\n",
    "        for i, (features, labels) in enumerate(train_loader):\n",
    "            features, labels = features.to(DEVICE), labels.to(DEVICE)\n",
    "            labels = labels.long()\n",
    "            optimizer.zero_grad()\n",
    "            outputs = model(features)\n",
    "            loss = criterion(outputs, labels)\n",
    "            loss.backward()\n",
    "            optimizer.step()\n",
    "            train_loss += loss.item()\n",
    "            pred = torch.argmax(outputs, dim=1)\n",
    "            train_correct += (pred == labels).sum().item()\n",
    "\n",
    "        model.eval()\n",
    "        test_loss = 0.0\n",
    "        test_correct = 0\n",
    "        with torch.no_grad():\n",
    "            for i, (features, labels) in enumerate(test_loader):\n",
    "                features, labels = features.to(DEVICE), labels.to(DEVICE)\n",
    "                labels = labels.long()\n",
    "                outputs = model(features)\n",
    "                loss = criterion(outputs, labels)\n",
    "                test_loss += loss.item()\n",
    "                pred = torch.argmax(outputs, dim=1)\n",
    "                test_correct += (pred == labels).sum().item()\n",
    "\n",
    "        train_loss /= trainSteps\n",
    "        test_loss /= testSteps\n",
    "\n",
    "        train_accuracy = train_correct / len(train_loader.dataset)\n",
    "        test_accuracy = test_correct / len(test_loader.dataset)\n",
    "\n",
    "        history[\"train_loss\"].append(train_loss)\n",
    "        history[\"test_loss\"].append(test_loss)\n",
    "        history[\"train_accuracy\"].append(train_accuracy)\n",
    "        history[\"test_accuracy\"].append(test_accuracy)\n",
    "\n",
    "        if test_loss < best_val_loss:\n",
    "            best_val_loss = test_loss\n",
    "        torch.save(model.state_dict(), \"best_model.pth\")\n",
    "        print(f\"Epoch {epoch}: New best test loss: {best_val_loss}\")\n",
    "\n",
    "        print(\n",
    "            f\"Epoch {epoch + 1}/{num_epochs}, Train Loss: {train_loss:.4f}, Test Loss: {test_loss:.4f}, Train Accuracy: {train_accuracy:.4f}, Test Accuracy: {test_accuracy:.4f}\"\n",
    "        )\n",
    "\n",
    "        scheduler.step(test_loss)"
   ],
   "metadata": {
    "collapsed": false
   },
   "id": "e12756a7536b7551",
   "execution_count": null
  },
  {
   "cell_type": "code",
   "outputs": [],
   "source": [
    "train(100)"
   ],
   "metadata": {
    "collapsed": false
   },
   "id": "31370fd4e48179a8",
   "execution_count": null
  },
  {
   "cell_type": "code",
   "outputs": [],
   "source": [
    "import matplotlib.pyplot as plt\n",
    "\n",
    "plt.plot(history[\"train_loss\"], label=\"train loss\")\n",
    "plt.plot(history[\"test_loss\"], label=\"test loss\")\n",
    "plt.xlabel(\"Epoch\")\n",
    "plt.ylabel(\"Loss\")\n",
    "plt.legend()\n",
    "plt.show()\n",
    "\n",
    "plt.plot(history[\"train_accuracy\"], label=\"train accuracy\")\n",
    "plt.plot(history[\"test_accuracy\"], label=\"test accuracy\")\n",
    "plt.xlabel(\"Epoch\")\n",
    "plt.ylabel(\"Accuracy\")\n",
    "plt.legend()\n",
    "plt.show()"
   ],
   "metadata": {
    "collapsed": false
   },
   "id": "391ffaa4bca04bcc",
   "execution_count": null
  }
 ],
 "metadata": {
  "kernelspec": {
   "display_name": "Python 3",
   "language": "python",
   "name": "python3"
  },
  "language_info": {
   "codemirror_mode": {
    "name": "ipython",
    "version": 2
   },
   "file_extension": ".py",
   "mimetype": "text/x-python",
   "name": "python",
   "nbconvert_exporter": "python",
   "pygments_lexer": "ipython2",
   "version": "2.7.6"
  }
 },
 "nbformat": 4,
 "nbformat_minor": 5
}
