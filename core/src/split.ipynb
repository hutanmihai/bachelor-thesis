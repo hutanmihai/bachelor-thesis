{
 "cells": [
  {
   "cell_type": "code",
   "execution_count": 1,
   "id": "initial_id",
   "metadata": {
    "collapsed": true,
    "ExecuteTime": {
     "end_time": "2024-04-17T13:50:52.839929Z",
     "start_time": "2024-04-17T13:50:52.824727Z"
    }
   },
   "outputs": [],
   "source": [
    "from constants import ROCAR_CSV\n",
    "import pandas as pd"
   ]
  },
  {
   "cell_type": "code",
   "outputs": [
    {
     "name": "stdout",
     "output_type": "stream",
     "text": [
      "<class 'pandas.core.frame.DataFrame'>\n",
      "RangeIndex: 31891 entries, 0 to 31890\n",
      "Data columns (total 33 columns):\n",
      " #   Column                               Non-Null Count  Dtype  \n",
      "---  ------                               --------------  -----  \n",
      " 0   url                                  31891 non-null  object \n",
      " 1   id                                   31891 non-null  object \n",
      " 2   path                                 31891 non-null  object \n",
      " 3   audio si tehnologie                  28250 non-null  object \n",
      " 4   confort si echipamente optionale     28979 non-null  object \n",
      " 5   electronice si sisteme de asistenta  28679 non-null  object \n",
      " 6   performanta                          21159 non-null  object \n",
      " 7   siguranta                            28405 non-null  object \n",
      " 8   oferit de                            31891 non-null  object \n",
      " 9   marca                                31891 non-null  object \n",
      " 10  model                                31891 non-null  object \n",
      " 11  anul producției                      31891 non-null  int64  \n",
      " 12  km                                   31891 non-null  int64  \n",
      " 13  combustibil                          31891 non-null  object \n",
      " 14  putere                               31891 non-null  int64  \n",
      " 15  capacitate cilindrica                31891 non-null  int64  \n",
      " 16  consum extraurban                    13552 non-null  object \n",
      " 17  cutie de viteze                      31891 non-null  object \n",
      " 18  consum urban                         22139 non-null  object \n",
      " 19  tip caroserie                        31891 non-null  object \n",
      " 20  culoare                              31891 non-null  object \n",
      " 21  stare                                31891 non-null  object \n",
      " 22  description                          30819 non-null  object \n",
      " 23  price                                31891 non-null  float64\n",
      " 24  consum mixt                          243 non-null    object \n",
      " 25  consum mediu                         24 non-null     object \n",
      " 26  unique_id                            31891 non-null  int64  \n",
      " 27  garantie                             8824 non-null   object \n",
      " 28  non important details                23647 non-null  object \n",
      " 29  istoric                              27344 non-null  object \n",
      " 30  poluare                              25094 non-null  object \n",
      " 31  detalii generale                     31891 non-null  object \n",
      " 32  price_bin                            31891 non-null  float64\n",
      "dtypes: float64(2), int64(5), object(26)\n",
      "memory usage: 8.0+ MB\n"
     ]
    }
   ],
   "source": [
    "df = pd.read_csv(ROCAR_CSV)\n",
    "df.info()"
   ],
   "metadata": {
    "collapsed": false,
    "ExecuteTime": {
     "end_time": "2024-04-17T13:50:53.983974Z",
     "start_time": "2024-04-17T13:50:52.857117Z"
    }
   },
   "id": "4de9906819ff94e8",
   "execution_count": 2
  },
  {
   "cell_type": "code",
   "outputs": [
    {
     "data": {
      "text/plain": "                                                 url        id  \\\n0  https://www.autovit.ro/autoturisme/anunt/volks...  ID7HkJmn   \n1  https://www.autovit.ro/autoturisme/anunt/merce...  ID7HhP6t   \n2  https://www.autovit.ro/autoturisme/anunt/lexus...  ID7HgsP0   \n3  https://www.autovit.ro/autoturisme/anunt/volvo...  ID7Hj79Y   \n4  https://www.autovit.ro/autoturisme/anunt/volks...  ID7H6OVd   \n5  https://www.autovit.ro/autoturisme/anunt/volvo...  ID7H7558   \n6  https://www.autovit.ro/autoturisme/anunt/renau...  ID7Hab4z   \n7  https://www.autovit.ro/autoturisme/anunt/renau...  ID7Hj7FQ   \n8  https://www.autovit.ro/autoturisme/anunt/ford-...  ID7HjkLu   \n9  https://www.autovit.ro/autoturisme/anunt/merce...  ID7HiJDL   \n\n                                                path  \\\n0                         volkswagen-tiguan-ID7HkJmn   \n1        mercedes-benz-gla-200-d-4matic-aut-ID7HhP6t   \n2                            lexus-seria-nx-ID7HgsP0   \n3                   volvo-v50-drive-kinetic-ID7Hj79Y   \n4              volkswagen-passat-cc-2-0-tdi-ID7H6OVd   \n5   volvo-xc-60-t8-twin-engine-awd-r-design-ID7H7558   \n6  renault-megane-dci-130-fap-coupe-cabriolet-dyn...   \n7                          renault-talisman-ID7Hj7FQ   \n8  ford-focus-turnier-1-0-ecoboost-start-stopp-sy...   \n9    mercedes-benz-e-280-cdi-4-matic-estate-ID7HiJDL   \n\n                                 audio si tehnologie  \\\n0  apple carplay,android auto,sistem hands-free,p...   \n1  bluetooth,radio,port usb,sistem navigatie,sist...   \n2  apple carplay,android auto,bluetooth,radio,por...   \n3                                 radio,sistem audio   \n4                                 radio,sistem audio   \n5  apple carplay,android auto,bluetooth,radio,sis...   \n6  bluetooth,radio,sistem hands-free,port usb,sis...   \n7  apple carplay,android auto,bluetooth,radio,sis...   \n8  bluetooth,radio,sistem hands-free,port usb,sis...   \n9                  bluetooth,radio,sistem hands-free   \n\n                    confort si echipamente optionale  \\\n0  climatronic,incalzire scaun sofer,scaune sport...   \n1  climatronic,tapiterie mixta piele-textil,scaun...   \n2  climatronic 2 zone,tapiterie piele,incalzire s...   \n3  climatronic,tapiterie stofa,cotiera (spate),vo...   \n4  climatronic 2 zone,hardtop,jaluzele electrice ...   \n5  climatronic 2 zone,tapiterie piele,scaun sofer...   \n6  climatronic 2 zone,hardtop,trapa electrica,tap...   \n7  carlig remorcare,climatronic,jaluzele manuale ...   \n8  climatronic 2 zone,top stofa,tapiterie stofa,i...   \n9  climatronic,tapiterie stofa,scaun sofer ajusta...   \n\n                 electronice si sisteme de asistenta  \\\n0  pilot automat,oglinzi exterioare cu reglare el...   \n1                                                NaN   \n2  pilot automat adaptiv (distronic),faruri led,s...   \n3  oglinzi exterioare cu reglare electrica,oglinz...   \n4  pilot automat,faruri bi-xenon,senzori parcare ...   \n5  pilot automat adaptiv (distronic),faruri led,s...   \n6  senzori parcare spate,oglinzi exterioare cu re...   \n7  pilot automat,senzori parcare fata,senzori par...   \n8  pilot automat,senzori parcare fata,senzori par...   \n9  pilot automat,oglinzi exterioare incalzite,lim...   \n\n                                         performanta  \\\n0                                                NaN   \n1                       jante aliaj 17,anvelope vara   \n2                                                NaN   \n3                                                NaN   \n4                                     jante aliaj 17   \n5  jante aliaj 19,suspensie confort,suspensie spo...   \n6                     jante aliaj 17,suspensie sport   \n7                       jante aliaj 19,anvelope vara   \n8                       jante aliaj 16,anvelope vara   \n9                   jante aliaj 16,suspensie confort   \n\n                                           siguranta oferit de          marca  \\\n0  abs,esp,sistem avertizare pre-coliziune,sistem...     firma     volkswagen   \n1  abs,esp,franare asistata,sistem avertizare pre...    privat  mercedes-benz   \n2              esp,airbag sofer,airbag scaun pasager     firma          lexus   \n3  abs,ebd,franare asistata,airbag sofer,airbag s...     firma          volvo   \n4  abs,esp,franare asistata,sistem asistenta fran...    privat     volkswagen   \n5  abs,esp,ebd,franare asistata,sistem asistenta ...     firma          volvo   \n6  abs,esp,airbag sofer,airbag scaun pasager,airb...     firma        renault   \n7  abs,esp,franare asistata,airbag sofer,airbag s...     firma        renault   \n8  abs,esp,asistenta telefonica urgenta,apelare a...    privat           ford   \n9  abs,esp,franare asistata,airbag sofer,airbag s...    privat  mercedes-benz   \n\n   ...    price  consum mixt  consum mediu unique_id  \\\n0  ...  28939.0          NaN           NaN         0   \n1  ...  21900.0          NaN           NaN         1   \n2  ...  61900.0          NaN           NaN         2   \n3  ...   3950.0          NaN           NaN         4   \n4  ...   7000.0          NaN           NaN         5   \n5  ...  36878.0          NaN           NaN         6   \n6  ...   5490.0          NaN           NaN         7   \n7  ...  17490.0          NaN           NaN         8   \n8  ...   4700.0          NaN           NaN         9   \n9  ...  23969.0          NaN           NaN        10   \n\n                                            garantie  \\\n0                                                NaN   \n1                                                NaN   \n2                                                NaN   \n3                                                NaN   \n4                                                NaN   \n5                                                NaN   \n6                                                NaN   \n7  garantie dealer (inclusa in pret) 12 luni, sau...   \n8                                                NaN   \n9                                                NaN   \n\n                               non important details  \\\n0  se emite factura: da\\neligibil pentru finantar...   \n1                          are vin (serie sasiu): da   \n2                          are vin (serie sasiu): da   \n3  se emite factura: da\\neligibil pentru finantar...   \n4                          are vin (serie sasiu): da   \n5  are vin (serie sasiu): da\\nse emite factura: d...   \n6  are vin (serie sasiu): da\\nse emite factura: d...   \n7    are vin (serie sasiu): da\\nse emite factura: da   \n8                                                NaN   \n9                                                NaN   \n\n                                             istoric  \\\n0  tara de origine: germania\\ndata primei inmatri...   \n1  tara de origine: romania\\ninmatriculat: da\\npr...   \n2           data primei inmatriculari: 14 iulie 2023   \n3  tara de origine: austria\\nprimul proprietar (d...   \n4  tara de origine: germania\\ninmatriculat: da\\nf...   \n5  tara de origine: suedia\\ndata primei inmatricu...   \n6  tara de origine: franta\\ndata primei inmatricu...   \n7  tara de origine: franta\\ndata primei inmatricu...   \n8  tara de origine: olanda\\nprimul proprietar (de...   \n9          tara de origine: italia\\ninmatriculat: da   \n\n                                          poluare  \\\n0                        norma de poluare: euro 6   \n1                        norma de poluare: euro 6   \n2                        norma de poluare: euro 6   \n3                        norma de poluare: euro 4   \n4                        norma de poluare: euro 4   \n5                        norma de poluare: euro 6   \n6                        norma de poluare: euro 5   \n7  norma de poluare: euro 6\\nemisii co2: 120 g/km   \n8                        norma de poluare: euro 5   \n9                            emisii co2: 191 g/km   \n\n                                    detalii generale price_bin  \n0  marca: volkswagen\\nmodel: tiguan\\nanul producț...   25000.0  \n1  marca: mercedes-benz\\nmodel: gla\\nversiune: 20...   20000.0  \n2  marca: lexus\\nmodel: seria nx\\nanul producției...   60000.0  \n3  marca: volvo\\nmodel: v50\\nversiune: drive kine...       0.0  \n4  marca: volkswagen\\nmodel: passat cc\\nversiune:...    5000.0  \n5  marca: volvo\\nmodel: xc 60\\nversiune: t8 twin ...   35000.0  \n6  marca: renault\\nmodel: megane\\nversiune: dci 1...    5000.0  \n7  marca: renault\\nmodel: talisman\\nanul producți...   15000.0  \n8  marca: ford\\nmodel: focus\\nversiune: turnier 1...       0.0  \n9  marca: mercedes-benz\\nmodel: e\\nversiune: 280 ...   20000.0  \n\n[10 rows x 33 columns]",
      "text/html": "<div>\n<style scoped>\n    .dataframe tbody tr th:only-of-type {\n        vertical-align: middle;\n    }\n\n    .dataframe tbody tr th {\n        vertical-align: top;\n    }\n\n    .dataframe thead th {\n        text-align: right;\n    }\n</style>\n<table border=\"1\" class=\"dataframe\">\n  <thead>\n    <tr style=\"text-align: right;\">\n      <th></th>\n      <th>url</th>\n      <th>id</th>\n      <th>path</th>\n      <th>audio si tehnologie</th>\n      <th>confort si echipamente optionale</th>\n      <th>electronice si sisteme de asistenta</th>\n      <th>performanta</th>\n      <th>siguranta</th>\n      <th>oferit de</th>\n      <th>marca</th>\n      <th>...</th>\n      <th>price</th>\n      <th>consum mixt</th>\n      <th>consum mediu</th>\n      <th>unique_id</th>\n      <th>garantie</th>\n      <th>non important details</th>\n      <th>istoric</th>\n      <th>poluare</th>\n      <th>detalii generale</th>\n      <th>price_bin</th>\n    </tr>\n  </thead>\n  <tbody>\n    <tr>\n      <th>0</th>\n      <td>https://www.autovit.ro/autoturisme/anunt/volks...</td>\n      <td>ID7HkJmn</td>\n      <td>volkswagen-tiguan-ID7HkJmn</td>\n      <td>apple carplay,android auto,sistem hands-free,p...</td>\n      <td>climatronic,incalzire scaun sofer,scaune sport...</td>\n      <td>pilot automat,oglinzi exterioare cu reglare el...</td>\n      <td>NaN</td>\n      <td>abs,esp,sistem avertizare pre-coliziune,sistem...</td>\n      <td>firma</td>\n      <td>volkswagen</td>\n      <td>...</td>\n      <td>28939.0</td>\n      <td>NaN</td>\n      <td>NaN</td>\n      <td>0</td>\n      <td>NaN</td>\n      <td>se emite factura: da\\neligibil pentru finantar...</td>\n      <td>tara de origine: germania\\ndata primei inmatri...</td>\n      <td>norma de poluare: euro 6</td>\n      <td>marca: volkswagen\\nmodel: tiguan\\nanul producț...</td>\n      <td>25000.0</td>\n    </tr>\n    <tr>\n      <th>1</th>\n      <td>https://www.autovit.ro/autoturisme/anunt/merce...</td>\n      <td>ID7HhP6t</td>\n      <td>mercedes-benz-gla-200-d-4matic-aut-ID7HhP6t</td>\n      <td>bluetooth,radio,port usb,sistem navigatie,sist...</td>\n      <td>climatronic,tapiterie mixta piele-textil,scaun...</td>\n      <td>NaN</td>\n      <td>jante aliaj 17,anvelope vara</td>\n      <td>abs,esp,franare asistata,sistem avertizare pre...</td>\n      <td>privat</td>\n      <td>mercedes-benz</td>\n      <td>...</td>\n      <td>21900.0</td>\n      <td>NaN</td>\n      <td>NaN</td>\n      <td>1</td>\n      <td>NaN</td>\n      <td>are vin (serie sasiu): da</td>\n      <td>tara de origine: romania\\ninmatriculat: da\\npr...</td>\n      <td>norma de poluare: euro 6</td>\n      <td>marca: mercedes-benz\\nmodel: gla\\nversiune: 20...</td>\n      <td>20000.0</td>\n    </tr>\n    <tr>\n      <th>2</th>\n      <td>https://www.autovit.ro/autoturisme/anunt/lexus...</td>\n      <td>ID7HgsP0</td>\n      <td>lexus-seria-nx-ID7HgsP0</td>\n      <td>apple carplay,android auto,bluetooth,radio,por...</td>\n      <td>climatronic 2 zone,tapiterie piele,incalzire s...</td>\n      <td>pilot automat adaptiv (distronic),faruri led,s...</td>\n      <td>NaN</td>\n      <td>esp,airbag sofer,airbag scaun pasager</td>\n      <td>firma</td>\n      <td>lexus</td>\n      <td>...</td>\n      <td>61900.0</td>\n      <td>NaN</td>\n      <td>NaN</td>\n      <td>2</td>\n      <td>NaN</td>\n      <td>are vin (serie sasiu): da</td>\n      <td>data primei inmatriculari: 14 iulie 2023</td>\n      <td>norma de poluare: euro 6</td>\n      <td>marca: lexus\\nmodel: seria nx\\nanul producției...</td>\n      <td>60000.0</td>\n    </tr>\n    <tr>\n      <th>3</th>\n      <td>https://www.autovit.ro/autoturisme/anunt/volvo...</td>\n      <td>ID7Hj79Y</td>\n      <td>volvo-v50-drive-kinetic-ID7Hj79Y</td>\n      <td>radio,sistem audio</td>\n      <td>climatronic,tapiterie stofa,cotiera (spate),vo...</td>\n      <td>oglinzi exterioare cu reglare electrica,oglinz...</td>\n      <td>NaN</td>\n      <td>abs,ebd,franare asistata,airbag sofer,airbag s...</td>\n      <td>firma</td>\n      <td>volvo</td>\n      <td>...</td>\n      <td>3950.0</td>\n      <td>NaN</td>\n      <td>NaN</td>\n      <td>4</td>\n      <td>NaN</td>\n      <td>se emite factura: da\\neligibil pentru finantar...</td>\n      <td>tara de origine: austria\\nprimul proprietar (d...</td>\n      <td>norma de poluare: euro 4</td>\n      <td>marca: volvo\\nmodel: v50\\nversiune: drive kine...</td>\n      <td>0.0</td>\n    </tr>\n    <tr>\n      <th>4</th>\n      <td>https://www.autovit.ro/autoturisme/anunt/volks...</td>\n      <td>ID7H6OVd</td>\n      <td>volkswagen-passat-cc-2-0-tdi-ID7H6OVd</td>\n      <td>radio,sistem audio</td>\n      <td>climatronic 2 zone,hardtop,jaluzele electrice ...</td>\n      <td>pilot automat,faruri bi-xenon,senzori parcare ...</td>\n      <td>jante aliaj 17</td>\n      <td>abs,esp,franare asistata,sistem asistenta fran...</td>\n      <td>privat</td>\n      <td>volkswagen</td>\n      <td>...</td>\n      <td>7000.0</td>\n      <td>NaN</td>\n      <td>NaN</td>\n      <td>5</td>\n      <td>NaN</td>\n      <td>are vin (serie sasiu): da</td>\n      <td>tara de origine: germania\\ninmatriculat: da\\nf...</td>\n      <td>norma de poluare: euro 4</td>\n      <td>marca: volkswagen\\nmodel: passat cc\\nversiune:...</td>\n      <td>5000.0</td>\n    </tr>\n    <tr>\n      <th>5</th>\n      <td>https://www.autovit.ro/autoturisme/anunt/volvo...</td>\n      <td>ID7H7558</td>\n      <td>volvo-xc-60-t8-twin-engine-awd-r-design-ID7H7558</td>\n      <td>apple carplay,android auto,bluetooth,radio,sis...</td>\n      <td>climatronic 2 zone,tapiterie piele,scaun sofer...</td>\n      <td>pilot automat adaptiv (distronic),faruri led,s...</td>\n      <td>jante aliaj 19,suspensie confort,suspensie spo...</td>\n      <td>abs,esp,ebd,franare asistata,sistem asistenta ...</td>\n      <td>firma</td>\n      <td>volvo</td>\n      <td>...</td>\n      <td>36878.0</td>\n      <td>NaN</td>\n      <td>NaN</td>\n      <td>6</td>\n      <td>NaN</td>\n      <td>are vin (serie sasiu): da\\nse emite factura: d...</td>\n      <td>tara de origine: suedia\\ndata primei inmatricu...</td>\n      <td>norma de poluare: euro 6</td>\n      <td>marca: volvo\\nmodel: xc 60\\nversiune: t8 twin ...</td>\n      <td>35000.0</td>\n    </tr>\n    <tr>\n      <th>6</th>\n      <td>https://www.autovit.ro/autoturisme/anunt/renau...</td>\n      <td>ID7Hab4z</td>\n      <td>renault-megane-dci-130-fap-coupe-cabriolet-dyn...</td>\n      <td>bluetooth,radio,sistem hands-free,port usb,sis...</td>\n      <td>climatronic 2 zone,hardtop,trapa electrica,tap...</td>\n      <td>senzori parcare spate,oglinzi exterioare cu re...</td>\n      <td>jante aliaj 17,suspensie sport</td>\n      <td>abs,esp,airbag sofer,airbag scaun pasager,airb...</td>\n      <td>firma</td>\n      <td>renault</td>\n      <td>...</td>\n      <td>5490.0</td>\n      <td>NaN</td>\n      <td>NaN</td>\n      <td>7</td>\n      <td>NaN</td>\n      <td>are vin (serie sasiu): da\\nse emite factura: d...</td>\n      <td>tara de origine: franta\\ndata primei inmatricu...</td>\n      <td>norma de poluare: euro 5</td>\n      <td>marca: renault\\nmodel: megane\\nversiune: dci 1...</td>\n      <td>5000.0</td>\n    </tr>\n    <tr>\n      <th>7</th>\n      <td>https://www.autovit.ro/autoturisme/anunt/renau...</td>\n      <td>ID7Hj7FQ</td>\n      <td>renault-talisman-ID7Hj7FQ</td>\n      <td>apple carplay,android auto,bluetooth,radio,sis...</td>\n      <td>carlig remorcare,climatronic,jaluzele manuale ...</td>\n      <td>pilot automat,senzori parcare fata,senzori par...</td>\n      <td>jante aliaj 19,anvelope vara</td>\n      <td>abs,esp,franare asistata,airbag sofer,airbag s...</td>\n      <td>firma</td>\n      <td>renault</td>\n      <td>...</td>\n      <td>17490.0</td>\n      <td>NaN</td>\n      <td>NaN</td>\n      <td>8</td>\n      <td>garantie dealer (inclusa in pret) 12 luni, sau...</td>\n      <td>are vin (serie sasiu): da\\nse emite factura: da</td>\n      <td>tara de origine: franta\\ndata primei inmatricu...</td>\n      <td>norma de poluare: euro 6\\nemisii co2: 120 g/km</td>\n      <td>marca: renault\\nmodel: talisman\\nanul producți...</td>\n      <td>15000.0</td>\n    </tr>\n    <tr>\n      <th>8</th>\n      <td>https://www.autovit.ro/autoturisme/anunt/ford-...</td>\n      <td>ID7HjkLu</td>\n      <td>ford-focus-turnier-1-0-ecoboost-start-stopp-sy...</td>\n      <td>bluetooth,radio,sistem hands-free,port usb,sis...</td>\n      <td>climatronic 2 zone,top stofa,tapiterie stofa,i...</td>\n      <td>pilot automat,senzori parcare fata,senzori par...</td>\n      <td>jante aliaj 16,anvelope vara</td>\n      <td>abs,esp,asistenta telefonica urgenta,apelare a...</td>\n      <td>privat</td>\n      <td>ford</td>\n      <td>...</td>\n      <td>4700.0</td>\n      <td>NaN</td>\n      <td>NaN</td>\n      <td>9</td>\n      <td>NaN</td>\n      <td>NaN</td>\n      <td>tara de origine: olanda\\nprimul proprietar (de...</td>\n      <td>norma de poluare: euro 5</td>\n      <td>marca: ford\\nmodel: focus\\nversiune: turnier 1...</td>\n      <td>0.0</td>\n    </tr>\n    <tr>\n      <th>9</th>\n      <td>https://www.autovit.ro/autoturisme/anunt/merce...</td>\n      <td>ID7HiJDL</td>\n      <td>mercedes-benz-e-280-cdi-4-matic-estate-ID7HiJDL</td>\n      <td>bluetooth,radio,sistem hands-free</td>\n      <td>climatronic,tapiterie stofa,scaun sofer ajusta...</td>\n      <td>pilot automat,oglinzi exterioare incalzite,lim...</td>\n      <td>jante aliaj 16,suspensie confort</td>\n      <td>abs,esp,franare asistata,airbag sofer,airbag s...</td>\n      <td>privat</td>\n      <td>mercedes-benz</td>\n      <td>...</td>\n      <td>23969.0</td>\n      <td>NaN</td>\n      <td>NaN</td>\n      <td>10</td>\n      <td>NaN</td>\n      <td>NaN</td>\n      <td>tara de origine: italia\\ninmatriculat: da</td>\n      <td>emisii co2: 191 g/km</td>\n      <td>marca: mercedes-benz\\nmodel: e\\nversiune: 280 ...</td>\n      <td>20000.0</td>\n    </tr>\n  </tbody>\n</table>\n<p>10 rows × 33 columns</p>\n</div>"
     },
     "execution_count": 3,
     "metadata": {},
     "output_type": "execute_result"
    }
   ],
   "source": [
    "df.head(10)"
   ],
   "metadata": {
    "collapsed": false,
    "ExecuteTime": {
     "end_time": "2024-04-17T13:50:53.998658Z",
     "start_time": "2024-04-17T13:50:53.985564Z"
    }
   },
   "id": "d3cacfae63618781",
   "execution_count": 3
  },
  {
   "cell_type": "code",
   "outputs": [
    {
     "name": "stdout",
     "output_type": "stream",
     "text": [
      "Initial number of rows: 31891\n",
      "Number of rows after filtering by year: 31835\n",
      "Number of rows after filtering by brand: 31805\n",
      "Number of rows after filtering by price: 31805\n"
     ]
    }
   ],
   "source": [
    "print(f\"Initial number of rows: {len(df)}\")\n",
    "df = df[df[\"anul producției\"] >= 2000]\n",
    "print(f\"Number of rows after filtering by year: {len(df)}\")\n",
    "temp_df = df[\"marca\"].value_counts()\n",
    "df = df[df[\"marca\"].isin(temp_df[temp_df >= 5].index)]\n",
    "print(f\"Number of rows after filtering by brand: {len(df)}\")\n",
    "df = df[df[\"price\"] <= 100_000]\n",
    "print(f\"Number of rows after filtering by price: {len(df)}\")"
   ],
   "metadata": {
    "collapsed": false,
    "ExecuteTime": {
     "end_time": "2024-04-17T13:50:54.031110Z",
     "start_time": "2024-04-17T13:50:53.999517Z"
    }
   },
   "id": "19b0fe5c26157e7a",
   "execution_count": 4
  },
  {
   "cell_type": "code",
   "outputs": [
    {
     "data": {
      "text/plain": "  oferit de          marca      model combustibil cutie de viteze  \\\n0     firma     volkswagen     tiguan      diesel        automata   \n1    privat  mercedes-benz        gla      diesel        automata   \n2     firma          lexus   seria nx      hibrid        automata   \n3     firma          volvo        v50      diesel         manuala   \n4    privat     volkswagen  passat cc      diesel         manuala   \n\n  tip caroserie        stare      km  putere  capacitate cilindrica  \\\n0           suv  second hand   84648     191                   1968   \n1           suv  second hand   43000     136                    214   \n2           suv  second hand   14799     185                   2487   \n3         combi  second hand  246000     115                   1560   \n4      compacta  second hand  227000     140                   1968   \n\n   anul producției    price  \n0             2019  28939.0  \n1             2017  21900.0  \n2             2023  61900.0  \n3             2010   3950.0  \n4             2009   7000.0  ",
      "text/html": "<div>\n<style scoped>\n    .dataframe tbody tr th:only-of-type {\n        vertical-align: middle;\n    }\n\n    .dataframe tbody tr th {\n        vertical-align: top;\n    }\n\n    .dataframe thead th {\n        text-align: right;\n    }\n</style>\n<table border=\"1\" class=\"dataframe\">\n  <thead>\n    <tr style=\"text-align: right;\">\n      <th></th>\n      <th>oferit de</th>\n      <th>marca</th>\n      <th>model</th>\n      <th>combustibil</th>\n      <th>cutie de viteze</th>\n      <th>tip caroserie</th>\n      <th>stare</th>\n      <th>km</th>\n      <th>putere</th>\n      <th>capacitate cilindrica</th>\n      <th>anul producției</th>\n      <th>price</th>\n    </tr>\n  </thead>\n  <tbody>\n    <tr>\n      <th>0</th>\n      <td>firma</td>\n      <td>volkswagen</td>\n      <td>tiguan</td>\n      <td>diesel</td>\n      <td>automata</td>\n      <td>suv</td>\n      <td>second hand</td>\n      <td>84648</td>\n      <td>191</td>\n      <td>1968</td>\n      <td>2019</td>\n      <td>28939.0</td>\n    </tr>\n    <tr>\n      <th>1</th>\n      <td>privat</td>\n      <td>mercedes-benz</td>\n      <td>gla</td>\n      <td>diesel</td>\n      <td>automata</td>\n      <td>suv</td>\n      <td>second hand</td>\n      <td>43000</td>\n      <td>136</td>\n      <td>214</td>\n      <td>2017</td>\n      <td>21900.0</td>\n    </tr>\n    <tr>\n      <th>2</th>\n      <td>firma</td>\n      <td>lexus</td>\n      <td>seria nx</td>\n      <td>hibrid</td>\n      <td>automata</td>\n      <td>suv</td>\n      <td>second hand</td>\n      <td>14799</td>\n      <td>185</td>\n      <td>2487</td>\n      <td>2023</td>\n      <td>61900.0</td>\n    </tr>\n    <tr>\n      <th>3</th>\n      <td>firma</td>\n      <td>volvo</td>\n      <td>v50</td>\n      <td>diesel</td>\n      <td>manuala</td>\n      <td>combi</td>\n      <td>second hand</td>\n      <td>246000</td>\n      <td>115</td>\n      <td>1560</td>\n      <td>2010</td>\n      <td>3950.0</td>\n    </tr>\n    <tr>\n      <th>4</th>\n      <td>privat</td>\n      <td>volkswagen</td>\n      <td>passat cc</td>\n      <td>diesel</td>\n      <td>manuala</td>\n      <td>compacta</td>\n      <td>second hand</td>\n      <td>227000</td>\n      <td>140</td>\n      <td>1968</td>\n      <td>2009</td>\n      <td>7000.0</td>\n    </tr>\n  </tbody>\n</table>\n</div>"
     },
     "execution_count": 5,
     "metadata": {},
     "output_type": "execute_result"
    }
   ],
   "source": [
    "categorical_columns = [\"oferit de\", \"marca\", \"model\", \"combustibil\", \"cutie de viteze\", \"tip caroserie\", \"stare\"]\n",
    "numeric_columns = [\"km\", \"putere\", \"capacitate cilindrica\", \"anul producției\"]\n",
    "\n",
    "df = df[categorical_columns + numeric_columns + [\"price\"]]\n",
    "\n",
    "df.head()\n",
    "# df.info()"
   ],
   "metadata": {
    "collapsed": false,
    "ExecuteTime": {
     "end_time": "2024-04-17T13:50:54.042069Z",
     "start_time": "2024-04-17T13:50:54.031955Z"
    }
   },
   "id": "d281fb640961cbe6",
   "execution_count": 5
  },
  {
   "cell_type": "code",
   "outputs": [],
   "source": [
    "df.to_csv(\"rocar_filtered.csv\", index=False)"
   ],
   "metadata": {
    "collapsed": false,
    "ExecuteTime": {
     "end_time": "2024-04-17T13:50:54.118104Z",
     "start_time": "2024-04-17T13:50:54.042806Z"
    }
   },
   "id": "ec68a4991688ee8",
   "execution_count": 6
  },
  {
   "cell_type": "code",
   "outputs": [],
   "source": [
    "df = pd.read_csv(\"rocar_filtered.csv\")"
   ],
   "metadata": {
    "collapsed": false,
    "ExecuteTime": {
     "end_time": "2024-04-17T13:50:54.144427Z",
     "start_time": "2024-04-17T13:50:54.118925Z"
    }
   },
   "id": "36617fd09b96b2",
   "execution_count": 7
  },
  {
   "cell_type": "code",
   "outputs": [
    {
     "data": {
      "text/plain": "         km    putere  capacitate cilindrica  anul producției\n0 -0.721908  0.277182               0.299524         0.619482\n1 -1.198927 -0.435740              -2.215379         0.187350\n2 -1.521930  0.199408               1.043671         1.483746\n3  1.126151 -0.707946              -0.285471        -1.325112\n4  0.908533 -0.383891               0.299524        -1.541178",
      "text/html": "<div>\n<style scoped>\n    .dataframe tbody tr th:only-of-type {\n        vertical-align: middle;\n    }\n\n    .dataframe tbody tr th {\n        vertical-align: top;\n    }\n\n    .dataframe thead th {\n        text-align: right;\n    }\n</style>\n<table border=\"1\" class=\"dataframe\">\n  <thead>\n    <tr style=\"text-align: right;\">\n      <th></th>\n      <th>km</th>\n      <th>putere</th>\n      <th>capacitate cilindrica</th>\n      <th>anul producției</th>\n    </tr>\n  </thead>\n  <tbody>\n    <tr>\n      <th>0</th>\n      <td>-0.721908</td>\n      <td>0.277182</td>\n      <td>0.299524</td>\n      <td>0.619482</td>\n    </tr>\n    <tr>\n      <th>1</th>\n      <td>-1.198927</td>\n      <td>-0.435740</td>\n      <td>-2.215379</td>\n      <td>0.187350</td>\n    </tr>\n    <tr>\n      <th>2</th>\n      <td>-1.521930</td>\n      <td>0.199408</td>\n      <td>1.043671</td>\n      <td>1.483746</td>\n    </tr>\n    <tr>\n      <th>3</th>\n      <td>1.126151</td>\n      <td>-0.707946</td>\n      <td>-0.285471</td>\n      <td>-1.325112</td>\n    </tr>\n    <tr>\n      <th>4</th>\n      <td>0.908533</td>\n      <td>-0.383891</td>\n      <td>0.299524</td>\n      <td>-1.541178</td>\n    </tr>\n  </tbody>\n</table>\n</div>"
     },
     "execution_count": 8,
     "metadata": {},
     "output_type": "execute_result"
    }
   ],
   "source": [
    "from sklearn.preprocessing import StandardScaler\n",
    "\n",
    "scaler = StandardScaler()\n",
    "\n",
    "numeric_columns_df = scaler.fit_transform(df[numeric_columns])\n",
    "numeric_columns_df = pd.DataFrame(numeric_columns_df, columns=numeric_columns)\n",
    "numeric_columns_df.head(5)"
   ],
   "metadata": {
    "collapsed": false,
    "ExecuteTime": {
     "end_time": "2024-04-17T13:50:54.216135Z",
     "start_time": "2024-04-17T13:50:54.151646Z"
    }
   },
   "id": "ea445c1636a14224",
   "execution_count": 8
  },
  {
   "cell_type": "code",
   "outputs": [
    {
     "data": {
      "text/plain": "   oferit de     marca     model  combustibil  cutie de viteze  tip caroserie  \\\n0   0.848598 -0.661204 -0.209902    -0.411496         0.798167       0.937823   \n1  -1.178414  1.780279  1.347379    -0.411496         0.798167       0.937823   \n2   0.848598  1.710198  1.043145     2.461105         0.798167       0.937823   \n3   0.848598  0.573906 -0.430566    -0.411496        -1.252871      -1.255128   \n4  -1.178414 -0.661204 -0.836043    -0.411496        -1.252871      -1.233489   \n\n      stare  \n0 -0.212892  \n1 -0.212892  \n2 -0.212892  \n3 -0.212892  \n4 -0.212892  ",
      "text/html": "<div>\n<style scoped>\n    .dataframe tbody tr th:only-of-type {\n        vertical-align: middle;\n    }\n\n    .dataframe tbody tr th {\n        vertical-align: top;\n    }\n\n    .dataframe thead th {\n        text-align: right;\n    }\n</style>\n<table border=\"1\" class=\"dataframe\">\n  <thead>\n    <tr style=\"text-align: right;\">\n      <th></th>\n      <th>oferit de</th>\n      <th>marca</th>\n      <th>model</th>\n      <th>combustibil</th>\n      <th>cutie de viteze</th>\n      <th>tip caroserie</th>\n      <th>stare</th>\n    </tr>\n  </thead>\n  <tbody>\n    <tr>\n      <th>0</th>\n      <td>0.848598</td>\n      <td>-0.661204</td>\n      <td>-0.209902</td>\n      <td>-0.411496</td>\n      <td>0.798167</td>\n      <td>0.937823</td>\n      <td>-0.212892</td>\n    </tr>\n    <tr>\n      <th>1</th>\n      <td>-1.178414</td>\n      <td>1.780279</td>\n      <td>1.347379</td>\n      <td>-0.411496</td>\n      <td>0.798167</td>\n      <td>0.937823</td>\n      <td>-0.212892</td>\n    </tr>\n    <tr>\n      <th>2</th>\n      <td>0.848598</td>\n      <td>1.710198</td>\n      <td>1.043145</td>\n      <td>2.461105</td>\n      <td>0.798167</td>\n      <td>0.937823</td>\n      <td>-0.212892</td>\n    </tr>\n    <tr>\n      <th>3</th>\n      <td>0.848598</td>\n      <td>0.573906</td>\n      <td>-0.430566</td>\n      <td>-0.411496</td>\n      <td>-1.252871</td>\n      <td>-1.255128</td>\n      <td>-0.212892</td>\n    </tr>\n    <tr>\n      <th>4</th>\n      <td>-1.178414</td>\n      <td>-0.661204</td>\n      <td>-0.836043</td>\n      <td>-0.411496</td>\n      <td>-1.252871</td>\n      <td>-1.233489</td>\n      <td>-0.212892</td>\n    </tr>\n  </tbody>\n</table>\n</div>"
     },
     "execution_count": 9,
     "metadata": {},
     "output_type": "execute_result"
    }
   ],
   "source": [
    "import category_encoders as ce\n",
    "\n",
    "target_encoder = ce.TargetEncoder(cols=categorical_columns)\n",
    "df_encoded = target_encoder.fit_transform(df[categorical_columns], df[\"price\"])\n",
    "df_encoded = scaler.fit_transform(df_encoded)\n",
    "df_encoded = pd.DataFrame(df_encoded, columns=categorical_columns)\n",
    "\n",
    "df_encoded.head(5)"
   ],
   "metadata": {
    "collapsed": false,
    "ExecuteTime": {
     "end_time": "2024-04-17T13:50:54.389634Z",
     "start_time": "2024-04-17T13:50:54.216725Z"
    }
   },
   "id": "f6dc38256f2e4b66",
   "execution_count": 9
  },
  {
   "cell_type": "code",
   "outputs": [
    {
     "data": {
      "text/plain": "         km    putere  capacitate cilindrica  anul producției  oferit de  \\\n0 -0.721908  0.277182               0.299524         0.619482   0.848598   \n1 -1.198927 -0.435740              -2.215379         0.187350  -1.178414   \n2 -1.521930  0.199408               1.043671         1.483746   0.848598   \n3  1.126151 -0.707946              -0.285471        -1.325112   0.848598   \n4  0.908533 -0.383891               0.299524        -1.541178  -1.178414   \n\n      marca     model  combustibil  cutie de viteze  tip caroserie     stare  \\\n0 -0.661204 -0.209902    -0.411496         0.798167       0.937823 -0.212892   \n1  1.780279  1.347379    -0.411496         0.798167       0.937823 -0.212892   \n2  1.710198  1.043145     2.461105         0.798167       0.937823 -0.212892   \n3  0.573906 -0.430566    -0.411496        -1.252871      -1.255128 -0.212892   \n4 -0.661204 -0.836043    -0.411496        -1.252871      -1.233489 -0.212892   \n\n     price  \n0  28939.0  \n1  21900.0  \n2  61900.0  \n3   3950.0  \n4   7000.0  ",
      "text/html": "<div>\n<style scoped>\n    .dataframe tbody tr th:only-of-type {\n        vertical-align: middle;\n    }\n\n    .dataframe tbody tr th {\n        vertical-align: top;\n    }\n\n    .dataframe thead th {\n        text-align: right;\n    }\n</style>\n<table border=\"1\" class=\"dataframe\">\n  <thead>\n    <tr style=\"text-align: right;\">\n      <th></th>\n      <th>km</th>\n      <th>putere</th>\n      <th>capacitate cilindrica</th>\n      <th>anul producției</th>\n      <th>oferit de</th>\n      <th>marca</th>\n      <th>model</th>\n      <th>combustibil</th>\n      <th>cutie de viteze</th>\n      <th>tip caroserie</th>\n      <th>stare</th>\n      <th>price</th>\n    </tr>\n  </thead>\n  <tbody>\n    <tr>\n      <th>0</th>\n      <td>-0.721908</td>\n      <td>0.277182</td>\n      <td>0.299524</td>\n      <td>0.619482</td>\n      <td>0.848598</td>\n      <td>-0.661204</td>\n      <td>-0.209902</td>\n      <td>-0.411496</td>\n      <td>0.798167</td>\n      <td>0.937823</td>\n      <td>-0.212892</td>\n      <td>28939.0</td>\n    </tr>\n    <tr>\n      <th>1</th>\n      <td>-1.198927</td>\n      <td>-0.435740</td>\n      <td>-2.215379</td>\n      <td>0.187350</td>\n      <td>-1.178414</td>\n      <td>1.780279</td>\n      <td>1.347379</td>\n      <td>-0.411496</td>\n      <td>0.798167</td>\n      <td>0.937823</td>\n      <td>-0.212892</td>\n      <td>21900.0</td>\n    </tr>\n    <tr>\n      <th>2</th>\n      <td>-1.521930</td>\n      <td>0.199408</td>\n      <td>1.043671</td>\n      <td>1.483746</td>\n      <td>0.848598</td>\n      <td>1.710198</td>\n      <td>1.043145</td>\n      <td>2.461105</td>\n      <td>0.798167</td>\n      <td>0.937823</td>\n      <td>-0.212892</td>\n      <td>61900.0</td>\n    </tr>\n    <tr>\n      <th>3</th>\n      <td>1.126151</td>\n      <td>-0.707946</td>\n      <td>-0.285471</td>\n      <td>-1.325112</td>\n      <td>0.848598</td>\n      <td>0.573906</td>\n      <td>-0.430566</td>\n      <td>-0.411496</td>\n      <td>-1.252871</td>\n      <td>-1.255128</td>\n      <td>-0.212892</td>\n      <td>3950.0</td>\n    </tr>\n    <tr>\n      <th>4</th>\n      <td>0.908533</td>\n      <td>-0.383891</td>\n      <td>0.299524</td>\n      <td>-1.541178</td>\n      <td>-1.178414</td>\n      <td>-0.661204</td>\n      <td>-0.836043</td>\n      <td>-0.411496</td>\n      <td>-1.252871</td>\n      <td>-1.233489</td>\n      <td>-0.212892</td>\n      <td>7000.0</td>\n    </tr>\n  </tbody>\n</table>\n</div>"
     },
     "execution_count": 10,
     "metadata": {},
     "output_type": "execute_result"
    }
   ],
   "source": [
    "df = pd.concat([numeric_columns_df, df_encoded, df[\"price\"]], axis=1)\n",
    "df.head(5)"
   ],
   "metadata": {
    "collapsed": false,
    "ExecuteTime": {
     "end_time": "2024-04-17T13:50:54.397366Z",
     "start_time": "2024-04-17T13:50:54.390439Z"
    }
   },
   "id": "6619043a678671d8",
   "execution_count": 10
  },
  {
   "cell_type": "code",
   "outputs": [
    {
     "name": "stdout",
     "output_type": "stream",
     "text": [
      "Number of unique stratify keys: 6545\n"
     ]
    }
   ],
   "source": [
    "stratify_columns = [\"anul producției\", \"marca\", \"combustibil\", \"cutie de viteze\", \"tip caroserie\", \"stare\"]\n",
    "df[\"stratify_key\"] = df[stratify_columns].astype(str).agg(\"_\".join, axis=1)\n",
    "\n",
    "df.head(5)\n",
    "\n",
    "# print the number of unique stratify keys\n",
    "print(f'Number of unique stratify keys: {len(df[\"stratify_key\"].unique())}')"
   ],
   "metadata": {
    "collapsed": false,
    "ExecuteTime": {
     "end_time": "2024-04-17T13:50:54.563709Z",
     "start_time": "2024-04-17T13:50:54.398251Z"
    }
   },
   "id": "574ad5078a81f82e",
   "execution_count": 11
  },
  {
   "cell_type": "code",
   "outputs": [
    {
     "name": "stdout",
     "output_type": "stream",
     "text": [
      "Number of rows before removing outliers: 31805\n",
      "Number of rows after removing outliers: 28907\n",
      "Number of unique stratify keys: 3647\n"
     ]
    }
   ],
   "source": [
    "print(f\"Number of rows before removing outliers: {len(df)}\")\n",
    "df = df[df[\"stratify_key\"].map(df[\"stratify_key\"].value_counts()) > 1]\n",
    "print(f\"Number of rows after removing outliers: {len(df)}\")\n",
    "print(f'Number of unique stratify keys: {len(df[\"stratify_key\"].unique())}')"
   ],
   "metadata": {
    "collapsed": false,
    "ExecuteTime": {
     "end_time": "2024-04-17T13:50:54.625853Z",
     "start_time": "2024-04-17T13:50:54.564604Z"
    }
   },
   "id": "c7b7a0c3c277b980",
   "execution_count": 12
  },
  {
   "cell_type": "code",
   "outputs": [],
   "source": [
    "from sklearn.model_selection import StratifiedShuffleSplit\n",
    "\n",
    "sss = StratifiedShuffleSplit(n_splits=1, test_size=0.2, random_state=42)"
   ],
   "metadata": {
    "collapsed": false,
    "ExecuteTime": {
     "end_time": "2024-04-17T13:50:54.665144Z",
     "start_time": "2024-04-17T13:50:54.626447Z"
    }
   },
   "id": "26eab9d08ba1ffd4",
   "execution_count": 13
  },
  {
   "cell_type": "code",
   "outputs": [
    {
     "data": {
      "text/plain": "             km    putere  capacitate cilindrica  anul producției  oferit de  \\\n18796  0.627920 -0.383891               0.341104        -1.541178  -1.178414   \n26372 -0.946948  0.264219               0.299524        -0.244782  -1.178414   \n16218 -1.176638 -1.226434              -0.427418         0.835548   0.848598   \n28436  0.993598  0.627161               0.338237        -0.244782   0.848598   \n23925  0.198410  2.856660               1.773481         0.187350  -1.178414   \n\n          marca     model  combustibil  cutie de viteze  tip caroserie  \\\n18796 -0.619360 -0.175186    -0.411496        -1.252871       0.937823   \n26372  0.311413  0.383722    -0.411496         0.798167       0.937823   \n16218 -1.125485 -1.145200    -0.411496        -1.252871      -1.603096   \n28436  0.661819  1.415099    -0.411496         0.798167       0.937823   \n23925  1.780279  3.020838     0.183477         0.798167       0.937823   \n\n          stare    price  \n18796 -0.212892   6200.0  \n26372 -0.212892  28700.0  \n16218 -0.212892   9650.0  \n28436 -0.212892  22999.0  \n23925 -0.212892  28500.0  ",
      "text/html": "<div>\n<style scoped>\n    .dataframe tbody tr th:only-of-type {\n        vertical-align: middle;\n    }\n\n    .dataframe tbody tr th {\n        vertical-align: top;\n    }\n\n    .dataframe thead th {\n        text-align: right;\n    }\n</style>\n<table border=\"1\" class=\"dataframe\">\n  <thead>\n    <tr style=\"text-align: right;\">\n      <th></th>\n      <th>km</th>\n      <th>putere</th>\n      <th>capacitate cilindrica</th>\n      <th>anul producției</th>\n      <th>oferit de</th>\n      <th>marca</th>\n      <th>model</th>\n      <th>combustibil</th>\n      <th>cutie de viteze</th>\n      <th>tip caroserie</th>\n      <th>stare</th>\n      <th>price</th>\n    </tr>\n  </thead>\n  <tbody>\n    <tr>\n      <th>18796</th>\n      <td>0.627920</td>\n      <td>-0.383891</td>\n      <td>0.341104</td>\n      <td>-1.541178</td>\n      <td>-1.178414</td>\n      <td>-0.619360</td>\n      <td>-0.175186</td>\n      <td>-0.411496</td>\n      <td>-1.252871</td>\n      <td>0.937823</td>\n      <td>-0.212892</td>\n      <td>6200.0</td>\n    </tr>\n    <tr>\n      <th>26372</th>\n      <td>-0.946948</td>\n      <td>0.264219</td>\n      <td>0.299524</td>\n      <td>-0.244782</td>\n      <td>-1.178414</td>\n      <td>0.311413</td>\n      <td>0.383722</td>\n      <td>-0.411496</td>\n      <td>0.798167</td>\n      <td>0.937823</td>\n      <td>-0.212892</td>\n      <td>28700.0</td>\n    </tr>\n    <tr>\n      <th>16218</th>\n      <td>-1.176638</td>\n      <td>-1.226434</td>\n      <td>-0.427418</td>\n      <td>0.835548</td>\n      <td>0.848598</td>\n      <td>-1.125485</td>\n      <td>-1.145200</td>\n      <td>-0.411496</td>\n      <td>-1.252871</td>\n      <td>-1.603096</td>\n      <td>-0.212892</td>\n      <td>9650.0</td>\n    </tr>\n    <tr>\n      <th>28436</th>\n      <td>0.993598</td>\n      <td>0.627161</td>\n      <td>0.338237</td>\n      <td>-0.244782</td>\n      <td>0.848598</td>\n      <td>0.661819</td>\n      <td>1.415099</td>\n      <td>-0.411496</td>\n      <td>0.798167</td>\n      <td>0.937823</td>\n      <td>-0.212892</td>\n      <td>22999.0</td>\n    </tr>\n    <tr>\n      <th>23925</th>\n      <td>0.198410</td>\n      <td>2.856660</td>\n      <td>1.773481</td>\n      <td>0.187350</td>\n      <td>-1.178414</td>\n      <td>1.780279</td>\n      <td>3.020838</td>\n      <td>0.183477</td>\n      <td>0.798167</td>\n      <td>0.937823</td>\n      <td>-0.212892</td>\n      <td>28500.0</td>\n    </tr>\n  </tbody>\n</table>\n</div>"
     },
     "execution_count": 14,
     "metadata": {},
     "output_type": "execute_result"
    }
   ],
   "source": [
    "for train_index, test_index in sss.split(df, df[\"stratify_key\"]):\n",
    "    train_set = df.iloc[train_index]\n",
    "    test_set = df.iloc[test_index]\n",
    "\n",
    "train_df = train_set.drop(\"stratify_key\", axis=1)\n",
    "test_df = test_set.drop(\"stratify_key\", axis=1)\n",
    "\n",
    "train_df.head(5)"
   ],
   "metadata": {
    "collapsed": false,
    "ExecuteTime": {
     "end_time": "2024-04-17T13:50:54.704681Z",
     "start_time": "2024-04-17T13:50:54.665815Z"
    }
   },
   "id": "3a0e57fa3bd4abc6",
   "execution_count": 14
  },
  {
   "cell_type": "code",
   "outputs": [],
   "source": [
    "train_df.to_csv(\"rocar_train.csv\", index=False)\n",
    "test_df.to_csv(\"rocar_test.csv\", index=False)"
   ],
   "metadata": {
    "collapsed": false,
    "ExecuteTime": {
     "end_time": "2024-04-17T13:50:54.944110Z",
     "start_time": "2024-04-17T13:50:54.705454Z"
    }
   },
   "id": "abe49ad7ac60f3fe",
   "execution_count": 15
  }
 ],
 "metadata": {
  "kernelspec": {
   "display_name": "Python 3",
   "language": "python",
   "name": "python3"
  },
  "language_info": {
   "codemirror_mode": {
    "name": "ipython",
    "version": 2
   },
   "file_extension": ".py",
   "mimetype": "text/x-python",
   "name": "python",
   "nbconvert_exporter": "python",
   "pygments_lexer": "ipython2",
   "version": "2.7.6"
  }
 },
 "nbformat": 4,
 "nbformat_minor": 5
}
