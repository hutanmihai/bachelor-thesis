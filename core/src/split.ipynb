{
 "cells": [
  {
   "cell_type": "code",
   "execution_count": null,
   "id": "initial_id",
   "metadata": {
    "collapsed": true
   },
   "outputs": [],
   "source": [
    "from constants import ROCAR_CSV\n",
    "import pandas as pd\n",
    "import pickle\n",
    "from constants import ENCODER_PATH, CATEGORICAL_SCALER_PATH, NUMERICAL_SCALER_PATH, TRAIN_DATA_CSV, TEST_DATA_CSV, TARGET_SCALER_PATH"
   ]
  },
  {
   "cell_type": "code",
   "outputs": [],
   "source": [
    "df = pd.read_csv(\n",
    "    ROCAR_CSV,\n",
    "    dtype={\n",
    "        \"unique_id\": str,\n",
    "        \"price\": int,\n",
    "        \"marca\": str,\n",
    "        \"model\": str,\n",
    "        \"anul producției\": int,\n",
    "        \"km\": int,\n",
    "        \"putere\": int,\n",
    "        \"capacitate cilindrica\": int,\n",
    "        \"combustibil\": str,\n",
    "        \"tip caroserie\": str,\n",
    "        \"is_automatic\": bool,\n",
    "        \"firma\": bool,\n",
    "        \"transmisie\": str,\n",
    "        \"input\": str,\n",
    "    },\n",
    ")\n",
    "df.info()"
   ],
   "metadata": {
    "collapsed": false
   },
   "id": "4de9906819ff94e8",
   "execution_count": null
  },
  {
   "cell_type": "code",
   "outputs": [],
   "source": [
    "df.head(10)"
   ],
   "metadata": {
    "collapsed": false
   },
   "id": "d3cacfae63618781",
   "execution_count": null
  },
  {
   "cell_type": "code",
   "outputs": [],
   "source": [
    "df.info()"
   ],
   "metadata": {
    "collapsed": false
   },
   "id": "e8be9c3b3e231bc",
   "execution_count": null
  },
  {
   "cell_type": "code",
   "outputs": [],
   "source": [
    "categorical_columns = [\"marca\", \"model\", \"combustibil\", \"tip caroserie\"]\n",
    "numeric_columns = [\"km\", \"putere\", \"capacitate cilindrica\", \"anul producției\"]"
   ],
   "metadata": {
    "collapsed": false
   },
   "id": "d281fb640961cbe6",
   "execution_count": null
  },
  {
   "cell_type": "markdown",
   "source": [
    "# FORMAT YEAR OF PRODUCTION AS CURRENT_YEAR - YEAR_OF_PRODUCTION"
   ],
   "metadata": {
    "collapsed": false
   },
   "id": "ee6002d0c6178fea"
  },
  {
   "cell_type": "code",
   "outputs": [],
   "source": [
    "df[\"anul producției\"] = 2024 - df[\"anul producției\"]\n",
    "\n",
    "df.head(5)"
   ],
   "metadata": {
    "collapsed": false
   },
   "id": "3fdb2c1f26b88cc6",
   "execution_count": null
  },
  {
   "cell_type": "markdown",
   "source": [
    "# FORMAT BOOLEAN COLUMNS AS 0 AND 1"
   ],
   "metadata": {
    "collapsed": false
   },
   "id": "cf7afe7dd4dba0ad"
  },
  {
   "cell_type": "code",
   "outputs": [],
   "source": [
    "BOOLEAN_COLUMNS = [\"is_automatic\", \"firma\"]\n",
    "\n",
    "for column in BOOLEAN_COLUMNS:\n",
    "    df[column] = df[column].astype(int)\n",
    "\n",
    "df.head(5)"
   ],
   "metadata": {
    "collapsed": false
   },
   "id": "bdf1697f9cfbee32",
   "execution_count": null
  },
  {
   "cell_type": "markdown",
   "source": [
    "# Encode categorical columns"
   ],
   "metadata": {
    "collapsed": false
   },
   "id": "d36161874face393"
  },
  {
   "cell_type": "code",
   "outputs": [],
   "source": [
    "import category_encoders as ce\n",
    "\n",
    "target_encoder = ce.TargetEncoder(cols=categorical_columns)\n",
    "df_encoded = target_encoder.fit_transform(df[categorical_columns], df[\"price\"])\n",
    "df_encoded.head(5)\n",
    "\n",
    "with open(ENCODER_PATH, \"wb\") as f:\n",
    "    pickle.dump(target_encoder, f)\n",
    "\n",
    "print(len(df_encoded))"
   ],
   "metadata": {
    "collapsed": false
   },
   "id": "f6dc38256f2e4b66",
   "execution_count": null
  },
  {
   "cell_type": "markdown",
   "source": [
    "# Normalize numeric columns and encoded categorical columns"
   ],
   "metadata": {
    "collapsed": false
   },
   "id": "ee89d061530fd7f6"
  },
  {
   "cell_type": "code",
   "outputs": [],
   "source": [
    "from sklearn.preprocessing import StandardScaler\n",
    "\n",
    "scaler = StandardScaler()\n",
    "\n",
    "numeric_columns_df = scaler.fit_transform(df[numeric_columns])\n",
    "numeric_columns_df = pd.DataFrame(numeric_columns_df, columns=numeric_columns)\n",
    "numeric_columns_df.head(5)\n",
    "\n",
    "with open(NUMERICAL_SCALER_PATH, \"wb\") as f:\n",
    "    pickle.dump(scaler, f)\n",
    "\n",
    "scaler = StandardScaler()\n",
    "\n",
    "df_encoded = scaler.fit_transform(df_encoded)\n",
    "df_encoded = pd.DataFrame(df_encoded, columns=categorical_columns)\n",
    "df_encoded.head(5)\n",
    "\n",
    "with open(CATEGORICAL_SCALER_PATH, \"wb\") as f:\n",
    "    pickle.dump(scaler, f)\n",
    "\n",
    "print(len(numeric_columns_df))"
   ],
   "metadata": {
    "collapsed": false
   },
   "id": "64e1896da80e6570",
   "execution_count": null
  },
  {
   "cell_type": "markdown",
   "source": [
    "# Normalize the target column"
   ],
   "metadata": {
    "collapsed": false
   },
   "id": "606536b9616d368b"
  },
  {
   "cell_type": "code",
   "outputs": [],
   "source": [
    "target_scaler = StandardScaler()\n",
    "\n",
    "# target_column_df = target_scaler.fit_transform(df[\"price\"].values.reshape(-1, 1))\n",
    "target_column_df = target_scaler.fit_transform(df[\"price\"].values.reshape(-1, 1))\n",
    "target_column_df = pd.DataFrame(target_column_df, columns=[\"price_std\"])\n",
    "target_column_df.head(5)\n",
    "\n",
    "with open(TARGET_SCALER_PATH, \"wb\") as f:\n",
    "    pickle.dump(target_scaler, f)"
   ],
   "metadata": {
    "collapsed": false
   },
   "id": "8ffcda453f2c0d2c",
   "execution_count": null
  },
  {
   "cell_type": "code",
   "outputs": [],
   "source": [
    "# TODO: ignoring culoare, optiuni culoare, and transmisie for now\n",
    "\n",
    "df = pd.concat([numeric_columns_df, df_encoded, df[\"price\"], target_column_df, df[\"firma\"], df[\"is_automatic\"], df[\"input\"], df[\"unique_id\"]], axis=1)\n",
    "df.head(20)"
   ],
   "metadata": {
    "collapsed": false
   },
   "id": "6619043a678671d8",
   "execution_count": null
  },
  {
   "cell_type": "code",
   "outputs": [],
   "source": [
    "stratify_columns = [\"marca\", \"model\", \"combustibil\", \"tip caroserie\", \"is_automatic\", \"firma\"]\n",
    "\n",
    "df[\"stratify_key\"] = df[stratify_columns].astype(str).agg(\"_\".join, axis=1)\n",
    "df.head(5)\n",
    "\n",
    "# print the number of unique stratify keys\n",
    "print(f'Number of unique stratify keys: {len(df[\"stratify_key\"].unique())}')"
   ],
   "metadata": {
    "collapsed": false
   },
   "id": "574ad5078a81f82e",
   "execution_count": null
  },
  {
   "cell_type": "code",
   "outputs": [],
   "source": [
    "print(f\"Number of rows before removing outliers: {len(df)}\")\n",
    "df = df[df[\"stratify_key\"].map(df[\"stratify_key\"].value_counts()) > 1]\n",
    "print(f\"Number of rows after removing outliers: {len(df)}\")\n",
    "print(f'Number of unique stratify keys: {len(df[\"stratify_key\"].unique())}')"
   ],
   "metadata": {
    "collapsed": false
   },
   "id": "c7b7a0c3c277b980",
   "execution_count": null
  },
  {
   "cell_type": "code",
   "outputs": [],
   "source": [
    "from sklearn.model_selection import StratifiedShuffleSplit\n",
    "\n",
    "sss = StratifiedShuffleSplit(n_splits=1, test_size=0.2, random_state=42)"
   ],
   "metadata": {
    "collapsed": false
   },
   "id": "26eab9d08ba1ffd4",
   "execution_count": null
  },
  {
   "cell_type": "code",
   "outputs": [],
   "source": [
    "for train_index, test_index in sss.split(df, df[\"stratify_key\"]):\n",
    "    train_set = df.iloc[train_index]\n",
    "    test_set = df.iloc[test_index]\n",
    "\n",
    "train_df = train_set.drop(\"stratify_key\", axis=1)\n",
    "test_df = test_set.drop(\"stratify_key\", axis=1)\n",
    "\n",
    "train_df.head(5)"
   ],
   "metadata": {
    "collapsed": false
   },
   "id": "3a0e57fa3bd4abc6",
   "execution_count": null
  },
  {
   "cell_type": "code",
   "outputs": [],
   "source": [
    "train_df.info()"
   ],
   "metadata": {
    "collapsed": false
   },
   "id": "b9869b73d537e30c",
   "execution_count": null
  },
  {
   "cell_type": "code",
   "outputs": [],
   "source": [
    "train_df.to_csv(TRAIN_DATA_CSV, index=False)\n",
    "test_df.to_csv(TEST_DATA_CSV, index=False)"
   ],
   "metadata": {
    "collapsed": false
   },
   "id": "abe49ad7ac60f3fe",
   "execution_count": null
  },
  {
   "cell_type": "markdown",
   "source": [
    "# Show the distribution of the price column in each dataset"
   ],
   "metadata": {
    "collapsed": false
   },
   "id": "f71a0a768d19f12e"
  },
  {
   "cell_type": "code",
   "outputs": [],
   "source": [
    "import matplotlib.pyplot as plt\n",
    "\n",
    "fig, ax = plt.subplots(1, 2, figsize=(15, 5))\n",
    "\n",
    "train_df[\"price\"].plot(kind=\"hist\", ax=ax[0], title=\"Train dataset\")\n",
    "test_df[\"price\"].plot(kind=\"hist\", ax=ax[1], title=\"Test dataset\")\n",
    "\n",
    "plt.show()"
   ],
   "metadata": {
    "collapsed": false
   },
   "id": "3f427c4bfe5b9ae",
   "execution_count": null
  }
 ],
 "metadata": {
  "kernelspec": {
   "display_name": "Python 3",
   "language": "python",
   "name": "python3"
  },
  "language_info": {
   "codemirror_mode": {
    "name": "ipython",
    "version": 2
   },
   "file_extension": ".py",
   "mimetype": "text/x-python",
   "name": "python",
   "nbconvert_exporter": "python",
   "pygments_lexer": "ipython2",
   "version": "2.7.6"
  }
 },
 "nbformat": 4,
 "nbformat_minor": 5
}
