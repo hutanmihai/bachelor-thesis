{
 "cells": [
  {
   "cell_type": "code",
   "execution_count": null,
   "id": "initial_id",
   "metadata": {
    "collapsed": true
   },
   "outputs": [],
   "source": [
    "from constants import ROCAR_CSV\n",
    "import pandas as pd"
   ]
  },
  {
   "cell_type": "code",
   "outputs": [],
   "source": [
    "df = pd.read_csv(ROCAR_CSV)\n",
    "df.info()"
   ],
   "metadata": {
    "collapsed": false
   },
   "id": "4de9906819ff94e8",
   "execution_count": null
  },
  {
   "cell_type": "code",
   "outputs": [],
   "source": [
    "df.head(10)"
   ],
   "metadata": {
    "collapsed": false
   },
   "id": "d3cacfae63618781",
   "execution_count": null
  },
  {
   "cell_type": "code",
   "outputs": [],
   "source": [
    "print(f\"Initial number of rows: {len(df)}\")\n",
    "df = df[df[\"anul producției\"] >= 2000]\n",
    "print(f\"Number of rows after filtering by year: {len(df)}\")\n",
    "temp_df = df[\"marca\"].value_counts()\n",
    "df = df[df[\"marca\"].isin(temp_df[temp_df >= 5].index)]\n",
    "print(f\"Number of rows after filtering by brand: {len(df)}\")\n",
    "df = df[df[\"price\"] <= 100_000]\n",
    "print(f\"Number of rows after filtering by price: {len(df)}\")"
   ],
   "metadata": {
    "collapsed": false
   },
   "id": "19b0fe5c26157e7a",
   "execution_count": null
  },
  {
   "cell_type": "code",
   "outputs": [],
   "source": [
    "categorical_columns = [\"oferit de\", \"marca\", \"model\", \"combustibil\", \"cutie de viteze\", \"tip caroserie\", \"stare\"]\n",
    "numeric_columns = [\"km\", \"putere\", \"capacitate cilindrica\", \"anul producției\"]\n",
    "\n",
    "df = df[categorical_columns + numeric_columns + [\"price\"]]\n",
    "\n",
    "df.head()\n",
    "# df.info()"
   ],
   "metadata": {
    "collapsed": false
   },
   "id": "d281fb640961cbe6",
   "execution_count": null
  },
  {
   "cell_type": "code",
   "outputs": [],
   "source": [
    "df.to_csv(\"rocar_filtered.csv\", index=False)"
   ],
   "metadata": {
    "collapsed": false
   },
   "id": "ec68a4991688ee8",
   "execution_count": null
  },
  {
   "cell_type": "code",
   "outputs": [],
   "source": [
    "df = pd.read_csv(\"rocar_filtered.csv\")"
   ],
   "metadata": {
    "collapsed": false
   },
   "id": "36617fd09b96b2",
   "execution_count": null
  },
  {
   "cell_type": "code",
   "outputs": [],
   "source": [
    "from sklearn.preprocessing import StandardScaler\n",
    "\n",
    "scaler = StandardScaler()\n",
    "\n",
    "numeric_columns_df = scaler.fit_transform(df[numeric_columns])\n",
    "numeric_columns_df = pd.DataFrame(numeric_columns_df, columns=numeric_columns)\n",
    "numeric_columns_df.head(5)"
   ],
   "metadata": {
    "collapsed": false
   },
   "id": "ea445c1636a14224",
   "execution_count": null
  },
  {
   "cell_type": "code",
   "outputs": [],
   "source": [
    "import category_encoders as ce\n",
    "\n",
    "target_encoder = ce.TargetEncoder(cols=categorical_columns)\n",
    "df_encoded = target_encoder.fit_transform(df[categorical_columns], df[\"price\"])\n",
    "df_encoded = scaler.fit_transform(df_encoded)\n",
    "df_encoded = pd.DataFrame(df_encoded, columns=categorical_columns)\n",
    "\n",
    "df_encoded.head(5)"
   ],
   "metadata": {
    "collapsed": false
   },
   "id": "f6dc38256f2e4b66",
   "execution_count": null
  },
  {
   "cell_type": "code",
   "outputs": [],
   "source": [
    "df = pd.concat([numeric_columns_df, df_encoded, df[\"price\"]], axis=1)\n",
    "df.head(5)"
   ],
   "metadata": {
    "collapsed": false
   },
   "id": "6619043a678671d8",
   "execution_count": null
  },
  {
   "cell_type": "code",
   "outputs": [],
   "source": [
    "stratify_columns = [\"anul producției\", \"marca\", \"combustibil\", \"cutie de viteze\", \"tip caroserie\", \"stare\"]\n",
    "df[\"stratify_key\"] = df[stratify_columns].astype(str).agg(\"_\".join, axis=1)\n",
    "\n",
    "df.head(5)\n",
    "\n",
    "# print the number of unique stratify keys\n",
    "print(f'Number of unique stratify keys: {len(df[\"stratify_key\"].unique())}')"
   ],
   "metadata": {
    "collapsed": false
   },
   "id": "574ad5078a81f82e",
   "execution_count": null
  },
  {
   "cell_type": "code",
   "outputs": [],
   "source": [
    "print(f\"Number of rows before removing outliers: {len(df)}\")\n",
    "df = df[df[\"stratify_key\"].map(df[\"stratify_key\"].value_counts()) > 1]\n",
    "print(f\"Number of rows after removing outliers: {len(df)}\")\n",
    "print(f'Number of unique stratify keys: {len(df[\"stratify_key\"].unique())}')"
   ],
   "metadata": {
    "collapsed": false
   },
   "id": "c7b7a0c3c277b980",
   "execution_count": null
  },
  {
   "cell_type": "code",
   "outputs": [],
   "source": [
    "from sklearn.model_selection import StratifiedShuffleSplit\n",
    "\n",
    "sss = StratifiedShuffleSplit(n_splits=1, test_size=0.2, random_state=42)"
   ],
   "metadata": {
    "collapsed": false
   },
   "id": "26eab9d08ba1ffd4",
   "execution_count": null
  },
  {
   "cell_type": "code",
   "outputs": [],
   "source": [
    "for train_index, test_index in sss.split(df, df[\"stratify_key\"]):\n",
    "    train_set = df.iloc[train_index]\n",
    "    test_set = df.iloc[test_index]\n",
    "\n",
    "train_df = train_set.drop(\"stratify_key\", axis=1)\n",
    "test_df = test_set.drop(\"stratify_key\", axis=1)\n",
    "\n",
    "train_df.head(5)"
   ],
   "metadata": {
    "collapsed": false
   },
   "id": "3a0e57fa3bd4abc6",
   "execution_count": null
  },
  {
   "cell_type": "code",
   "outputs": [],
   "source": [
    "train_df.to_csv(\"rocar_train.csv\", index=False)\n",
    "test_df.to_csv(\"rocar_test.csv\", index=False)"
   ],
   "metadata": {
    "collapsed": false
   },
   "id": "abe49ad7ac60f3fe",
   "execution_count": null
  }
 ],
 "metadata": {
  "kernelspec": {
   "display_name": "Python 3",
   "language": "python",
   "name": "python3"
  },
  "language_info": {
   "codemirror_mode": {
    "name": "ipython",
    "version": 2
   },
   "file_extension": ".py",
   "mimetype": "text/x-python",
   "name": "python",
   "nbconvert_exporter": "python",
   "pygments_lexer": "ipython2",
   "version": "2.7.6"
  }
 },
 "nbformat": 4,
 "nbformat_minor": 5
}
