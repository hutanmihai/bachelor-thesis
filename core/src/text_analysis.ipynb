{
 "cells": [
  {
   "cell_type": "code",
   "execution_count": null,
   "id": "initial_id",
   "metadata": {
    "collapsed": true
   },
   "outputs": [],
   "source": [
    "from constants import ROCAR_CSV\n",
    "from langdetect import detect\n",
    "import pandas as pd\n",
    "from tqdm import tqdm\n",
    "\n",
    "df = pd.read_csv(ROCAR_CSV)"
   ]
  },
  {
   "cell_type": "code",
   "outputs": [],
   "source": [
    "from collections import defaultdict\n",
    "\n",
    "languages = {}\n",
    "\n",
    "texts = df[\"description\"].astype(str)\n",
    "failed_indexes = []\n",
    "language_indexes = defaultdict(list)\n",
    "\n",
    "for i, text in enumerate(tqdm(texts)):\n",
    "    try:\n",
    "        if text == \"nan\":\n",
    "            continue\n",
    "        detected = detect(text)\n",
    "        language_indexes[detected].append(i)\n",
    "        if detected in languages.keys():\n",
    "            languages[detected] += 1\n",
    "        else:\n",
    "            languages[detected] = 1\n",
    "    except Exception as e:\n",
    "        print(e)\n",
    "        failed_indexes.append(i)\n",
    "\n",
    "print(languages)\n",
    "print(failed_indexes)\n",
    "print(language_indexes)\n",
    "\n",
    "# {'ro': 29605, 'tl': 1075, 'en': 619, 'it': 524, 'fr': 14, 'de': 5, 'ca': 27, 'hr': 1, 'pt': 3, 'af': 5, 'lt': 1, 'sl': 1, 'es': 3, 'sv': 1, 'tr': 1, 'id': 1, 'sq': 1, 'sk': 1, 'cy': 1, 'nl': 1}"
   ],
   "metadata": {
    "collapsed": false
   },
   "id": "a704b4ef26032891",
   "execution_count": null
  },
  {
   "cell_type": "code",
   "outputs": [],
   "source": [
    "# print all description at the indexes present in the languages_indexes dictionary where the key != ro, waiting for a key input before showing the next one\n",
    "\n",
    "for k, v in language_indexes.items():\n",
    "    if k != \"ro\":\n",
    "        print(k)\n",
    "        for value in v[:1]:\n",
    "            print(df[\"description\"][value])"
   ],
   "metadata": {
    "collapsed": false
   },
   "id": "88d950954930b39c",
   "execution_count": null
  },
  {
   "cell_type": "code",
   "outputs": [],
   "source": [
    "import matplotlib.pyplot as plt\n",
    "import numpy as np\n",
    "import pandas as pd\n",
    "import seaborn as sns\n",
    "import missingno as msno\n",
    "\n",
    "from core.src.constants import CORE_FORMATTED_CSV, ROCAR_CSV\n",
    "\n",
    "sns.set(rc={\"figure.figsize\": (10, 10)})\n",
    "plt.figure(figsize=(10, 8))\n",
    "df = pd.read_csv(ROCAR_CSV)"
   ],
   "metadata": {
    "collapsed": false
   },
   "id": "fcbefd277e2acde3",
   "execution_count": null
  },
  {
   "cell_type": "code",
   "outputs": [],
   "source": [
    "msno.bar(df)"
   ],
   "metadata": {
    "collapsed": false
   },
   "id": "6f1af6bf93f41e31",
   "execution_count": null
  },
  {
   "cell_type": "code",
   "outputs": [],
   "source": [
    "# print average len of description column\n",
    "print(df[\"description\"].astype(str).replace(\"nan\", \"\").apply(len).mean())"
   ],
   "metadata": {
    "collapsed": false
   },
   "id": "e1eb1b675400e7c2",
   "execution_count": null
  },
  {
   "cell_type": "code",
   "outputs": [],
   "source": [
    "# concatenate the following columns to description: \"audio si tehnologie\", \"confort si echipamente optionale\", \"electronice si sisteme de asistenta\", \"performanta\", \"siguranta\", \"culoare\"\n",
    "\n",
    "# first make time astype(str) to avoid errors\n",
    "df[\"description\"] = df[\"description\"].astype(str).replace(\"nan\", \"\")\n",
    "df[\"audio si tehnologie\"] = df[\"audio si tehnologie\"].astype(str).replace(\"nan\", \"\")\n",
    "df[\"confort si echipamente optionale\"] = df[\"confort si echipamente optionale\"].astype(str).replace(\"nan\", \"\")\n",
    "df[\"electronice si sisteme de asistenta\"] = df[\"electronice si sisteme de asistenta\"].astype(str).replace(\"nan\", \"\")\n",
    "df[\"performanta\"] = df[\"performanta\"].astype(str).replace(\"nan\", \"\")\n",
    "df[\"siguranta\"] = df[\"siguranta\"].astype(str).replace(\"nan\", \"\")\n",
    "df[\"culoare\"] = df[\"culoare\"].astype(str).replace(\"nan\", \"\")\n",
    "\n",
    "df[\"description\"] = (\n",
    "    df[\"description\"]\n",
    "    + \" \"\n",
    "    + df[\"audio si tehnologie\"]\n",
    "    + \" \"\n",
    "    + df[\"confort si echipamente optionale\"]\n",
    "    + \" \"\n",
    "    + df[\"electronice si sisteme de asistenta\"]\n",
    "    + \" \"\n",
    "    + df[\"performanta\"]\n",
    "    + \" \"\n",
    "    + df[\"siguranta\"]\n",
    "    + \" \"\n",
    "    + df[\"culoare\"]\n",
    ")"
   ],
   "metadata": {
    "collapsed": false
   },
   "id": "c3f4af002b87cb9c",
   "execution_count": null
  },
  {
   "cell_type": "code",
   "outputs": [],
   "source": [
    "print(df[\"description\"][0])\n",
    "\n",
    "# plot the distribution of len of description column\n",
    "df[\"description\"].astype(str).replace(\"nan\", \"\").apply(len).hist()\n",
    "plt.show()"
   ],
   "metadata": {
    "collapsed": false
   },
   "id": "1afddc57f3d8b303",
   "execution_count": null
  },
  {
   "cell_type": "code",
   "outputs": [],
   "source": [
    "# print average len of description column\n",
    "print(df[\"description\"].astype(str).replace(\"nan\", \"\").apply(len).mean())"
   ],
   "metadata": {
    "collapsed": false
   },
   "id": "b4e10bc41de713cd",
   "execution_count": null
  },
  {
   "cell_type": "code",
   "outputs": [],
   "source": [
    "# replace phone numbers with [TEL] and email addresses with [EMAIL], also replace html tags with [HTML]\n",
    "import re\n",
    "\n",
    "df = df[\"description\"].astype(str)\n",
    "\n",
    "\n",
    "def replace_patterns(text: str):\n",
    "    email_pattern = r\"\\b[A-Za-z0-9._%+-]+@[A-Za-z0-9.-]+\\.[A-Z|a-z]{2,}\\b\"\n",
    "    phone_pattern = r\"\\b\\d{3}[-.]?\\d{3}[-.]?\\d{4}\\b\"\n",
    "    html_pattern = r\"<.*?>\"\n",
    "    text = re.sub(email_pattern, \"[EMAIL]\", text)\n",
    "    text = re.sub(phone_pattern, \"[TEL]\", text)\n",
    "    text = re.sub(html_pattern, \"[HTML]\", text)\n",
    "    return text\n",
    "\n",
    "\n",
    "df = df.apply(replace_patterns)"
   ],
   "metadata": {
    "collapsed": false
   },
   "id": "9a4a6e0323938d5a",
   "execution_count": null
  },
  {
   "cell_type": "code",
   "outputs": [],
   "source": [
    "# replace emojis with [EMOJI]\n",
    "import emoji\n",
    "\n",
    "\n",
    "def replace_emojis(text: str):\n",
    "    return emoji.demojize(text, delimiters=(\"[\", \"]\"))\n",
    "\n",
    "\n",
    "def replace_repeated_whitespace(text: str):\n",
    "    return re.sub(r\"\\s+\", \" \", text)\n",
    "\n",
    "\n",
    "df = df.apply(replace_emojis)\n",
    "df = df.apply(replace_repeated_whitespace)"
   ],
   "metadata": {
    "collapsed": false
   },
   "id": "9a6f4e52815afe8f",
   "execution_count": null
  },
  {
   "cell_type": "code",
   "outputs": [],
   "source": [
    "print(len(df))"
   ],
   "metadata": {
    "collapsed": false
   },
   "id": "a0747ebdef301f77",
   "execution_count": null
  },
  {
   "cell_type": "code",
   "outputs": [],
   "source": [
    "# show me a word cloud of the description column\n",
    "\n",
    "from wordcloud import WordCloud\n",
    "\n",
    "all_descriptions = \" \".join(df)\n",
    "\n",
    "# Create a word cloud object\n",
    "wordcloud = WordCloud(width=800, height=400, background_color=\"white\").generate(all_descriptions)\n",
    "\n",
    "# Display the word cloud using matplotlib\n",
    "plt.figure(figsize=(10, 5))\n",
    "plt.imshow(wordcloud, interpolation=\"bilinear\")\n",
    "plt.axis(\"off\")\n",
    "plt.show()"
   ],
   "metadata": {
    "collapsed": false
   },
   "id": "c67a153dc1d36b9c",
   "execution_count": null
  },
  {
   "cell_type": "code",
   "outputs": [],
   "source": [
    "# create me a histogram of word frequency in the description column\n",
    "\n",
    "from collections import Counter\n",
    "\n",
    "# Split the description column into words\n",
    "words = df[2].split()\n",
    "\n",
    "# Count the frequency of each word\n",
    "word_freq = Counter(words)\n",
    "\n",
    "# Create a dataframe from the word frequency dictionary\n",
    "word_freq_df = pd.DataFrame(list(word_freq.items()), columns=[\"Word\", \"Frequency\"])\n",
    "\n",
    "# Sort the dataframe by frequency\n",
    "word_freq_df = word_freq_df.sort_values(by=\"Frequency\", ascending=False)\n",
    "\n",
    "# Plot the histogram\n",
    "plt.figure(figsize=(10, 5))\n",
    "plt.bar(word_freq_df[\"Word\"][:10], word_freq_df[\"Frequency\"][:10])\n",
    "plt.xlabel(\"Word\")\n",
    "plt.ylabel(\"Frequency\")\n",
    "plt.title(\"Top 10 most frequent words in the description column\")\n",
    "plt.show()"
   ],
   "metadata": {
    "collapsed": false
   },
   "id": "e95e0058ee88f544",
   "execution_count": null
  },
  {
   "cell_type": "code",
   "outputs": [],
   "source": [
    "df.to_csv(\"nlp.csv\")"
   ],
   "metadata": {
    "collapsed": false
   },
   "id": "5124d4a820e82367",
   "execution_count": null
  }
 ],
 "metadata": {
  "kernelspec": {
   "display_name": "Python 3",
   "language": "python",
   "name": "python3"
  },
  "language_info": {
   "codemirror_mode": {
    "name": "ipython",
    "version": 2
   },
   "file_extension": ".py",
   "mimetype": "text/x-python",
   "name": "python",
   "nbconvert_exporter": "python",
   "pygments_lexer": "ipython2",
   "version": "2.7.6"
  }
 },
 "nbformat": 4,
 "nbformat_minor": 5
}
