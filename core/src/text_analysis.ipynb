{
 "cells": [
  {
   "cell_type": "code",
   "execution_count": null,
   "id": "initial_id",
   "metadata": {
    "collapsed": true
   },
   "outputs": [],
   "source": [
    "from constants import ROCAR_CSV\n",
    "from langdetect import detect\n",
    "import pandas as pd\n",
    "from tqdm import tqdm\n",
    "\n",
    "df = pd.read_csv(ROCAR_CSV)"
   ]
  },
  {
   "cell_type": "code",
   "outputs": [],
   "source": [
    "from collections import defaultdict\n",
    "\n",
    "languages = {}\n",
    "\n",
    "texts = df[\"input\"].astype(str)\n",
    "failed_indexes = []\n",
    "language_indexes = defaultdict(list)\n",
    "\n",
    "for i, text in enumerate(tqdm(texts)):\n",
    "    try:\n",
    "        if text == \"nan\":\n",
    "            continue\n",
    "        detected = detect(text)\n",
    "        language_indexes[detected].append(i)\n",
    "        if detected in languages.keys():\n",
    "            languages[detected] += 1\n",
    "        else:\n",
    "            languages[detected] = 1\n",
    "    except Exception as e:\n",
    "        print(e)\n",
    "        failed_indexes.append(i)\n",
    "\n",
    "print(languages)\n",
    "print(failed_indexes)\n",
    "print(language_indexes)\n",
    "\n",
    "# {'ro': 29605, 'tl': 1075, 'en': 619, 'it': 524, 'fr': 14, 'de': 5, 'ca': 27, 'hr': 1, 'pt': 3, 'af': 5, 'lt': 1, 'sl': 1, 'es': 3, 'sv': 1, 'tr': 1, 'id': 1, 'sq': 1, 'sk': 1, 'cy': 1, 'nl': 1}"
   ],
   "metadata": {
    "collapsed": false
   },
   "id": "a704b4ef26032891",
   "execution_count": null
  },
  {
   "cell_type": "code",
   "outputs": [],
   "source": [
    "for k, v in language_indexes.items():\n",
    "    if k != \"ro\":\n",
    "        print(k)\n",
    "        for value in v[:1]:\n",
    "            print(df[\"description\"][value])"
   ],
   "metadata": {
    "collapsed": false
   },
   "id": "88d950954930b39c",
   "execution_count": null
  },
  {
   "cell_type": "code",
   "outputs": [],
   "source": [
    "import matplotlib.pyplot as plt\n",
    "import pandas as pd\n",
    "import seaborn as sns\n",
    "\n",
    "from core.src.constants import ROCAR_CSV\n",
    "\n",
    "sns.set(rc={\"figure.figsize\": (10, 10)})\n",
    "plt.figure(figsize=(10, 8))\n",
    "df = pd.read_csv(ROCAR_CSV)"
   ],
   "metadata": {
    "collapsed": false
   },
   "id": "fcbefd277e2acde3",
   "execution_count": null
  },
  {
   "cell_type": "code",
   "outputs": [],
   "source": [
    "print(df[\"input\"][0])\n",
    "\n",
    "print(df[\"input\"].apply(len).mean())\n",
    "df[\"input\"].apply(len).hist()\n",
    "plt.show()"
   ],
   "metadata": {
    "collapsed": false
   },
   "id": "1afddc57f3d8b303",
   "execution_count": null
  },
  {
   "cell_type": "code",
   "outputs": [],
   "source": [
    "# replace phone numbers with [TEL] and email addresses with [EMAIL], also replace html tags with [HTML]\n",
    "import re\n",
    "\n",
    "\n",
    "def replace_patterns(text: str):\n",
    "    email_pattern = r\"\\b[A-Za-z0-9._%+-]+@[A-Za-z0-9.-]+\\.[A-Z|a-z]{2,}\\b\"\n",
    "    phone_pattern = r\"\\b\\d{3}[-.]?\\d{3}[-.]?\\d{4}\\b\"\n",
    "    html_pattern = r\"<.*?>\"\n",
    "    text = re.sub(email_pattern, \"[EMAIL]\", text)\n",
    "    text = re.sub(phone_pattern, \"[TEL]\", text)\n",
    "    text = re.sub(html_pattern, \"[HTML]\", text)\n",
    "    return text\n",
    "\n",
    "\n",
    "df[\"input\"] = df[\"input\"].apply(replace_patterns)"
   ],
   "metadata": {
    "collapsed": false
   },
   "id": "9a4a6e0323938d5a",
   "execution_count": null
  },
  {
   "cell_type": "code",
   "outputs": [],
   "source": [
    "import emoji\n",
    "\n",
    "\n",
    "def replace_emojis(text: str):\n",
    "    return emoji.demojize(text, delimiters=(\"[\", \"]\"))\n",
    "\n",
    "\n",
    "df[\"input\"] = df[\"input\"].apply(replace_emojis)"
   ],
   "metadata": {
    "collapsed": false
   },
   "id": "9a6f4e52815afe8f",
   "execution_count": null
  },
  {
   "cell_type": "code",
   "outputs": [],
   "source": [
    "from wordcloud import WordCloud\n",
    "\n",
    "all_descriptions = \" \".join(df[\"input\"])\n",
    "\n",
    "wordcloud = WordCloud(width=800, height=400, background_color=\"white\").generate(all_descriptions)\n",
    "\n",
    "plt.figure(figsize=(10, 5))\n",
    "plt.imshow(wordcloud, interpolation=\"bilinear\")\n",
    "plt.axis(\"off\")\n",
    "plt.show()"
   ],
   "metadata": {
    "collapsed": false
   },
   "id": "c67a153dc1d36b9c",
   "execution_count": null
  },
  {
   "cell_type": "code",
   "outputs": [],
   "source": [
    "df.to_csv(\"nlp.csv\", index=False)"
   ],
   "metadata": {
    "collapsed": false
   },
   "id": "5124d4a820e82367",
   "execution_count": null
  }
 ],
 "metadata": {
  "kernelspec": {
   "display_name": "Python 3",
   "language": "python",
   "name": "python3"
  },
  "language_info": {
   "codemirror_mode": {
    "name": "ipython",
    "version": 2
   },
   "file_extension": ".py",
   "mimetype": "text/x-python",
   "name": "python",
   "nbconvert_exporter": "python",
   "pygments_lexer": "ipython2",
   "version": "2.7.6"
  }
 },
 "nbformat": 4,
 "nbformat_minor": 5
}
